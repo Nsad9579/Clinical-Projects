{
  "cells": [
    {
      "cell_type": "markdown",
      "metadata": {
        "id": "view-in-github",
        "colab_type": "text"
      },
      "source": [
        "<a href=\"https://colab.research.google.com/github/Nsad9579/Clinical-Projects/blob/main/PySpiro_NHANES.ipynb\" target=\"_parent\"><img src=\"https://colab.research.google.com/assets/colab-badge.svg\" alt=\"Open In Colab\"/></a>"
      ]
    },
    {
      "cell_type": "markdown",
      "source": [
        "# Small Airway Dysfunction (SAD) Risk Prediction "
      ],
      "metadata": {
        "id": "ZtPySPSovkOC"
      }
    },
    {
      "cell_type": "markdown",
      "source": [
        "## Data Gathering"
      ],
      "metadata": {
        "id": "qf3hly392EM4"
      }
    },
    {
      "cell_type": "markdown",
      "source": [
        "### Spirometry data"
      ],
      "metadata": {
        "id": "9rjfeys92R4d"
      }
    },
    {
      "cell_type": "markdown",
      "metadata": {
        "id": "0uWwI1NlrzyQ"
      },
      "source": [
        "#### IMPORT PACKAGEs"
      ]
    },
    {
      "cell_type": "code",
      "execution_count": null,
      "metadata": {
        "id": "zVmon4jBrzyQ",
        "outputId": "ba774630-535a-4111-b275-40ed04012efc"
      },
      "outputs": [
        {
          "name": "stdout",
          "output_type": "stream",
          "text": [
            "Python:  3.7.6\n",
            "pandas:  1.3.5\n",
            "pyarrow:  9.0.0\n"
          ]
        }
      ],
      "source": [
        "import pandas as pd\n",
        "import numpy as np\n",
        "import pyarrow as pa\n",
        "import pyarrow.parquet as pq\n",
        "from sas7bdat import SAS7BDAT\n",
        "import matplotlib.pyplot as plt\n",
        "import platform\n",
        "print('Python: ', platform.python_version())\n",
        "print('pandas: ', pd.__version__)\n",
        "print('pyarrow: ', pa.__version__)"
      ]
    },
    {
      "cell_type": "markdown",
      "source": [
        "#### converting data"
      ],
      "metadata": {
        "id": "uyYTZKU-4fdl"
      }
    },
    {
      "cell_type": "markdown",
      "source": [
        "First I convert raw curve of spirometry from NHANES(2008-2012) into dataframe."
      ],
      "metadata": {
        "id": "rUZ0vbob23VG"
      }
    },
    {
      "cell_type": "code",
      "execution_count": null,
      "metadata": {
        "id": "fQDbxNGfrzyR"
      },
      "outputs": [],
      "source": [
        "with SAS7BDAT('Raw Data/SpiroRawCurve_2008.sas7bdat', skip_header=False) as reader:\n",
        "    SpiroRawCurve_2008 = reader.to_data_frame()\n",
        "with SAS7BDAT('Raw Data/SpiroRawCurve_2010.sas7bdat', skip_header=False) as reader:\n",
        "    SpiroRawCurve_2010 = reader.to_data_frame()\n",
        "with SAS7BDAT('Raw Data/SpiroRawCurve_2012.sas7bdat', skip_header=False) as reader:\n",
        "    SpiroRawCurve_2012 = reader.to_data_frame()"
      ]
    },
    {
      "cell_type": "code",
      "execution_count": null,
      "metadata": {
        "scrolled": false,
        "id": "PaqEgW2krzyS",
        "outputId": "b105ebe1-2d00-4ca4-ea25-1a125c9e19d3"
      },
      "outputs": [
        {
          "data": {
            "text/html": [
              "<div>\n",
              "<style scoped>\n",
              "    .dataframe tbody tr th:only-of-type {\n",
              "        vertical-align: middle;\n",
              "    }\n",
              "\n",
              "    .dataframe tbody tr th {\n",
              "        vertical-align: top;\n",
              "    }\n",
              "\n",
              "    .dataframe thead th {\n",
              "        text-align: right;\n",
              "    }\n",
              "</style>\n",
              "<table border=\"1\" class=\"dataframe\">\n",
              "  <thead>\n",
              "    <tr style=\"text-align: right;\">\n",
              "      <th></th>\n",
              "      <th>SEQN</th>\n",
              "      <th>SPATTYPE</th>\n",
              "      <th>SPAMANU</th>\n",
              "      <th>SPAFACT</th>\n",
              "      <th>SPAPOS</th>\n",
              "      <th>SPAPLAT</th>\n",
              "      <th>SPAACC</th>\n",
              "      <th>SPAQEFF</th>\n",
              "      <th>SPXPTS</th>\n",
              "      <th>SPXRAW</th>\n",
              "    </tr>\n",
              "  </thead>\n",
              "  <tbody>\n",
              "    <tr>\n",
              "      <th>0</th>\n",
              "      <td>41475.0</td>\n",
              "      <td>Pre</td>\n",
              "      <td>1.0</td>\n",
              "      <td>1.128</td>\n",
              "      <td>Standing</td>\n",
              "      <td>Y</td>\n",
              "      <td>Y</td>\n",
              "      <td>B</td>\n",
              "      <td>944.0</td>\n",
              "      <td>0,0,0,-1,-1,-1,0,0,0,0,0,0,1,1,1,1,1,2,1,2,1,2...</td>\n",
              "    </tr>\n",
              "    <tr>\n",
              "      <th>1</th>\n",
              "      <td>41475.0</td>\n",
              "      <td>Pre</td>\n",
              "      <td>2.0</td>\n",
              "      <td>1.128</td>\n",
              "      <td>Standing</td>\n",
              "      <td>Y</td>\n",
              "      <td>Y</td>\n",
              "      <td>A</td>\n",
              "      <td>914.0</td>\n",
              "      <td>0,0,0,0,0,0,0,0,1,1,2,1,1,1,2,2,1,1,2,1,1,1,1,...</td>\n",
              "    </tr>\n",
              "    <tr>\n",
              "      <th>2</th>\n",
              "      <td>41475.0</td>\n",
              "      <td>Pre</td>\n",
              "      <td>3.0</td>\n",
              "      <td>1.128</td>\n",
              "      <td>Standing</td>\n",
              "      <td>Y</td>\n",
              "      <td>Y</td>\n",
              "      <td>A</td>\n",
              "      <td>966.0</td>\n",
              "      <td>0,0,0,0,0,0,0,0,1,1,1,1,2,2,1,1,1,1,1,1,1,1,1,...</td>\n",
              "    </tr>\n",
              "    <tr>\n",
              "      <th>3</th>\n",
              "      <td>41476.0</td>\n",
              "      <td>Pre</td>\n",
              "      <td>1.0</td>\n",
              "      <td>1.095</td>\n",
              "      <td>Standing</td>\n",
              "      <td>N</td>\n",
              "      <td>Y</td>\n",
              "      <td>C</td>\n",
              "      <td>270.0</td>\n",
              "      <td>0,0,0,0,0,0,0,0,0,0,0,-1,-2,-2,-1,0,0,0,0,0,0,...</td>\n",
              "    </tr>\n",
              "    <tr>\n",
              "      <th>4</th>\n",
              "      <td>41476.0</td>\n",
              "      <td>Pre</td>\n",
              "      <td>2.0</td>\n",
              "      <td>1.095</td>\n",
              "      <td>Standing</td>\n",
              "      <td>N</td>\n",
              "      <td>Y</td>\n",
              "      <td>C</td>\n",
              "      <td>397.0</td>\n",
              "      <td>0,0,0,0,0,0,0,0,-1,-1,-1,0,0,0,0,0,0,0,0,0,1,1...</td>\n",
              "    </tr>\n",
              "  </tbody>\n",
              "</table>\n",
              "</div>"
            ],
            "text/plain": [
              "      SEQN SPATTYPE  SPAMANU  SPAFACT    SPAPOS SPAPLAT SPAACC SPAQEFF  \\\n",
              "0  41475.0      Pre      1.0    1.128  Standing       Y      Y       B   \n",
              "1  41475.0      Pre      2.0    1.128  Standing       Y      Y       A   \n",
              "2  41475.0      Pre      3.0    1.128  Standing       Y      Y       A   \n",
              "3  41476.0      Pre      1.0    1.095  Standing       N      Y       C   \n",
              "4  41476.0      Pre      2.0    1.095  Standing       N      Y       C   \n",
              "\n",
              "   SPXPTS                                             SPXRAW  \n",
              "0   944.0  0,0,0,-1,-1,-1,0,0,0,0,0,0,1,1,1,1,1,2,1,2,1,2...  \n",
              "1   914.0  0,0,0,0,0,0,0,0,1,1,2,1,1,1,2,2,1,1,2,1,1,1,1,...  \n",
              "2   966.0  0,0,0,0,0,0,0,0,1,1,1,1,2,2,1,1,1,1,1,1,1,1,1,...  \n",
              "3   270.0  0,0,0,0,0,0,0,0,0,0,0,-1,-2,-2,-1,0,0,0,0,0,0,...  \n",
              "4   397.0  0,0,0,0,0,0,0,0,-1,-1,-1,0,0,0,0,0,0,0,0,0,1,1...  "
            ]
          },
          "execution_count": 7,
          "metadata": {},
          "output_type": "execute_result"
        }
      ],
      "source": [
        "SpiroRawCurve_2008.head()"
      ]
    },
    {
      "cell_type": "code",
      "execution_count": null,
      "metadata": {
        "id": "3wHDjQlDrzyS",
        "outputId": "241238ed-2e42-4fb1-8dc5-74d1b4383d25"
      },
      "outputs": [
        {
          "data": {
            "text/html": [
              "<div>\n",
              "<style scoped>\n",
              "    .dataframe tbody tr th:only-of-type {\n",
              "        vertical-align: middle;\n",
              "    }\n",
              "\n",
              "    .dataframe tbody tr th {\n",
              "        vertical-align: top;\n",
              "    }\n",
              "\n",
              "    .dataframe thead th {\n",
              "        text-align: right;\n",
              "    }\n",
              "</style>\n",
              "<table border=\"1\" class=\"dataframe\">\n",
              "  <thead>\n",
              "    <tr style=\"text-align: right;\">\n",
              "      <th></th>\n",
              "      <th>SEQN</th>\n",
              "      <th>SPATTYPE</th>\n",
              "      <th>SPAMANU</th>\n",
              "      <th>SPAFACT</th>\n",
              "      <th>SPAPOS</th>\n",
              "      <th>SPAPLAT</th>\n",
              "      <th>SPAACC</th>\n",
              "      <th>SPAQEFF</th>\n",
              "      <th>SPXPTS</th>\n",
              "      <th>SPXRAW</th>\n",
              "    </tr>\n",
              "  </thead>\n",
              "  <tbody>\n",
              "    <tr>\n",
              "      <th>0</th>\n",
              "      <td>51626.0</td>\n",
              "      <td>Pre</td>\n",
              "      <td>1.0</td>\n",
              "      <td>1.09</td>\n",
              "      <td>Standing</td>\n",
              "      <td>Y</td>\n",
              "      <td>N</td>\n",
              "      <td>D</td>\n",
              "      <td>1008.0</td>\n",
              "      <td>0,0,0,0,0,0,0,0,0,0,0,0,0,0,0,0,0,0,0,0,0,0,0,...</td>\n",
              "    </tr>\n",
              "    <tr>\n",
              "      <th>1</th>\n",
              "      <td>51626.0</td>\n",
              "      <td>Pre</td>\n",
              "      <td>2.0</td>\n",
              "      <td>1.09</td>\n",
              "      <td>Standing</td>\n",
              "      <td>Y</td>\n",
              "      <td>Y</td>\n",
              "      <td>B</td>\n",
              "      <td>818.0</td>\n",
              "      <td>0,1,-2,-3,-4,-4,-3,-2,-2,-3,-1,-1,3,6,11,13,14...</td>\n",
              "    </tr>\n",
              "    <tr>\n",
              "      <th>2</th>\n",
              "      <td>51626.0</td>\n",
              "      <td>Pre</td>\n",
              "      <td>3.0</td>\n",
              "      <td>1.09</td>\n",
              "      <td>Standing</td>\n",
              "      <td>Y</td>\n",
              "      <td>Y</td>\n",
              "      <td>A</td>\n",
              "      <td>807.0</td>\n",
              "      <td>0,0,0,0,0,0,0,0,0,0,0,0,0,0,0,0,0,0,-1,-2,-2,-...</td>\n",
              "    </tr>\n",
              "    <tr>\n",
              "      <th>3</th>\n",
              "      <td>51626.0</td>\n",
              "      <td>Pre</td>\n",
              "      <td>4.0</td>\n",
              "      <td>1.09</td>\n",
              "      <td>Standing</td>\n",
              "      <td>Y</td>\n",
              "      <td>Y</td>\n",
              "      <td>A</td>\n",
              "      <td>845.0</td>\n",
              "      <td>0,0,0,0,0,0,0,0,0,0,0,0,0,0,0,0,0,0,0,0,0,0,0,...</td>\n",
              "    </tr>\n",
              "    <tr>\n",
              "      <th>4</th>\n",
              "      <td>51626.0</td>\n",
              "      <td>Pre</td>\n",
              "      <td>5.0</td>\n",
              "      <td>1.09</td>\n",
              "      <td>Standing</td>\n",
              "      <td>Y</td>\n",
              "      <td>Y</td>\n",
              "      <td>A</td>\n",
              "      <td>931.0</td>\n",
              "      <td>0,0,0,0,0,0,0,0,0,0,0,0,0,0,0,0,0,0,0,0,0,0,0,...</td>\n",
              "    </tr>\n",
              "  </tbody>\n",
              "</table>\n",
              "</div>"
            ],
            "text/plain": [
              "      SEQN SPATTYPE  SPAMANU  SPAFACT    SPAPOS SPAPLAT SPAACC SPAQEFF  \\\n",
              "0  51626.0      Pre      1.0     1.09  Standing       Y      N       D   \n",
              "1  51626.0      Pre      2.0     1.09  Standing       Y      Y       B   \n",
              "2  51626.0      Pre      3.0     1.09  Standing       Y      Y       A   \n",
              "3  51626.0      Pre      4.0     1.09  Standing       Y      Y       A   \n",
              "4  51626.0      Pre      5.0     1.09  Standing       Y      Y       A   \n",
              "\n",
              "   SPXPTS                                             SPXRAW  \n",
              "0  1008.0  0,0,0,0,0,0,0,0,0,0,0,0,0,0,0,0,0,0,0,0,0,0,0,...  \n",
              "1   818.0  0,1,-2,-3,-4,-4,-3,-2,-2,-3,-1,-1,3,6,11,13,14...  \n",
              "2   807.0  0,0,0,0,0,0,0,0,0,0,0,0,0,0,0,0,0,0,-1,-2,-2,-...  \n",
              "3   845.0  0,0,0,0,0,0,0,0,0,0,0,0,0,0,0,0,0,0,0,0,0,0,0,...  \n",
              "4   931.0  0,0,0,0,0,0,0,0,0,0,0,0,0,0,0,0,0,0,0,0,0,0,0,...  "
            ]
          },
          "execution_count": 8,
          "metadata": {},
          "output_type": "execute_result"
        }
      ],
      "source": [
        "SpiroRawCurve_2010.head()"
      ]
    },
    {
      "cell_type": "code",
      "execution_count": null,
      "metadata": {
        "id": "aNBVLFUirzyT",
        "outputId": "502091de-2aa3-4b3b-ad2f-a10c978b11a9"
      },
      "outputs": [
        {
          "data": {
            "text/html": [
              "<div>\n",
              "<style scoped>\n",
              "    .dataframe tbody tr th:only-of-type {\n",
              "        vertical-align: middle;\n",
              "    }\n",
              "\n",
              "    .dataframe tbody tr th {\n",
              "        vertical-align: top;\n",
              "    }\n",
              "\n",
              "    .dataframe thead th {\n",
              "        text-align: right;\n",
              "    }\n",
              "</style>\n",
              "<table border=\"1\" class=\"dataframe\">\n",
              "  <thead>\n",
              "    <tr style=\"text-align: right;\">\n",
              "      <th></th>\n",
              "      <th>SEQN</th>\n",
              "      <th>SPATTYPE</th>\n",
              "      <th>SPAMANU</th>\n",
              "      <th>SPAFACT</th>\n",
              "      <th>SPAPOS</th>\n",
              "      <th>SPAPLAT</th>\n",
              "      <th>SPAACC</th>\n",
              "      <th>SPAQEFF</th>\n",
              "      <th>SPXPTS</th>\n",
              "      <th>SPXRAW</th>\n",
              "    </tr>\n",
              "  </thead>\n",
              "  <tbody>\n",
              "    <tr>\n",
              "      <th>0</th>\n",
              "      <td>62161.0</td>\n",
              "      <td>Pre</td>\n",
              "      <td>1.0</td>\n",
              "      <td>1.075</td>\n",
              "      <td>Standing</td>\n",
              "      <td>Y</td>\n",
              "      <td>N</td>\n",
              "      <td>D</td>\n",
              "      <td>945.0</td>\n",
              "      <td>0,0,0,0,0,0,0,0,0,0,0,0,0,0,0,0,0,0,0,0,0,0,0,...</td>\n",
              "    </tr>\n",
              "    <tr>\n",
              "      <th>1</th>\n",
              "      <td>62161.0</td>\n",
              "      <td>Pre</td>\n",
              "      <td>2.0</td>\n",
              "      <td>1.075</td>\n",
              "      <td>Standing</td>\n",
              "      <td>Y</td>\n",
              "      <td>N</td>\n",
              "      <td>D</td>\n",
              "      <td>1186.0</td>\n",
              "      <td>0,0,-1,-1,-1,0,0,0,0,0,0,0,0,0,0,0,0,0,0,0,0,0...</td>\n",
              "    </tr>\n",
              "    <tr>\n",
              "      <th>2</th>\n",
              "      <td>62161.0</td>\n",
              "      <td>Pre</td>\n",
              "      <td>3.0</td>\n",
              "      <td>1.075</td>\n",
              "      <td>Standing</td>\n",
              "      <td>N</td>\n",
              "      <td>N</td>\n",
              "      <td>D</td>\n",
              "      <td>346.0</td>\n",
              "      <td>0,0,0,0,0,0,0,0,0,0,0,0,0,0,0,0,0,0,0,0,0,0,0,...</td>\n",
              "    </tr>\n",
              "    <tr>\n",
              "      <th>3</th>\n",
              "      <td>62161.0</td>\n",
              "      <td>Pre</td>\n",
              "      <td>4.0</td>\n",
              "      <td>1.075</td>\n",
              "      <td>Standing</td>\n",
              "      <td>N</td>\n",
              "      <td>N</td>\n",
              "      <td>D</td>\n",
              "      <td>270.0</td>\n",
              "      <td>0,0,0,1,0,1,2,1,2,2,1,2,2,2,2,1,2,1,2,1,1,1,1,...</td>\n",
              "    </tr>\n",
              "    <tr>\n",
              "      <th>4</th>\n",
              "      <td>62161.0</td>\n",
              "      <td>Pre</td>\n",
              "      <td>5.0</td>\n",
              "      <td>1.075</td>\n",
              "      <td>Standing</td>\n",
              "      <td>Y</td>\n",
              "      <td>Y</td>\n",
              "      <td>A</td>\n",
              "      <td>807.0</td>\n",
              "      <td>0,0,0,0,0,0,0,0,0,0,0,0,0,0,0,0,0,0,0,0,0,0,0,...</td>\n",
              "    </tr>\n",
              "  </tbody>\n",
              "</table>\n",
              "</div>"
            ],
            "text/plain": [
              "      SEQN SPATTYPE  SPAMANU  SPAFACT    SPAPOS SPAPLAT SPAACC SPAQEFF  \\\n",
              "0  62161.0      Pre      1.0    1.075  Standing       Y      N       D   \n",
              "1  62161.0      Pre      2.0    1.075  Standing       Y      N       D   \n",
              "2  62161.0      Pre      3.0    1.075  Standing       N      N       D   \n",
              "3  62161.0      Pre      4.0    1.075  Standing       N      N       D   \n",
              "4  62161.0      Pre      5.0    1.075  Standing       Y      Y       A   \n",
              "\n",
              "   SPXPTS                                             SPXRAW  \n",
              "0   945.0  0,0,0,0,0,0,0,0,0,0,0,0,0,0,0,0,0,0,0,0,0,0,0,...  \n",
              "1  1186.0  0,0,-1,-1,-1,0,0,0,0,0,0,0,0,0,0,0,0,0,0,0,0,0...  \n",
              "2   346.0  0,0,0,0,0,0,0,0,0,0,0,0,0,0,0,0,0,0,0,0,0,0,0,...  \n",
              "3   270.0  0,0,0,1,0,1,2,1,2,2,1,2,2,2,2,1,2,1,2,1,1,1,1,...  \n",
              "4   807.0  0,0,0,0,0,0,0,0,0,0,0,0,0,0,0,0,0,0,0,0,0,0,0,...  "
            ]
          },
          "execution_count": 9,
          "metadata": {},
          "output_type": "execute_result"
        }
      ],
      "source": [
        "SpiroRawCurve_2012.head()"
      ]
    },
    {
      "cell_type": "markdown",
      "source": [
        "#### concatenation and saving"
      ],
      "metadata": {
        "id": "Lxyc7eQ34mwN"
      }
    },
    {
      "cell_type": "code",
      "execution_count": null,
      "metadata": {
        "id": "8fbsSz6RrzyT"
      },
      "outputs": [],
      "source": [
        "SpiroRawCurve = pd.concat([SpiroRawCurve_2008,SpiroRawCurve_2010,SpiroRawCurve_2012])\n",
        "SpiroRawCurve.to_csv('Raw Data/FSpiroRawCurve.csv')"
      ]
    },
    {
      "cell_type": "markdown",
      "metadata": {
        "id": "lwsxrRdfrzyT"
      },
      "source": [
        "### Other datasets\n",
        "\n",
        "\n",
        "other datasets were :\n",
        "- Cardiovascular Health \n",
        "- Current Health Status \n",
        "- Demographics Data \n",
        "- Diabetes \n",
        "- Occupation \n",
        "- Respiratory Health \n",
        "- Sleep Disorders\n",
        "- Smoking CigaretteUse \n",
        "- Smoking Household mokers \n",
        "- Smoking Recent TobaccoUse \n",
        "- Weight History \n",
        "- Body Measure \n",
        "- Medical Condition"
      ]
    },
    {
      "cell_type": "code",
      "execution_count": null,
      "metadata": {
        "id": "um1Uh6XirzyT"
      },
      "outputs": [],
      "source": [
        "CardiovascularHealth2008 = pd.read_sas('Raw Data/CardiovascularHealth2008.XPT')\n",
        "CardiovascularHealth2010 = pd.read_sas('Raw Data/CardiovascularHealth2010.XPT')\n",
        "CardiovascularHealth2012 = pd.read_sas('Raw Data/CardiovascularHealth2012.XPT')\n",
        "CardiovascularHealth = pd.concat([CardiovascularHealth2008,CardiovascularHealth2010,CardiovascularHealth2012])\n",
        "CardiovascularHealth.to_csv('Raw Data/FCardiovascularHealth.csv')"
      ]
    },
    {
      "cell_type": "code",
      "execution_count": null,
      "metadata": {
        "id": "51LwOsrOrzyU"
      },
      "outputs": [],
      "source": [
        "CurrentHealthStatus2008 = pd.read_sas('Raw Data/CurrentHealthStatus2008.XPT')\n",
        "CurrentHealthStatus2010 = pd.read_sas('Raw Data/CurrentHealthStatus2010.XPT')\n",
        "CurrentHealthStatus2012 = pd.read_sas('Raw Data/CurrentHealthStatus2012.XPT')\n",
        "CurrentHealthStatus = pd.concat([CurrentHealthStatus2008,CurrentHealthStatus2010,CurrentHealthStatus2012])\n",
        "CurrentHealthStatus.to_csv('Raw Data/FCurrentHealthStatus.csv')"
      ]
    },
    {
      "cell_type": "code",
      "execution_count": null,
      "metadata": {
        "id": "nf0B_3mkrzyU"
      },
      "outputs": [],
      "source": [
        "DemographicsData2008 = pd.read_sas('Raw Data/DemographicsData2008.XPT')\n",
        "DemographicsData2010 = pd.read_sas('Raw Data/DemographicsData2010.XPT')\n",
        "DemographicsData2012 = pd.read_sas('Raw Data/DemographicsData2012.XPT')\n",
        "DemographicsData = pd.concat([DemographicsData2008,DemographicsData2010,DemographicsData2012])\n",
        "DemographicsData.to_csv('Raw Data/FDemographicsData.csv')"
      ]
    },
    {
      "cell_type": "code",
      "execution_count": null,
      "metadata": {
        "id": "Kc7FIqmyrzyU"
      },
      "outputs": [],
      "source": [
        "Diabetes2008 = pd.read_sas('Raw Data/Diabetes2008.XPT')\n",
        "Diabetes2010 = pd.read_sas('Raw Data/Diabetes2010.XPT')\n",
        "Diabetes2012 = pd.read_sas('Raw Data/Diabetes2012.XPT')\n",
        "Diabetes = pd.concat([Diabetes2008,Diabetes2010,Diabetes2012])\n",
        "Diabetes.to_csv('Raw Data/FDiabetes.csv')"
      ]
    },
    {
      "cell_type": "code",
      "execution_count": null,
      "metadata": {
        "id": "BN4XKf-6rzyV"
      },
      "outputs": [],
      "source": [
        "Occupation2008 = pd.read_sas('Raw Data/Occupation2008.XPT')\n",
        "Occupation2010 = pd.read_sas('Raw Data/Occupation2010.XPT')\n",
        "Occupation2012 = pd.read_sas('Raw Data/Occupation2012.XPT')\n",
        "Occupation = pd.concat([Occupation2008,Occupation2010,Occupation2012])\n",
        "Occupation.to_csv('Raw Data/FOccupation.csv')"
      ]
    },
    {
      "cell_type": "code",
      "execution_count": null,
      "metadata": {
        "id": "CJZIYe3frzyV"
      },
      "outputs": [],
      "source": [
        "RespiratoryHealth2008 = pd.read_sas('Raw Data/RespiratoryHealth2008.XPT')\n",
        "RespiratoryHealth2010 = pd.read_sas('Raw Data/RespiratoryHealth2010.XPT')\n",
        "RespiratoryHealth2012 = pd.read_sas('Raw Data/RespiratoryHealth2012.XPT')\n",
        "RespiratoryHealth = pd.concat([RespiratoryHealth2008,RespiratoryHealth2010,RespiratoryHealth2012])\n",
        "RespiratoryHealth.to_csv('Raw Data/FRespiratoryHealth.csv')"
      ]
    },
    {
      "cell_type": "code",
      "execution_count": null,
      "metadata": {
        "id": "u-nEwIvkrzyV"
      },
      "outputs": [],
      "source": [
        "SleepDisorders2008 = pd.read_sas('Raw Data/SleepDisorders2008.XPT')\n",
        "SleepDisorders2010 = pd.read_sas('Raw Data/SleepDisorders2010.XPT')\n",
        "SleepDisorders2012 = pd.read_sas('Raw Data/SleepDisorders2012.XPT')\n",
        "SleepDisorders = pd.concat([SleepDisorders2008,SleepDisorders2010,SleepDisorders2012])\n",
        "SleepDisorders.to_csv('Raw Data/FSleepDisorders.csv')"
      ]
    },
    {
      "cell_type": "code",
      "execution_count": null,
      "metadata": {
        "id": "_lSpk4f7rzyV"
      },
      "outputs": [],
      "source": [
        "SmokingCigaretteUse2008 = pd.read_sas('Raw Data/SMQ_E.XPT')\n",
        "SmokingCigaretteUse2010 = pd.read_sas('Raw Data/SMQ_F.XPT')\n",
        "SmokingCigaretteUse2012 = pd.read_sas('Raw Data/SMQ_G.XPT')\n",
        "SmokingCigaretteUse = pd.concat([SmokingCigaretteUse2008,SmokingCigaretteUse2010,SmokingCigaretteUse2012])\n",
        "SmokingCigaretteUse.to_csv('Raw Data/FSmokingCigaretteUse.csv')"
      ]
    },
    {
      "cell_type": "code",
      "execution_count": null,
      "metadata": {
        "id": "QH9yxc1yrzyV"
      },
      "outputs": [],
      "source": [
        "SmokingHouseholdSmokers2008 = pd.read_sas('Raw Data/SmokingHouseholdSmokers2008.XPT')\n",
        "SmokingHouseholdSmokers2010 = pd.read_sas('Raw Data/SmokingHouseholdSmokers2010.XPT')\n",
        "SmokingHouseholdSmokers2012 = pd.read_sas('Raw Data/SmokingHouseholdSmokers2012.XPT')\n",
        "SmokingHouseholdSmokers = pd.concat([SmokingHouseholdSmokers2008,SmokingHouseholdSmokers2010,SmokingHouseholdSmokers2012])\n",
        "SmokingHouseholdSmokers.to_csv('Raw Data/FSmokingHouseholdSmokers.csv')"
      ]
    },
    {
      "cell_type": "code",
      "execution_count": null,
      "metadata": {
        "id": "nd-2vOfFrzyW"
      },
      "outputs": [],
      "source": [
        "SmokingRecentTobaccoUse2008 = pd.read_sas('Raw Data/SmokingRecentTobaccoUse2008.XPT')\n",
        "SmokingRecentTobaccoUse2010 = pd.read_sas('Raw Data/SmokingRecentTobaccoUse2010.XPT')\n",
        "SmokingRecentTobaccoUse2012 = pd.read_sas('Raw Data/SmokingRecentTobaccoUse2012.XPT')\n",
        "SmokingRecentTobaccoUse = pd.concat([SmokingRecentTobaccoUse2008,SmokingRecentTobaccoUse2010,SmokingRecentTobaccoUse2012])\n",
        "SmokingRecentTobaccoUse.to_csv('Raw Data/FSmokingRecentTobaccoUse.csv')"
      ]
    },
    {
      "cell_type": "code",
      "execution_count": null,
      "metadata": {
        "id": "MJAT7z9lrzyW"
      },
      "outputs": [],
      "source": [
        "WeightHistory2008 = pd.read_sas('Raw Data/WeightHistory2008.XPT')\n",
        "WeightHistory2010 = pd.read_sas('Raw Data/WeightHistory2010.XPT')\n",
        "WeightHistory2012 = pd.read_sas('Raw Data/WeightHistory2012.XPT')\n",
        "WeightHistory = pd.concat([WeightHistory2008, WeightHistory2010, WeightHistory2012])\n",
        "WeightHistory.to_csv('Raw Data/FWeightHistory.csv')"
      ]
    },
    {
      "cell_type": "code",
      "execution_count": null,
      "metadata": {
        "id": "ITTLLRenrzyW"
      },
      "outputs": [],
      "source": [
        "BodyMeasure2008 = pd.read_sas('Raw Data/BodyMeasure2008.XPT')\n",
        "BodyMeasure2010 = pd.read_sas('Raw Data/BodyMeasure2010.XPT')\n",
        "BodyMeasure2012 = pd.read_sas('Raw Data/BodyMeasure2012.XPT')\n",
        "BodyMeasure = pd.concat([BodyMeasure2008, BodyMeasure2010, BodyMeasure2012])\n",
        "BodyMeasure.to_csv('Raw Data/FBodyMeasure.csv')"
      ]
    },
    {
      "cell_type": "code",
      "execution_count": null,
      "metadata": {
        "id": "C7884WtYrzyW"
      },
      "outputs": [],
      "source": [
        "MedicalCondition2008 = pd.read_sas('Raw Data/MCQ_E.XPT')\n",
        "MedicalCondition2010 = pd.read_sas('Raw Data/MCQ_F.XPT')\n",
        "MedicalCondition2012 = pd.read_sas('Raw Data/MCQ_G.XPT')\n",
        "MedicalCondition = pd.concat([MedicalCondition2008,MedicalCondition2010,MedicalCondition2012])\n",
        "MedicalCondition.to_csv('Raw Data/FMedicalCondition.csv')"
      ]
    },
    {
      "cell_type": "markdown",
      "metadata": {
        "id": "gSjNXuKmrzyW"
      },
      "source": [
        "#### Import datasets again"
      ]
    },
    {
      "cell_type": "markdown",
      "source": [],
      "metadata": {
        "id": "crh-1jKZviEm"
      }
    },
    {
      "cell_type": "code",
      "execution_count": null,
      "metadata": {
        "id": "nCzDCYRTrzyW"
      },
      "outputs": [],
      "source": [
        "CardiovascularHealth = pd.read_csv('Raw Data/FCardiovascularHealth.csv')\n",
        "CurrentHealthStatus = pd.read_csv('Raw Data/FCurrentHealthStatus.csv')\n",
        "MedicalCondition = pd.read_csv('Raw Data/FMedicalCondition.csv')\n",
        "DemographicsData = pd.read_csv('Raw Data/FDemographicsData.csv')\n",
        "Diabetes = pd.read_csv('Raw Data/FDiabetes.csv')\n",
        "Occupation = pd.read_csv('Raw Data/FOccupation.csv')\n",
        "RespiratoryHealth = pd.read_csv('Raw Data/FRespiratoryHealth.csv')\n",
        "SleepDisorders = pd.read_csv('Raw Data/FSleepDisorders.csv')\n",
        "SmokingCigaretteUse = pd.read_csv('Raw Data/FSmokingCigaretteUse.csv')\n",
        "SmokingHouseholdSmokers = pd.read_csv('Raw Data/FSmokingHouseholdSmokers.csv')\n",
        "SmokingRecentTobaccoUse = pd.read_csv('Raw Data/FSmokingRecentTobaccoUse.csv')\n",
        "WeightHistory = pd.read_csv('Raw Data/FWeightHistory.csv')\n",
        "BodyMeasure = pd.read_csv('Raw Data/FBodyMeasure.csv')\n",
        "SpiroRawCurve = pd.read_csv('Raw Data/FSpiroRawCurve.csv')"
      ]
    },
    {
      "cell_type": "code",
      "execution_count": null,
      "metadata": {
        "id": "WKjpuh22rzyX"
      },
      "outputs": [],
      "source": [
        "All = [CardiovascularHealth ,CurrentHealthStatus ,DemographicsData ,Diabetes ,Occupation ,RespiratoryHealth ,SleepDisorders , \n",
        "      SmokingCigaretteUse ,SmokingHouseholdSmokers ,SmokingRecentTobaccoUse , WeightHistory ,BodyMeasure , MedicalCondition]"
      ]
    },
    {
      "cell_type": "code",
      "execution_count": null,
      "metadata": {
        "id": "rOP0UKkIrzyX"
      },
      "outputs": [],
      "source": [
        "def NAME(obj, namespace):\n",
        "    return [name for name in namespace if namespace[name] is obj]"
      ]
    },
    {
      "cell_type": "code",
      "execution_count": null,
      "metadata": {
        "scrolled": false,
        "id": "eiZ9bSsvrzyX",
        "outputId": "694879bf-798a-4855-d6c3-e76e03faf448"
      },
      "outputs": [
        {
          "name": "stdout",
          "output_type": "stream",
          "text": [
            "the length of CardiovascularHealth Dataframe is :        (11763, 17)\n",
            "the length of CurrentHealthStatus Dataframe is :        (28098, 14)\n",
            "the length of DemographicsData Dataframe is :        (30442, 54)\n",
            "the length of Diabetes Dataframe is :        (29139, 64)\n",
            "the length of Occupation Dataframe is :        (19610, 25)\n",
            "the length of RespiratoryHealth Dataframe is :        (29139, 15)\n",
            "the length of SleepDisorders Dataframe is :        (19610, 28)\n",
            "the length of SmokingCigaretteUse Dataframe is :        (21463, 38)\n",
            "the length of SmokingHouseholdSmokers Dataframe is :        (30442, 5)\n",
            "the length of SmokingRecentTobaccoUse Dataframe is :        (20835, 24)\n",
            "the length of WeightHistory Dataframe is :        (19610, 63)\n",
            "the length of BodyMeasure Dataframe is :        (29353, 30)\n",
            "the length of names Dataframe is :        (29139, 108)\n"
          ]
        }
      ],
      "source": [
        "for names in All:\n",
        "    print(f\"the length of {NAME(names , globals())[0]} Dataframe is :       \" , names.shape)"
      ]
    },
    {
      "cell_type": "code",
      "execution_count": null,
      "metadata": {
        "id": "WfzlEcIWrzyX"
      },
      "outputs": [],
      "source": [
        "MedicalCondition = MedicalCondition.set_index('SEQN')\n",
        "CardiovascularHealth = CardiovascularHealth.set_index('SEQN')\n",
        "CurrentHealthStatus  = CurrentHealthStatus.set_index('SEQN')\n",
        "DemographicsData = DemographicsData.set_index('SEQN')\n",
        "Diabetes = Diabetes.set_index('SEQN')\n",
        "Occupation = Occupation.set_index('SEQN')\n",
        "RespiratoryHealth = RespiratoryHealth.set_index('SEQN')\n",
        "SleepDisorders = SleepDisorders.set_index('SEQN')\n",
        "SmokingCigaretteUse = SmokingCigaretteUse.set_index('SEQN')\n",
        "SmokingHouseholdSmokers = SmokingHouseholdSmokers.set_index('SEQN')\n",
        "SmokingRecentTobaccoUse = SmokingRecentTobaccoUse.set_index('SEQN')\n",
        "WeightHistory = WeightHistory.set_index('SEQN')\n",
        "BodyMeasure = BodyMeasure.set_index('SEQN')"
      ]
    },
    {
      "cell_type": "code",
      "execution_count": null,
      "metadata": {
        "scrolled": true,
        "id": "_COkma1UrzyY"
      },
      "outputs": [],
      "source": [
        "Alls = pd.concat([CardiovascularHealth ,CurrentHealthStatus ,DemographicsData ,\n",
        "                  Diabetes ,Occupation ,RespiratoryHealth ,SleepDisorders , \n",
        "                  SmokingCigaretteUse ,SmokingHouseholdSmokers , \n",
        "                  SmokingRecentTobaccoUse , WeightHistory ,BodyMeasure , MedicalCondition ] , axis = 1)"
      ]
    },
    {
      "cell_type": "code",
      "execution_count": null,
      "metadata": {
        "id": "8nFDi6KbrzyY",
        "outputId": "3ee60a3f-6f43-46ee-b34c-ba75c40ea00a"
      },
      "outputs": [
        {
          "data": {
            "text/html": [
              "<div>\n",
              "<style scoped>\n",
              "    .dataframe tbody tr th:only-of-type {\n",
              "        vertical-align: middle;\n",
              "    }\n",
              "\n",
              "    .dataframe tbody tr th {\n",
              "        vertical-align: top;\n",
              "    }\n",
              "\n",
              "    .dataframe thead th {\n",
              "        text-align: right;\n",
              "    }\n",
              "</style>\n",
              "<table border=\"1\" class=\"dataframe\">\n",
              "  <thead>\n",
              "    <tr style=\"text-align: right;\">\n",
              "      <th></th>\n",
              "      <th>Unnamed: 0</th>\n",
              "      <th>CDQ001</th>\n",
              "      <th>CDQ002</th>\n",
              "      <th>CDQ003</th>\n",
              "      <th>CDQ004</th>\n",
              "      <th>CDQ005</th>\n",
              "      <th>CDQ006</th>\n",
              "      <th>CDQ009A</th>\n",
              "      <th>CDQ009B</th>\n",
              "      <th>CDQ009C</th>\n",
              "      <th>...</th>\n",
              "      <th>MCQ195</th>\n",
              "      <th>MCQ365A</th>\n",
              "      <th>MCQ365B</th>\n",
              "      <th>MCQ365C</th>\n",
              "      <th>MCQ365D</th>\n",
              "      <th>MCQ370A</th>\n",
              "      <th>MCQ370B</th>\n",
              "      <th>MCQ370C</th>\n",
              "      <th>MCQ370D</th>\n",
              "      <th>MCQ380</th>\n",
              "    </tr>\n",
              "    <tr>\n",
              "      <th>SEQN</th>\n",
              "      <th></th>\n",
              "      <th></th>\n",
              "      <th></th>\n",
              "      <th></th>\n",
              "      <th></th>\n",
              "      <th></th>\n",
              "      <th></th>\n",
              "      <th></th>\n",
              "      <th></th>\n",
              "      <th></th>\n",
              "      <th></th>\n",
              "      <th></th>\n",
              "      <th></th>\n",
              "      <th></th>\n",
              "      <th></th>\n",
              "      <th></th>\n",
              "      <th></th>\n",
              "      <th></th>\n",
              "      <th></th>\n",
              "      <th></th>\n",
              "      <th></th>\n",
              "    </tr>\n",
              "  </thead>\n",
              "  <tbody>\n",
              "    <tr>\n",
              "      <th>41475.0</th>\n",
              "      <td>0.0</td>\n",
              "      <td>1.0</td>\n",
              "      <td>2.0</td>\n",
              "      <td>NaN</td>\n",
              "      <td>NaN</td>\n",
              "      <td>NaN</td>\n",
              "      <td>NaN</td>\n",
              "      <td>NaN</td>\n",
              "      <td>NaN</td>\n",
              "      <td>NaN</td>\n",
              "      <td>...</td>\n",
              "      <td>NaN</td>\n",
              "      <td>NaN</td>\n",
              "      <td>NaN</td>\n",
              "      <td>NaN</td>\n",
              "      <td>NaN</td>\n",
              "      <td>NaN</td>\n",
              "      <td>NaN</td>\n",
              "      <td>NaN</td>\n",
              "      <td>NaN</td>\n",
              "      <td>NaN</td>\n",
              "    </tr>\n",
              "    <tr>\n",
              "      <th>41476.0</th>\n",
              "      <td>NaN</td>\n",
              "      <td>NaN</td>\n",
              "      <td>NaN</td>\n",
              "      <td>NaN</td>\n",
              "      <td>NaN</td>\n",
              "      <td>NaN</td>\n",
              "      <td>NaN</td>\n",
              "      <td>NaN</td>\n",
              "      <td>NaN</td>\n",
              "      <td>NaN</td>\n",
              "      <td>...</td>\n",
              "      <td>NaN</td>\n",
              "      <td>NaN</td>\n",
              "      <td>NaN</td>\n",
              "      <td>NaN</td>\n",
              "      <td>NaN</td>\n",
              "      <td>NaN</td>\n",
              "      <td>NaN</td>\n",
              "      <td>NaN</td>\n",
              "      <td>NaN</td>\n",
              "      <td>NaN</td>\n",
              "    </tr>\n",
              "    <tr>\n",
              "      <th>41477.0</th>\n",
              "      <td>1.0</td>\n",
              "      <td>2.0</td>\n",
              "      <td>NaN</td>\n",
              "      <td>NaN</td>\n",
              "      <td>NaN</td>\n",
              "      <td>NaN</td>\n",
              "      <td>NaN</td>\n",
              "      <td>NaN</td>\n",
              "      <td>NaN</td>\n",
              "      <td>NaN</td>\n",
              "      <td>...</td>\n",
              "      <td>NaN</td>\n",
              "      <td>NaN</td>\n",
              "      <td>NaN</td>\n",
              "      <td>NaN</td>\n",
              "      <td>NaN</td>\n",
              "      <td>NaN</td>\n",
              "      <td>NaN</td>\n",
              "      <td>NaN</td>\n",
              "      <td>NaN</td>\n",
              "      <td>NaN</td>\n",
              "    </tr>\n",
              "    <tr>\n",
              "      <th>41478.0</th>\n",
              "      <td>NaN</td>\n",
              "      <td>NaN</td>\n",
              "      <td>NaN</td>\n",
              "      <td>NaN</td>\n",
              "      <td>NaN</td>\n",
              "      <td>NaN</td>\n",
              "      <td>NaN</td>\n",
              "      <td>NaN</td>\n",
              "      <td>NaN</td>\n",
              "      <td>NaN</td>\n",
              "      <td>...</td>\n",
              "      <td>NaN</td>\n",
              "      <td>NaN</td>\n",
              "      <td>NaN</td>\n",
              "      <td>NaN</td>\n",
              "      <td>NaN</td>\n",
              "      <td>NaN</td>\n",
              "      <td>NaN</td>\n",
              "      <td>NaN</td>\n",
              "      <td>NaN</td>\n",
              "      <td>NaN</td>\n",
              "    </tr>\n",
              "    <tr>\n",
              "      <th>41479.0</th>\n",
              "      <td>2.0</td>\n",
              "      <td>2.0</td>\n",
              "      <td>NaN</td>\n",
              "      <td>NaN</td>\n",
              "      <td>NaN</td>\n",
              "      <td>NaN</td>\n",
              "      <td>NaN</td>\n",
              "      <td>NaN</td>\n",
              "      <td>NaN</td>\n",
              "      <td>NaN</td>\n",
              "      <td>...</td>\n",
              "      <td>NaN</td>\n",
              "      <td>NaN</td>\n",
              "      <td>NaN</td>\n",
              "      <td>NaN</td>\n",
              "      <td>NaN</td>\n",
              "      <td>NaN</td>\n",
              "      <td>NaN</td>\n",
              "      <td>NaN</td>\n",
              "      <td>NaN</td>\n",
              "      <td>NaN</td>\n",
              "    </tr>\n",
              "  </tbody>\n",
              "</table>\n",
              "<p>5 rows × 484 columns</p>\n",
              "</div>"
            ],
            "text/plain": [
              "         Unnamed: 0  CDQ001  CDQ002  CDQ003  CDQ004  CDQ005  CDQ006  CDQ009A  \\\n",
              "SEQN                                                                           \n",
              "41475.0         0.0     1.0     2.0     NaN     NaN     NaN     NaN      NaN   \n",
              "41476.0         NaN     NaN     NaN     NaN     NaN     NaN     NaN      NaN   \n",
              "41477.0         1.0     2.0     NaN     NaN     NaN     NaN     NaN      NaN   \n",
              "41478.0         NaN     NaN     NaN     NaN     NaN     NaN     NaN      NaN   \n",
              "41479.0         2.0     2.0     NaN     NaN     NaN     NaN     NaN      NaN   \n",
              "\n",
              "         CDQ009B  CDQ009C  ...  MCQ195  MCQ365A  MCQ365B  MCQ365C  MCQ365D  \\\n",
              "SEQN                       ...                                               \n",
              "41475.0      NaN      NaN  ...     NaN      NaN      NaN      NaN      NaN   \n",
              "41476.0      NaN      NaN  ...     NaN      NaN      NaN      NaN      NaN   \n",
              "41477.0      NaN      NaN  ...     NaN      NaN      NaN      NaN      NaN   \n",
              "41478.0      NaN      NaN  ...     NaN      NaN      NaN      NaN      NaN   \n",
              "41479.0      NaN      NaN  ...     NaN      NaN      NaN      NaN      NaN   \n",
              "\n",
              "         MCQ370A  MCQ370B  MCQ370C  MCQ370D  MCQ380  \n",
              "SEQN                                                 \n",
              "41475.0      NaN      NaN      NaN      NaN     NaN  \n",
              "41476.0      NaN      NaN      NaN      NaN     NaN  \n",
              "41477.0      NaN      NaN      NaN      NaN     NaN  \n",
              "41478.0      NaN      NaN      NaN      NaN     NaN  \n",
              "41479.0      NaN      NaN      NaN      NaN     NaN  \n",
              "\n",
              "[5 rows x 484 columns]"
            ]
          },
          "execution_count": 31,
          "metadata": {},
          "output_type": "execute_result"
        }
      ],
      "source": [
        "Alls.head()"
      ]
    },
    {
      "cell_type": "code",
      "execution_count": null,
      "metadata": {
        "id": "fYjoFc9crzyY"
      },
      "outputs": [],
      "source": [
        "Alls.to_csv('Raw Data/ALLS.csv')"
      ]
    },
    {
      "cell_type": "code",
      "execution_count": null,
      "metadata": {
        "id": "st0N_PcgrzyY",
        "outputId": "41992e29-cfec-4e0e-9628-db5ca7ec146d"
      },
      "outputs": [
        {
          "data": {
            "text/plain": [
              "32"
            ]
          },
          "execution_count": 23,
          "metadata": {},
          "output_type": "execute_result"
        }
      ],
      "source": [
        "cols = [ 'RIDAGEYR' , 'BMXHT', 'RIDRETH1' ,'SMQ680', 'CDQ001' , 'CDQ010' , 'HSD010' , 'HSQ500' , \n",
        "               'HSQ520' , 'RIAGENDR' , 'RIDAGEEX' , 'DIQ010' , 'OCD390G' , 'OCQ510' , 'OCQ530' , \n",
        "               'OCQ550' , 'OCQ570' , 'RDQ070' , 'RDQ031' , 'RDQ140' , 'RDQ050' , 'SLD010H' , 'SLQ050' , 'SLQ090' , 'SLQ100' , 'SLQ120' , \n",
        "               'SMQ020' , 'SMD410' , 'WHD020' , 'BMXWT'  , 'MCQ300B' , 'MCQ010' ]\n",
        "len(cols)"
      ]
    },
    {
      "cell_type": "code",
      "execution_count": null,
      "metadata": {
        "id": "OcmbtwXBrzyZ"
      },
      "outputs": [],
      "source": [
        "Features = Alls[cols]"
      ]
    },
    {
      "cell_type": "code",
      "execution_count": null,
      "metadata": {
        "id": "AYvvjAdorzyZ",
        "outputId": "56b6351b-6269-4a99-de87-066533a7cb4e"
      },
      "outputs": [
        {
          "data": {
            "text/plain": [
              "30442"
            ]
          },
          "execution_count": 25,
          "metadata": {},
          "output_type": "execute_result"
        }
      ],
      "source": [
        "len(Features)"
      ]
    },
    {
      "cell_type": "code",
      "execution_count": null,
      "metadata": {
        "id": "R6cIlhpqrzyZ"
      },
      "outputs": [],
      "source": [
        "Features.to_csv('Raw Data/FFeatures.csv')"
      ]
    },
    {
      "cell_type": "markdown",
      "metadata": {
        "id": "bzZyudCPrzyZ"
      },
      "source": [
        "### Spirometry (our desired lable)"
      ]
    },
    {
      "cell_type": "code",
      "execution_count": null,
      "metadata": {
        "id": "DOp3k2eMrzyZ"
      },
      "outputs": [],
      "source": [
        "SpiroRawCurve = pd.read_csv('Raw Data/FSpiroRawCurve.csv')"
      ]
    },
    {
      "cell_type": "code",
      "execution_count": null,
      "metadata": {
        "id": "0HdJ7TNmrzyZ"
      },
      "outputs": [],
      "source": [
        "Signals = SpiroRawCurve[(SpiroRawCurve['SPAQEFF']=='A') \n",
        "                       & (SpiroRawCurve['SPAPOS']=='Standing')\n",
        "              & (SpiroRawCurve['SPATTYPE']=='Pre') \n",
        "                       & (SpiroRawCurve['SPAACC']=='Y') \n",
        "                      & (SpiroRawCurve['SPAPLAT']=='Y')\n",
        "                      #& (SpiroRawCurve['SPAMANU']=='')\n",
        "]"
      ]
    },
    {
      "cell_type": "code",
      "execution_count": null,
      "metadata": {
        "id": "eN90YFPFrzyZ"
      },
      "outputs": [],
      "source": [
        "Signal_indexed = Signals.set_index('SEQN')"
      ]
    },
    {
      "cell_type": "code",
      "execution_count": null,
      "metadata": {
        "id": "9ESnKc3TrzyZ"
      },
      "outputs": [],
      "source": [
        "SEQNs = Signals.SEQN.unique()\n",
        "lens = Signal_indexed.SPXPTS.unique()\n",
        "dataframe = pd.DataFrame()"
      ]
    },
    {
      "cell_type": "code",
      "execution_count": null,
      "metadata": {
        "id": "i6L_fdV8rzya",
        "outputId": "c90e897a-7cbc-4c8e-e448-922c9c909ff1"
      },
      "outputs": [
        {
          "data": {
            "text/html": [
              "<div>\n",
              "<style scoped>\n",
              "    .dataframe tbody tr th:only-of-type {\n",
              "        vertical-align: middle;\n",
              "    }\n",
              "\n",
              "    .dataframe tbody tr th {\n",
              "        vertical-align: top;\n",
              "    }\n",
              "\n",
              "    .dataframe thead th {\n",
              "        text-align: right;\n",
              "    }\n",
              "</style>\n",
              "<table border=\"1\" class=\"dataframe\">\n",
              "  <thead>\n",
              "    <tr style=\"text-align: right;\">\n",
              "      <th></th>\n",
              "      <th>Unnamed: 0</th>\n",
              "      <th>SPATTYPE</th>\n",
              "      <th>SPAMANU</th>\n",
              "      <th>SPAFACT</th>\n",
              "      <th>SPAPOS</th>\n",
              "      <th>SPAPLAT</th>\n",
              "      <th>SPAACC</th>\n",
              "      <th>SPAQEFF</th>\n",
              "      <th>SPXPTS</th>\n",
              "      <th>SPXRAW</th>\n",
              "    </tr>\n",
              "    <tr>\n",
              "      <th>SEQN</th>\n",
              "      <th></th>\n",
              "      <th></th>\n",
              "      <th></th>\n",
              "      <th></th>\n",
              "      <th></th>\n",
              "      <th></th>\n",
              "      <th></th>\n",
              "      <th></th>\n",
              "      <th></th>\n",
              "      <th></th>\n",
              "    </tr>\n",
              "  </thead>\n",
              "  <tbody>\n",
              "    <tr>\n",
              "      <th>41475.0</th>\n",
              "      <td>1</td>\n",
              "      <td>Pre</td>\n",
              "      <td>2.0</td>\n",
              "      <td>1.128</td>\n",
              "      <td>Standing</td>\n",
              "      <td>Y</td>\n",
              "      <td>Y</td>\n",
              "      <td>A</td>\n",
              "      <td>914.0</td>\n",
              "      <td>0,0,0,0,0,0,0,0,1,1,2,1,1,1,2,2,1,1,2,1,1,1,1,...</td>\n",
              "    </tr>\n",
              "    <tr>\n",
              "      <th>41475.0</th>\n",
              "      <td>2</td>\n",
              "      <td>Pre</td>\n",
              "      <td>3.0</td>\n",
              "      <td>1.128</td>\n",
              "      <td>Standing</td>\n",
              "      <td>Y</td>\n",
              "      <td>Y</td>\n",
              "      <td>A</td>\n",
              "      <td>966.0</td>\n",
              "      <td>0,0,0,0,0,0,0,0,1,1,1,1,2,2,1,1,1,1,1,1,1,1,1,...</td>\n",
              "    </tr>\n",
              "  </tbody>\n",
              "</table>\n",
              "</div>"
            ],
            "text/plain": [
              "         Unnamed: 0 SPATTYPE  SPAMANU  SPAFACT    SPAPOS SPAPLAT SPAACC  \\\n",
              "SEQN                                                                      \n",
              "41475.0           1      Pre      2.0    1.128  Standing       Y      Y   \n",
              "41475.0           2      Pre      3.0    1.128  Standing       Y      Y   \n",
              "\n",
              "        SPAQEFF  SPXPTS                                             SPXRAW  \n",
              "SEQN                                                                        \n",
              "41475.0       A   914.0  0,0,0,0,0,0,0,0,1,1,2,1,1,1,2,2,1,1,2,1,1,1,1,...  \n",
              "41475.0       A   966.0  0,0,0,0,0,0,0,0,1,1,1,1,2,2,1,1,1,1,1,1,1,1,1,...  "
            ]
          },
          "execution_count": 66,
          "metadata": {},
          "output_type": "execute_result"
        }
      ],
      "source": [
        "Signal_indexed[Signal_indexed.index == 41475]"
      ]
    },
    {
      "cell_type": "code",
      "execution_count": null,
      "metadata": {
        "id": "83AINyN9rzya",
        "outputId": "8fba4fdf-7efe-433c-c317-bd4e6a3536a9"
      },
      "outputs": [
        {
          "data": {
            "text/plain": [
              "SEQN\n",
              "41475.0    0,0,0,0,0,0,0,0,1,1,1,1,2,2,1,1,1,1,1,1,1,1,1,...\n",
              "Name: SPXRAW, dtype: object"
            ]
          },
          "execution_count": 67,
          "metadata": {},
          "output_type": "execute_result"
        }
      ],
      "source": [
        "#Signal_indexed[Signal_indexed.index == 41475]\n",
        "Signal_indexed[(Signal_indexed.index == 41475) & (Signal_indexed.SPXPTS == 966)]['SPXRAW']"
      ]
    },
    {
      "cell_type": "code",
      "execution_count": null,
      "metadata": {
        "id": "iF1w-AMirzya"
      },
      "outputs": [],
      "source": [
        "rows = []\n",
        "Signal_indexed = Signal_indexed[Signal_indexed.SPXPTS > 300]\n",
        "SEQNs = Signal_indexed.index.unique()\n",
        "\n",
        "for seqn in SEQNs: \n",
        "    #print(seqn)\n",
        "    A = list(Signal_indexed[Signal_indexed.index == seqn]['SPXPTS'])\n",
        "    spxraw = Signal_indexed[(Signal_indexed.index == seqn) & (Signal_indexed.SPXPTS == max(A))]['SPXRAW'].tolist()\n",
        "    spxpts = Signal_indexed[(Signal_indexed.index == seqn) & (Signal_indexed.SPXPTS == max(A))]['SPXPTS'].tolist()\n",
        "    spxraw = [int(s) for s in spxraw[0].split(',') ]\n",
        "    rows.append([ seqn , spxraw , spxpts[0]])"
      ]
    },
    {
      "cell_type": "code",
      "execution_count": null,
      "metadata": {
        "id": "C32s_uZArzya"
      },
      "outputs": [],
      "source": [
        "final_signals = pd.DataFrame( rows , columns = [ 'seqn' , 'spxraw' , 'spxpts' ] )"
      ]
    },
    {
      "cell_type": "code",
      "execution_count": null,
      "metadata": {
        "id": "7AFOLsb3rzya",
        "outputId": "0658621d-4433-4760-ce23-8013bfa6627d"
      },
      "outputs": [
        {
          "data": {
            "text/plain": [
              "list"
            ]
          },
          "execution_count": 74,
          "metadata": {},
          "output_type": "execute_result"
        }
      ],
      "source": [
        "a = final_signals.spxraw[9]\n",
        "type(a)"
      ]
    },
    {
      "cell_type": "code",
      "execution_count": null,
      "metadata": {
        "id": "e6TQXqF7rzya"
      },
      "outputs": [],
      "source": [
        "final_signals.to_csv('final_signals.csv') "
      ]
    },
    {
      "cell_type": "markdown",
      "metadata": {
        "id": "9j-tbfvRrzya"
      },
      "source": [
        "#### Gathering different dataset"
      ]
    },
    {
      "cell_type": "code",
      "execution_count": null,
      "metadata": {
        "id": "0YMLLVIyrzyb",
        "outputId": "f6963507-7d08-4f06-ea0e-0fa6ae93b1cc"
      },
      "outputs": [
        {
          "name": "stdout",
          "output_type": "stream",
          "text": [
            "final signals shape is  (18658, 2) SeqFeatures shape is (18658, 32)\n"
          ]
        }
      ],
      "source": [
        "Features =  pd.read_csv('Raw Data/FFeatures.csv')\n",
        "#final_signals = pd.read_csv('final_signals.csv') \n",
        "Features = Features.set_index('SEQN')\n",
        "final_signals = final_signals.set_index('seqn')\n",
        "SeqFeatures = Features[Features.index.isin(SEQNs)]\n",
        "print(\"final signals shape is \" , final_signals.shape , \"SeqFeatures shape is\" , SeqFeatures.shape)"
      ]
    },
    {
      "cell_type": "code",
      "execution_count": null,
      "metadata": {
        "id": "Yr-FUEUYrzyb",
        "outputId": "2e6da709-bc6b-4db9-9919-401c0ce749f3"
      },
      "outputs": [
        {
          "data": {
            "text/html": [
              "<div>\n",
              "<style scoped>\n",
              "    .dataframe tbody tr th:only-of-type {\n",
              "        vertical-align: middle;\n",
              "    }\n",
              "\n",
              "    .dataframe tbody tr th {\n",
              "        vertical-align: top;\n",
              "    }\n",
              "\n",
              "    .dataframe thead th {\n",
              "        text-align: right;\n",
              "    }\n",
              "</style>\n",
              "<table border=\"1\" class=\"dataframe\">\n",
              "  <thead>\n",
              "    <tr style=\"text-align: right;\">\n",
              "      <th></th>\n",
              "      <th>RIDAGEYR</th>\n",
              "      <th>BMXHT</th>\n",
              "      <th>RIDRETH1</th>\n",
              "      <th>SMQ680</th>\n",
              "      <th>CDQ001</th>\n",
              "      <th>CDQ010</th>\n",
              "      <th>HSD010</th>\n",
              "      <th>HSQ500</th>\n",
              "      <th>HSQ520</th>\n",
              "      <th>RIAGENDR</th>\n",
              "      <th>...</th>\n",
              "      <th>SLQ050</th>\n",
              "      <th>SLQ090</th>\n",
              "      <th>SLQ100</th>\n",
              "      <th>SLQ120</th>\n",
              "      <th>SMQ020</th>\n",
              "      <th>SMD410</th>\n",
              "      <th>WHD020</th>\n",
              "      <th>BMXWT</th>\n",
              "      <th>MCQ300B</th>\n",
              "      <th>MCQ010</th>\n",
              "    </tr>\n",
              "    <tr>\n",
              "      <th>SEQN</th>\n",
              "      <th></th>\n",
              "      <th></th>\n",
              "      <th></th>\n",
              "      <th></th>\n",
              "      <th></th>\n",
              "      <th></th>\n",
              "      <th></th>\n",
              "      <th></th>\n",
              "      <th></th>\n",
              "      <th></th>\n",
              "      <th></th>\n",
              "      <th></th>\n",
              "      <th></th>\n",
              "      <th></th>\n",
              "      <th></th>\n",
              "      <th></th>\n",
              "      <th></th>\n",
              "      <th></th>\n",
              "      <th></th>\n",
              "      <th></th>\n",
              "      <th></th>\n",
              "    </tr>\n",
              "  </thead>\n",
              "  <tbody>\n",
              "    <tr>\n",
              "      <th>41475.0</th>\n",
              "      <td>62.0</td>\n",
              "      <td>154.7</td>\n",
              "      <td>5.0</td>\n",
              "      <td>2.0</td>\n",
              "      <td>1.0</td>\n",
              "      <td>1.0</td>\n",
              "      <td>3.0</td>\n",
              "      <td>2.0</td>\n",
              "      <td>2.0</td>\n",
              "      <td>2.0</td>\n",
              "      <td>...</td>\n",
              "      <td>1.0</td>\n",
              "      <td>4.000000e+00</td>\n",
              "      <td>4.000000e+00</td>\n",
              "      <td>3.000000e+00</td>\n",
              "      <td>2.0</td>\n",
              "      <td>2.0</td>\n",
              "      <td>308.0</td>\n",
              "      <td>138.9</td>\n",
              "      <td>2.0</td>\n",
              "      <td>1.0</td>\n",
              "    </tr>\n",
              "    <tr>\n",
              "      <th>41476.0</th>\n",
              "      <td>6.0</td>\n",
              "      <td>120.4</td>\n",
              "      <td>5.0</td>\n",
              "      <td>NaN</td>\n",
              "      <td>NaN</td>\n",
              "      <td>NaN</td>\n",
              "      <td>NaN</td>\n",
              "      <td>2.0</td>\n",
              "      <td>2.0</td>\n",
              "      <td>2.0</td>\n",
              "      <td>...</td>\n",
              "      <td>NaN</td>\n",
              "      <td>NaN</td>\n",
              "      <td>NaN</td>\n",
              "      <td>NaN</td>\n",
              "      <td>NaN</td>\n",
              "      <td>2.0</td>\n",
              "      <td>NaN</td>\n",
              "      <td>22.0</td>\n",
              "      <td>2.0</td>\n",
              "      <td>2.0</td>\n",
              "    </tr>\n",
              "    <tr>\n",
              "      <th>41479.0</th>\n",
              "      <td>52.0</td>\n",
              "      <td>154.4</td>\n",
              "      <td>1.0</td>\n",
              "      <td>2.0</td>\n",
              "      <td>2.0</td>\n",
              "      <td>2.0</td>\n",
              "      <td>4.0</td>\n",
              "      <td>2.0</td>\n",
              "      <td>2.0</td>\n",
              "      <td>1.0</td>\n",
              "      <td>...</td>\n",
              "      <td>2.0</td>\n",
              "      <td>1.000000e+00</td>\n",
              "      <td>2.000000e+00</td>\n",
              "      <td>5.397605e-79</td>\n",
              "      <td>2.0</td>\n",
              "      <td>2.0</td>\n",
              "      <td>142.0</td>\n",
              "      <td>65.7</td>\n",
              "      <td>2.0</td>\n",
              "      <td>2.0</td>\n",
              "    </tr>\n",
              "    <tr>\n",
              "      <th>41481.0</th>\n",
              "      <td>21.0</td>\n",
              "      <td>182.7</td>\n",
              "      <td>4.0</td>\n",
              "      <td>2.0</td>\n",
              "      <td>NaN</td>\n",
              "      <td>NaN</td>\n",
              "      <td>1.0</td>\n",
              "      <td>2.0</td>\n",
              "      <td>2.0</td>\n",
              "      <td>1.0</td>\n",
              "      <td>...</td>\n",
              "      <td>2.0</td>\n",
              "      <td>5.397605e-79</td>\n",
              "      <td>5.397605e-79</td>\n",
              "      <td>5.397605e-79</td>\n",
              "      <td>2.0</td>\n",
              "      <td>2.0</td>\n",
              "      <td>175.0</td>\n",
              "      <td>77.9</td>\n",
              "      <td>2.0</td>\n",
              "      <td>2.0</td>\n",
              "    </tr>\n",
              "    <tr>\n",
              "      <th>41482.0</th>\n",
              "      <td>64.0</td>\n",
              "      <td>173.8</td>\n",
              "      <td>1.0</td>\n",
              "      <td>2.0</td>\n",
              "      <td>2.0</td>\n",
              "      <td>1.0</td>\n",
              "      <td>4.0</td>\n",
              "      <td>2.0</td>\n",
              "      <td>2.0</td>\n",
              "      <td>1.0</td>\n",
              "      <td>...</td>\n",
              "      <td>2.0</td>\n",
              "      <td>5.397605e-79</td>\n",
              "      <td>5.397605e-79</td>\n",
              "      <td>5.397605e-79</td>\n",
              "      <td>1.0</td>\n",
              "      <td>2.0</td>\n",
              "      <td>228.0</td>\n",
              "      <td>101.6</td>\n",
              "      <td>2.0</td>\n",
              "      <td>2.0</td>\n",
              "    </tr>\n",
              "    <tr>\n",
              "      <th>...</th>\n",
              "      <td>...</td>\n",
              "      <td>...</td>\n",
              "      <td>...</td>\n",
              "      <td>...</td>\n",
              "      <td>...</td>\n",
              "      <td>...</td>\n",
              "      <td>...</td>\n",
              "      <td>...</td>\n",
              "      <td>...</td>\n",
              "      <td>...</td>\n",
              "      <td>...</td>\n",
              "      <td>...</td>\n",
              "      <td>...</td>\n",
              "      <td>...</td>\n",
              "      <td>...</td>\n",
              "      <td>...</td>\n",
              "      <td>...</td>\n",
              "      <td>...</td>\n",
              "      <td>...</td>\n",
              "      <td>...</td>\n",
              "      <td>...</td>\n",
              "    </tr>\n",
              "    <tr>\n",
              "      <th>71891.0</th>\n",
              "      <td>54.0</td>\n",
              "      <td>166.0</td>\n",
              "      <td>1.0</td>\n",
              "      <td>2.0</td>\n",
              "      <td>1.0</td>\n",
              "      <td>1.0</td>\n",
              "      <td>4.0</td>\n",
              "      <td>9.0</td>\n",
              "      <td>2.0</td>\n",
              "      <td>2.0</td>\n",
              "      <td>...</td>\n",
              "      <td>2.0</td>\n",
              "      <td>NaN</td>\n",
              "      <td>NaN</td>\n",
              "      <td>NaN</td>\n",
              "      <td>2.0</td>\n",
              "      <td>2.0</td>\n",
              "      <td>160.0</td>\n",
              "      <td>78.3</td>\n",
              "      <td>2.0</td>\n",
              "      <td>2.0</td>\n",
              "    </tr>\n",
              "    <tr>\n",
              "      <th>71894.0</th>\n",
              "      <td>11.0</td>\n",
              "      <td>151.2</td>\n",
              "      <td>2.0</td>\n",
              "      <td>NaN</td>\n",
              "      <td>NaN</td>\n",
              "      <td>NaN</td>\n",
              "      <td>NaN</td>\n",
              "      <td>2.0</td>\n",
              "      <td>2.0</td>\n",
              "      <td>1.0</td>\n",
              "      <td>...</td>\n",
              "      <td>NaN</td>\n",
              "      <td>NaN</td>\n",
              "      <td>NaN</td>\n",
              "      <td>NaN</td>\n",
              "      <td>NaN</td>\n",
              "      <td>2.0</td>\n",
              "      <td>NaN</td>\n",
              "      <td>60.9</td>\n",
              "      <td>2.0</td>\n",
              "      <td>2.0</td>\n",
              "    </tr>\n",
              "    <tr>\n",
              "      <th>71895.0</th>\n",
              "      <td>31.0</td>\n",
              "      <td>165.4</td>\n",
              "      <td>5.0</td>\n",
              "      <td>2.0</td>\n",
              "      <td>NaN</td>\n",
              "      <td>NaN</td>\n",
              "      <td>2.0</td>\n",
              "      <td>2.0</td>\n",
              "      <td>2.0</td>\n",
              "      <td>1.0</td>\n",
              "      <td>...</td>\n",
              "      <td>2.0</td>\n",
              "      <td>NaN</td>\n",
              "      <td>NaN</td>\n",
              "      <td>NaN</td>\n",
              "      <td>2.0</td>\n",
              "      <td>2.0</td>\n",
              "      <td>121.0</td>\n",
              "      <td>56.4</td>\n",
              "      <td>2.0</td>\n",
              "      <td>2.0</td>\n",
              "    </tr>\n",
              "    <tr>\n",
              "      <th>71897.0</th>\n",
              "      <td>68.0</td>\n",
              "      <td>163.4</td>\n",
              "      <td>4.0</td>\n",
              "      <td>2.0</td>\n",
              "      <td>2.0</td>\n",
              "      <td>2.0</td>\n",
              "      <td>3.0</td>\n",
              "      <td>1.0</td>\n",
              "      <td>2.0</td>\n",
              "      <td>2.0</td>\n",
              "      <td>...</td>\n",
              "      <td>1.0</td>\n",
              "      <td>NaN</td>\n",
              "      <td>NaN</td>\n",
              "      <td>NaN</td>\n",
              "      <td>2.0</td>\n",
              "      <td>2.0</td>\n",
              "      <td>195.0</td>\n",
              "      <td>91.0</td>\n",
              "      <td>2.0</td>\n",
              "      <td>2.0</td>\n",
              "    </tr>\n",
              "    <tr>\n",
              "      <th>71898.0</th>\n",
              "      <td>65.0</td>\n",
              "      <td>154.7</td>\n",
              "      <td>1.0</td>\n",
              "      <td>2.0</td>\n",
              "      <td>2.0</td>\n",
              "      <td>1.0</td>\n",
              "      <td>3.0</td>\n",
              "      <td>2.0</td>\n",
              "      <td>2.0</td>\n",
              "      <td>2.0</td>\n",
              "      <td>...</td>\n",
              "      <td>2.0</td>\n",
              "      <td>NaN</td>\n",
              "      <td>NaN</td>\n",
              "      <td>NaN</td>\n",
              "      <td>2.0</td>\n",
              "      <td>2.0</td>\n",
              "      <td>153.0</td>\n",
              "      <td>70.3</td>\n",
              "      <td>2.0</td>\n",
              "      <td>2.0</td>\n",
              "    </tr>\n",
              "  </tbody>\n",
              "</table>\n",
              "<p>18648 rows × 32 columns</p>\n",
              "</div>"
            ],
            "text/plain": [
              "         RIDAGEYR  BMXHT  RIDRETH1  SMQ680  CDQ001  CDQ010  HSD010  HSQ500  \\\n",
              "SEQN                                                                         \n",
              "41475.0      62.0  154.7       5.0     2.0     1.0     1.0     3.0     2.0   \n",
              "41476.0       6.0  120.4       5.0     NaN     NaN     NaN     NaN     2.0   \n",
              "41479.0      52.0  154.4       1.0     2.0     2.0     2.0     4.0     2.0   \n",
              "41481.0      21.0  182.7       4.0     2.0     NaN     NaN     1.0     2.0   \n",
              "41482.0      64.0  173.8       1.0     2.0     2.0     1.0     4.0     2.0   \n",
              "...           ...    ...       ...     ...     ...     ...     ...     ...   \n",
              "71891.0      54.0  166.0       1.0     2.0     1.0     1.0     4.0     9.0   \n",
              "71894.0      11.0  151.2       2.0     NaN     NaN     NaN     NaN     2.0   \n",
              "71895.0      31.0  165.4       5.0     2.0     NaN     NaN     2.0     2.0   \n",
              "71897.0      68.0  163.4       4.0     2.0     2.0     2.0     3.0     1.0   \n",
              "71898.0      65.0  154.7       1.0     2.0     2.0     1.0     3.0     2.0   \n",
              "\n",
              "         HSQ520  RIAGENDR  ...  SLQ050        SLQ090        SLQ100  \\\n",
              "SEQN                       ...                                       \n",
              "41475.0     2.0       2.0  ...     1.0  4.000000e+00  4.000000e+00   \n",
              "41476.0     2.0       2.0  ...     NaN           NaN           NaN   \n",
              "41479.0     2.0       1.0  ...     2.0  1.000000e+00  2.000000e+00   \n",
              "41481.0     2.0       1.0  ...     2.0  5.397605e-79  5.397605e-79   \n",
              "41482.0     2.0       1.0  ...     2.0  5.397605e-79  5.397605e-79   \n",
              "...         ...       ...  ...     ...           ...           ...   \n",
              "71891.0     2.0       2.0  ...     2.0           NaN           NaN   \n",
              "71894.0     2.0       1.0  ...     NaN           NaN           NaN   \n",
              "71895.0     2.0       1.0  ...     2.0           NaN           NaN   \n",
              "71897.0     2.0       2.0  ...     1.0           NaN           NaN   \n",
              "71898.0     2.0       2.0  ...     2.0           NaN           NaN   \n",
              "\n",
              "               SLQ120  SMQ020  SMD410  WHD020  BMXWT  MCQ300B  MCQ010  \n",
              "SEQN                                                                   \n",
              "41475.0  3.000000e+00     2.0     2.0   308.0  138.9      2.0     1.0  \n",
              "41476.0           NaN     NaN     2.0     NaN   22.0      2.0     2.0  \n",
              "41479.0  5.397605e-79     2.0     2.0   142.0   65.7      2.0     2.0  \n",
              "41481.0  5.397605e-79     2.0     2.0   175.0   77.9      2.0     2.0  \n",
              "41482.0  5.397605e-79     1.0     2.0   228.0  101.6      2.0     2.0  \n",
              "...               ...     ...     ...     ...    ...      ...     ...  \n",
              "71891.0           NaN     2.0     2.0   160.0   78.3      2.0     2.0  \n",
              "71894.0           NaN     NaN     2.0     NaN   60.9      2.0     2.0  \n",
              "71895.0           NaN     2.0     2.0   121.0   56.4      2.0     2.0  \n",
              "71897.0           NaN     2.0     2.0   195.0   91.0      2.0     2.0  \n",
              "71898.0           NaN     2.0     2.0   153.0   70.3      2.0     2.0  \n",
              "\n",
              "[18648 rows x 32 columns]"
            ]
          },
          "execution_count": 77,
          "metadata": {},
          "output_type": "execute_result"
        }
      ],
      "source": [
        "SeqFeatures.head(-10)"
      ]
    },
    {
      "cell_type": "code",
      "execution_count": null,
      "metadata": {
        "id": "0SWtV4YRrzyb",
        "outputId": "9c9310bb-82fe-4010-8d3d-e1cafc75964d"
      },
      "outputs": [
        {
          "data": {
            "text/html": [
              "<div>\n",
              "<style scoped>\n",
              "    .dataframe tbody tr th:only-of-type {\n",
              "        vertical-align: middle;\n",
              "    }\n",
              "\n",
              "    .dataframe tbody tr th {\n",
              "        vertical-align: top;\n",
              "    }\n",
              "\n",
              "    .dataframe thead th {\n",
              "        text-align: right;\n",
              "    }\n",
              "</style>\n",
              "<table border=\"1\" class=\"dataframe\">\n",
              "  <thead>\n",
              "    <tr style=\"text-align: right;\">\n",
              "      <th></th>\n",
              "      <th>spxraw</th>\n",
              "      <th>spxpts</th>\n",
              "    </tr>\n",
              "    <tr>\n",
              "      <th>seqn</th>\n",
              "      <th></th>\n",
              "      <th></th>\n",
              "    </tr>\n",
              "  </thead>\n",
              "  <tbody>\n",
              "    <tr>\n",
              "      <th>41475.0</th>\n",
              "      <td>[0, 0, 0, 0, 0, 0, 0, 0, 1, 1, 1, 1, 2, 2, 1, ...</td>\n",
              "      <td>966.0</td>\n",
              "    </tr>\n",
              "    <tr>\n",
              "      <th>41476.0</th>\n",
              "      <td>[0, 0, 0, 0, 0, 0, 0, 0, 0, 0, 0, 0, 0, 0, 0, ...</td>\n",
              "      <td>601.0</td>\n",
              "    </tr>\n",
              "    <tr>\n",
              "      <th>41479.0</th>\n",
              "      <td>[0, 0, 0, 0, 0, 0, 0, 0, 0, 0, 0, 0, 0, 0, 0, ...</td>\n",
              "      <td>1201.0</td>\n",
              "    </tr>\n",
              "    <tr>\n",
              "      <th>41481.0</th>\n",
              "      <td>[0, 0, 0, 0, 0, 0, 0, 0, -1, -1, -1, -1, -1, -...</td>\n",
              "      <td>987.0</td>\n",
              "    </tr>\n",
              "    <tr>\n",
              "      <th>41482.0</th>\n",
              "      <td>[0, 0, 0, 0, 0, 0, 0, 0, 0, 0, 0, 0, 0, 0, 0, ...</td>\n",
              "      <td>1175.0</td>\n",
              "    </tr>\n",
              "    <tr>\n",
              "      <th>...</th>\n",
              "      <td>...</td>\n",
              "      <td>...</td>\n",
              "    </tr>\n",
              "    <tr>\n",
              "      <th>71891.0</th>\n",
              "      <td>[0, 0, 0, 0, 0, 0, 0, 0, 0, 0, 0, 0, 0, 0, 0, ...</td>\n",
              "      <td>1316.0</td>\n",
              "    </tr>\n",
              "    <tr>\n",
              "      <th>71894.0</th>\n",
              "      <td>[0, 0, 0, 0, 0, 0, 0, 0, 0, 0, 0, 0, 0, 0, 0, ...</td>\n",
              "      <td>797.0</td>\n",
              "    </tr>\n",
              "    <tr>\n",
              "      <th>71895.0</th>\n",
              "      <td>[0, 0, 0, 0, 0, 0, 0, 0, 0, 0, 0, 0, 0, 0, 0, ...</td>\n",
              "      <td>1020.0</td>\n",
              "    </tr>\n",
              "    <tr>\n",
              "      <th>71897.0</th>\n",
              "      <td>[0, 0, 0, 0, 0, 0, 0, 0, 0, 0, 0, 0, 0, 0, 0, ...</td>\n",
              "      <td>1297.0</td>\n",
              "    </tr>\n",
              "    <tr>\n",
              "      <th>71898.0</th>\n",
              "      <td>[0, -1, -1, -1, 0, 0, -1, -1, -1, 0, 0, 0, 0, ...</td>\n",
              "      <td>1363.0</td>\n",
              "    </tr>\n",
              "  </tbody>\n",
              "</table>\n",
              "<p>18648 rows × 2 columns</p>\n",
              "</div>"
            ],
            "text/plain": [
              "                                                    spxraw  spxpts\n",
              "seqn                                                              \n",
              "41475.0  [0, 0, 0, 0, 0, 0, 0, 0, 1, 1, 1, 1, 2, 2, 1, ...   966.0\n",
              "41476.0  [0, 0, 0, 0, 0, 0, 0, 0, 0, 0, 0, 0, 0, 0, 0, ...   601.0\n",
              "41479.0  [0, 0, 0, 0, 0, 0, 0, 0, 0, 0, 0, 0, 0, 0, 0, ...  1201.0\n",
              "41481.0  [0, 0, 0, 0, 0, 0, 0, 0, -1, -1, -1, -1, -1, -...   987.0\n",
              "41482.0  [0, 0, 0, 0, 0, 0, 0, 0, 0, 0, 0, 0, 0, 0, 0, ...  1175.0\n",
              "...                                                    ...     ...\n",
              "71891.0  [0, 0, 0, 0, 0, 0, 0, 0, 0, 0, 0, 0, 0, 0, 0, ...  1316.0\n",
              "71894.0  [0, 0, 0, 0, 0, 0, 0, 0, 0, 0, 0, 0, 0, 0, 0, ...   797.0\n",
              "71895.0  [0, 0, 0, 0, 0, 0, 0, 0, 0, 0, 0, 0, 0, 0, 0, ...  1020.0\n",
              "71897.0  [0, 0, 0, 0, 0, 0, 0, 0, 0, 0, 0, 0, 0, 0, 0, ...  1297.0\n",
              "71898.0  [0, -1, -1, -1, 0, 0, -1, -1, -1, 0, 0, 0, 0, ...  1363.0\n",
              "\n",
              "[18648 rows x 2 columns]"
            ]
          },
          "execution_count": 80,
          "metadata": {},
          "output_type": "execute_result"
        }
      ],
      "source": [
        "#final_signals = final_signals.set_index('seqn')\n",
        "final_signals.head(-10)"
      ]
    },
    {
      "cell_type": "code",
      "execution_count": null,
      "metadata": {
        "id": "8i94LL2orzyb"
      },
      "outputs": [],
      "source": [
        "preDataset = pd.concat([SeqFeatures , final_signals] , axis = 1)"
      ]
    },
    {
      "cell_type": "code",
      "execution_count": null,
      "metadata": {
        "id": "D96BY8HCrzyb",
        "outputId": "65ad646b-7a3e-49c8-ef65-15bccb10800f"
      },
      "outputs": [
        {
          "data": {
            "text/plain": [
              "list"
            ]
          },
          "execution_count": 87,
          "metadata": {},
          "output_type": "execute_result"
        }
      ],
      "source": [
        "a = preDataset.spxraw[42475]\n",
        "type(a)"
      ]
    },
    {
      "cell_type": "code",
      "execution_count": null,
      "metadata": {
        "id": "Ht_nmHP1rzyc"
      },
      "outputs": [],
      "source": [
        "preDataset.to_csv('Raw Data/preDataset.csv')"
      ]
    },
    {
      "cell_type": "code",
      "execution_count": null,
      "metadata": {
        "id": "puyYRhHjrzyc"
      },
      "outputs": [],
      "source": [
        "#for women >  FEV1 = Race * ((0.0395 * Height) - (0.025 * Age) - 2.6 )\n",
        "# gender(RIAGENDR)    -   Race(RIDRETH1)  -  Height(BMXHT)     -    Age(RIDAGEYR)\n",
        "#for men >  FEV1 = Race * ((0.043 * Height) - (0.029 * Age) - 2.49 )\n",
        "\n",
        "\n",
        "# Asian (0.93)\n",
        "# Black or African American (0.87)\n",
        "# White (1)"
      ]
    },
    {
      "cell_type": "code",
      "execution_count": null,
      "metadata": {
        "id": "_sbBmG-trzyc"
      },
      "outputs": [],
      "source": [
        "import pandas as pd\n",
        "# when you load it from a file\n",
        "preDataset = pd.read_csv('Raw Data/preDataset.csv')\n",
        "preDataset.rename( columns={'Unnamed: 0':'SEQN' } ,inplace=True) \n",
        "SEQNs = preDataset.SEQN.unique()\n",
        "preDataset = preDataset.set_index('SEQN')"
      ]
    },
    {
      "cell_type": "code",
      "execution_count": null,
      "metadata": {
        "id": "uZch_bQgrzyc",
        "outputId": "c7f02c80-f571-43ce-9d17-d89be5a06eb2"
      },
      "outputs": [
        {
          "name": "stdout",
          "output_type": "stream",
          "text": [
            "834\n"
          ]
        }
      ],
      "source": [
        "signal =  preDataset['spxraw'][42475]\n",
        "repair_S = [signal[0]]\n",
        "for j in range (1,len(signal)): \n",
        "    repair_S.append(signal[j] + repair_S[j-1])\n",
        "print(len(repair_S))"
      ]
    },
    {
      "cell_type": "code",
      "execution_count": null,
      "metadata": {
        "id": "cjpioAdqrzyd"
      },
      "outputs": [],
      "source": [
        "True_FEV1 = []\n",
        "NL_FEV1 = []\n",
        "\n",
        "for i in SEQNs:\n",
        "    print(i)\n",
        "    repaired = []\n",
        "    signal =  preDataset['spxraw'][i]\n",
        "    repaired.append(signal[0])\n",
        "    \n",
        "    for j in range (1,len(signal)): \n",
        "        repaired.append(signal[j] + repaired[j-1])\n",
        "        \n",
        "    for z in range (0,len(repaired)):\n",
        "        if repaired[z] != 0 :\n",
        "            BREAK_point = repaired.index(repaired[z])\n",
        "            print(BREAK_point)\n",
        "            break\n",
        "\n",
        "    True_FEV1.append(repaired[BREAK_point+99])\n",
        "    Age = preDataset['RIDAGEYR'][i]\n",
        "    Height = preDataset['BMXHT'][i]\n",
        "    Race = preDataset['RIDRETH1'][i]\n",
        "    \n",
        "    if 0 < Age < 81 : \n",
        "        Age = Age\n",
        "    else:\n",
        "        Age = 40\n",
        "    \n",
        "    \n",
        "    if 10 < Height < 240 : \n",
        "        Height = Height\n",
        "    else:\n",
        "        Height = 150\n",
        "    \n",
        "        \n",
        "    if Race == 1 or Race == 2 or Race == 3:\n",
        "        Race = 1 \n",
        "    elif (Race == 4) : \n",
        "        Race = 0.87\n",
        "    elif Race == 5 : \n",
        "        Race = 0.93\n",
        "    else:\n",
        "        Race = 1\n",
        "        \n",
        "     \n",
        "    if preDataset['RIAGENDR'][i] == 1 : \n",
        "        # it's a HE \n",
        "        # FEV1 = Race * ((0.043 * Height) - (0.029 * Age) - 2.49 )\n",
        "        norm_FEV1 = Race * ((0.043 * Height) - (0.029 * Age) - 2.49 )\n",
        "    elif preDataset['RIAGENDR'][i] == 2: \n",
        "        # it's a SHE\n",
        "        # FEV1 = Race * ((0.0395 * Height) - (0.025 * Age) - 2.6 )\n",
        "        norm_FEV1 = Race * ((0.0395 * Height) - (0.025 * Age) - 2.6 )\n",
        "    else :  \n",
        "        norm_FEV1 = (Race * ((0.0395 * Height) - (0.025 * Age) - 2.6 )) +  (Race * ((0.043 * Height) - (0.029 * Age) - 2.49 )) /2\n",
        "        \n",
        "    NL_FEV1.append(norm_FEV1)"
      ]
    },
    {
      "cell_type": "code",
      "execution_count": null,
      "metadata": {
        "id": "5gEZr0Glrzyd"
      },
      "outputs": [],
      "source": [
        "A = [x / (10*y) for x, y in zip(True_FEV1, NL_FEV1)]"
      ]
    },
    {
      "cell_type": "code",
      "execution_count": null,
      "metadata": {
        "id": "2sbehBkPrzyd",
        "outputId": "e6cd3810-c2a9-4b90-e3a5-4f9d0973f3b5"
      },
      "outputs": [
        {
          "data": {
            "text/plain": [
              "2590"
            ]
          },
          "execution_count": 131,
          "metadata": {},
          "output_type": "execute_result"
        }
      ],
      "source": [
        "len([x for x in A  if x > 100])"
      ]
    },
    {
      "cell_type": "code",
      "execution_count": null,
      "metadata": {
        "id": "uzLlq3sbrzyd"
      },
      "outputs": [],
      "source": [
        "True_FEV1 = [x/1000 for x in True_FEV1]"
      ]
    },
    {
      "cell_type": "code",
      "execution_count": null,
      "metadata": {
        "id": "ZjK4EWIZrzyd"
      },
      "outputs": [],
      "source": [
        "preDataset['Label'] = A\n",
        "preDataset['True_FEV1'] = True_FEV1\n",
        "preDataset['NL_FEV1'] = NL_FEV1"
      ]
    },
    {
      "cell_type": "code",
      "execution_count": null,
      "metadata": {
        "id": "X3k_dR85rzye"
      },
      "outputs": [],
      "source": [
        "preDataset.to_csv(\"Raw Data/DatasetRegress.csv\")"
      ]
    },
    {
      "cell_type": "code",
      "execution_count": null,
      "metadata": {
        "id": "OqvOSbiOrzye",
        "outputId": "14c3f7a6-2a13-4024-f03f-699a3502dfe9"
      },
      "outputs": [
        {
          "data": {
            "text/plain": [
              "(18658, 37)"
            ]
          },
          "execution_count": 143,
          "metadata": {},
          "output_type": "execute_result"
        }
      ],
      "source": [
        "preDataset.shape"
      ]
    },
    {
      "cell_type": "code",
      "execution_count": null,
      "metadata": {
        "id": "8Uo3mLnArzye"
      },
      "outputs": [],
      "source": [
        "RiskClass = []\n",
        "for x in preDataset['Label']:\n",
        "    if   x < 30:\n",
        "        RiskClass.append(1)\n",
        "    elif  30 <= x < 50:\n",
        "        RiskClass.append(2)\n",
        "    elif  50 <= x < 70:\n",
        "        RiskClass.append(3)\n",
        "    elif  70 <= x < 80:\n",
        "        RiskClass.append(4)\n",
        "    elif  80 <= x:\n",
        "        RiskClass.append(5)"
      ]
    },
    {
      "cell_type": "code",
      "execution_count": null,
      "metadata": {
        "id": "9_lTp36Yrzye"
      },
      "outputs": [],
      "source": [
        "preDataset['RiskClass'] = RiskClass\n",
        "preDataset.to_csv(\"Raw Data/DatasetClass.csv\")"
      ]
    },
    {
      "cell_type": "code",
      "execution_count": null,
      "metadata": {
        "id": "lBWmUvRzrzye"
      },
      "outputs": [],
      "source": [
        "preDataset.drop()"
      ]
    },
    {
      "cell_type": "code",
      "execution_count": null,
      "metadata": {
        "id": "8CjIpzQVrzye"
      },
      "outputs": [],
      "source": [
        "preDataset.drop(preDataset[['RIDAGEYR','BMXHT','RIDRETH1','spxraw','spxpts','Label','True_FEV1','NL_FEV1']])"
      ]
    },
    {
      "cell_type": "markdown",
      "metadata": {
        "id": "NrwGVmT2rzye"
      },
      "source": [
        "### PreProcessing ... "
      ]
    },
    {
      "cell_type": "code",
      "execution_count": null,
      "metadata": {
        "id": "wKyIP6_Drzyf"
      },
      "outputs": [],
      "source": [
        "cols = [ 'SMQ680', 'CDQ001' , 'CDQ010' , 'HSD010' , 'HSQ500' , 'HSQ520' , 'RIAGENDR' , 'RIDAGEEX' , \n",
        "        'DIQ010' , 'OCD390G' , 'OCQ510' , 'OCQ530' ,'OCQ550' , 'OCQ570' , 'RDQ070' , 'RDQ031' , \n",
        "        'RDQ140' , 'RDQ050' , 'SLD010H' , 'SLQ050' , 'SLQ090' , 'SLQ100' , 'SLQ120' , \n",
        "        'SMQ020' , 'SMD410' , 'WHD020' , 'BMXWT'  , 'MCQ300B' , 'MCQ010' ]"
      ]
    },
    {
      "cell_type": "code",
      "execution_count": null,
      "metadata": {
        "id": "SRSwvmaqrzyf"
      },
      "outputs": [],
      "source": [
        "df = pd.read_csv('Raw Data/Dataset.csv')"
      ]
    },
    {
      "cell_type": "code",
      "execution_count": null,
      "metadata": {
        "id": "gVqxURRQrzyf",
        "outputId": "734b6ae6-837e-4e17-c0f9-db6ff007c904"
      },
      "outputs": [
        {
          "data": {
            "text/html": [
              "<div>\n",
              "<style scoped>\n",
              "    .dataframe tbody tr th:only-of-type {\n",
              "        vertical-align: middle;\n",
              "    }\n",
              "\n",
              "    .dataframe tbody tr th {\n",
              "        vertical-align: top;\n",
              "    }\n",
              "\n",
              "    .dataframe thead th {\n",
              "        text-align: right;\n",
              "    }\n",
              "</style>\n",
              "<table border=\"1\" class=\"dataframe\">\n",
              "  <thead>\n",
              "    <tr style=\"text-align: right;\">\n",
              "      <th></th>\n",
              "      <th>Unnamed: 0</th>\n",
              "      <th>RIDAGEYR</th>\n",
              "      <th>BMXHT</th>\n",
              "      <th>RIDRETH1</th>\n",
              "      <th>SMQ680</th>\n",
              "      <th>CDQ001</th>\n",
              "      <th>CDQ010</th>\n",
              "      <th>HSD010</th>\n",
              "      <th>HSQ500</th>\n",
              "      <th>HSQ520</th>\n",
              "      <th>...</th>\n",
              "      <th>SMD410</th>\n",
              "      <th>WHD020</th>\n",
              "      <th>BMXWT</th>\n",
              "      <th>MCQ300B</th>\n",
              "      <th>MCQ010</th>\n",
              "      <th>spxraw</th>\n",
              "      <th>spxpts</th>\n",
              "      <th>Label</th>\n",
              "      <th>True_FEV1</th>\n",
              "      <th>NL_FEV1</th>\n",
              "    </tr>\n",
              "  </thead>\n",
              "  <tbody>\n",
              "  </tbody>\n",
              "</table>\n",
              "<p>0 rows × 38 columns</p>\n",
              "</div>"
            ],
            "text/plain": [
              "Empty DataFrame\n",
              "Columns: [Unnamed: 0, RIDAGEYR, BMXHT, RIDRETH1, SMQ680, CDQ001, CDQ010, HSD010, HSQ500, HSQ520, RIAGENDR, RIDAGEEX, DIQ010, OCD390G, OCQ510, OCQ530, OCQ550, OCQ570, RDQ070, RDQ031, RDQ140, RDQ050, SLD010H, SLQ050, SLQ090, SLQ100, SLQ120, SMQ020, SMD410, WHD020, BMXWT, MCQ300B, MCQ010, spxraw, spxpts, Label, True_FEV1, NL_FEV1]\n",
              "Index: []\n",
              "\n",
              "[0 rows x 38 columns]"
            ]
          },
          "execution_count": 138,
          "metadata": {},
          "output_type": "execute_result"
        }
      ],
      "source": [
        "df[df['NL_FEV1'].isna()]"
      ]
    },
    {
      "cell_type": "code",
      "execution_count": null,
      "metadata": {
        "id": "TFj2QyJ1rzyf",
        "outputId": "22ff4911-87d4-4da6-aec1-7eb3fa32ff3b"
      },
      "outputs": [
        {
          "data": {
            "text/html": [
              "<div>\n",
              "<style scoped>\n",
              "    .dataframe tbody tr th:only-of-type {\n",
              "        vertical-align: middle;\n",
              "    }\n",
              "\n",
              "    .dataframe tbody tr th {\n",
              "        vertical-align: top;\n",
              "    }\n",
              "\n",
              "    .dataframe thead th {\n",
              "        text-align: right;\n",
              "    }\n",
              "</style>\n",
              "<table border=\"1\" class=\"dataframe\">\n",
              "  <thead>\n",
              "    <tr style=\"text-align: right;\">\n",
              "      <th></th>\n",
              "      <th>Unnamed: 0</th>\n",
              "      <th>RIDAGEYR</th>\n",
              "      <th>BMXHT</th>\n",
              "      <th>RIDRETH1</th>\n",
              "      <th>SMQ680</th>\n",
              "      <th>CDQ001</th>\n",
              "      <th>CDQ010</th>\n",
              "      <th>HSD010</th>\n",
              "      <th>HSQ500</th>\n",
              "      <th>HSQ520</th>\n",
              "      <th>...</th>\n",
              "      <th>SMD410</th>\n",
              "      <th>WHD020</th>\n",
              "      <th>BMXWT</th>\n",
              "      <th>MCQ300B</th>\n",
              "      <th>MCQ010</th>\n",
              "      <th>spxraw</th>\n",
              "      <th>spxpts</th>\n",
              "      <th>Label</th>\n",
              "      <th>True_FEV1</th>\n",
              "      <th>NL_FEV1</th>\n",
              "    </tr>\n",
              "  </thead>\n",
              "  <tbody>\n",
              "    <tr>\n",
              "      <th>0</th>\n",
              "      <td>41475.0</td>\n",
              "      <td>62.0</td>\n",
              "      <td>154.7</td>\n",
              "      <td>5.0</td>\n",
              "      <td>2.0</td>\n",
              "      <td>1.0</td>\n",
              "      <td>1.0</td>\n",
              "      <td>3.0</td>\n",
              "      <td>2.0</td>\n",
              "      <td>2.0</td>\n",
              "      <td>...</td>\n",
              "      <td>2.0</td>\n",
              "      <td>308.0</td>\n",
              "      <td>138.9</td>\n",
              "      <td>2.0</td>\n",
              "      <td>1.0</td>\n",
              "      <td>[0, 0, 0, 0, 0, 0, 0, 0, 1, 1, 1, 1, 2, 2, 1, ...</td>\n",
              "      <td>966.0</td>\n",
              "      <td>83.799289</td>\n",
              "      <td>1.528</td>\n",
              "      <td>1.823405</td>\n",
              "    </tr>\n",
              "    <tr>\n",
              "      <th>1</th>\n",
              "      <td>41476.0</td>\n",
              "      <td>6.0</td>\n",
              "      <td>120.4</td>\n",
              "      <td>5.0</td>\n",
              "      <td>NaN</td>\n",
              "      <td>NaN</td>\n",
              "      <td>NaN</td>\n",
              "      <td>NaN</td>\n",
              "      <td>2.0</td>\n",
              "      <td>2.0</td>\n",
              "      <td>...</td>\n",
              "      <td>2.0</td>\n",
              "      <td>NaN</td>\n",
              "      <td>22.0</td>\n",
              "      <td>2.0</td>\n",
              "      <td>2.0</td>\n",
              "      <td>[0, 0, 0, 0, 0, 0, 0, 0, 0, 0, 0, 0, 0, 0, 0, ...</td>\n",
              "      <td>601.0</td>\n",
              "      <td>72.424378</td>\n",
              "      <td>1.351</td>\n",
              "      <td>1.865394</td>\n",
              "    </tr>\n",
              "    <tr>\n",
              "      <th>2</th>\n",
              "      <td>41479.0</td>\n",
              "      <td>52.0</td>\n",
              "      <td>154.4</td>\n",
              "      <td>1.0</td>\n",
              "      <td>2.0</td>\n",
              "      <td>2.0</td>\n",
              "      <td>2.0</td>\n",
              "      <td>4.0</td>\n",
              "      <td>2.0</td>\n",
              "      <td>2.0</td>\n",
              "      <td>...</td>\n",
              "      <td>2.0</td>\n",
              "      <td>142.0</td>\n",
              "      <td>65.7</td>\n",
              "      <td>2.0</td>\n",
              "      <td>2.0</td>\n",
              "      <td>[0, 0, 0, 0, 0, 0, 0, 0, 0, 0, 0, 0, 0, 0, 0, ...</td>\n",
              "      <td>1201.0</td>\n",
              "      <td>93.820990</td>\n",
              "      <td>2.478</td>\n",
              "      <td>2.641200</td>\n",
              "    </tr>\n",
              "    <tr>\n",
              "      <th>3</th>\n",
              "      <td>41481.0</td>\n",
              "      <td>21.0</td>\n",
              "      <td>182.7</td>\n",
              "      <td>4.0</td>\n",
              "      <td>2.0</td>\n",
              "      <td>NaN</td>\n",
              "      <td>NaN</td>\n",
              "      <td>1.0</td>\n",
              "      <td>2.0</td>\n",
              "      <td>2.0</td>\n",
              "      <td>...</td>\n",
              "      <td>2.0</td>\n",
              "      <td>175.0</td>\n",
              "      <td>77.9</td>\n",
              "      <td>2.0</td>\n",
              "      <td>2.0</td>\n",
              "      <td>[0, 0, 0, 0, 0, 0, 0, 0, -1, -1, -1, -1, -1, -...</td>\n",
              "      <td>987.0</td>\n",
              "      <td>87.805837</td>\n",
              "      <td>3.634</td>\n",
              "      <td>4.138677</td>\n",
              "    </tr>\n",
              "    <tr>\n",
              "      <th>4</th>\n",
              "      <td>41482.0</td>\n",
              "      <td>64.0</td>\n",
              "      <td>173.8</td>\n",
              "      <td>1.0</td>\n",
              "      <td>2.0</td>\n",
              "      <td>2.0</td>\n",
              "      <td>1.0</td>\n",
              "      <td>4.0</td>\n",
              "      <td>2.0</td>\n",
              "      <td>2.0</td>\n",
              "      <td>...</td>\n",
              "      <td>2.0</td>\n",
              "      <td>228.0</td>\n",
              "      <td>101.6</td>\n",
              "      <td>2.0</td>\n",
              "      <td>2.0</td>\n",
              "      <td>[0, 0, 0, 0, 0, 0, 0, 0, 0, 0, 0, 0, 0, 0, 0, ...</td>\n",
              "      <td>1175.0</td>\n",
              "      <td>81.057748</td>\n",
              "      <td>2.535</td>\n",
              "      <td>3.127400</td>\n",
              "    </tr>\n",
              "  </tbody>\n",
              "</table>\n",
              "<p>5 rows × 38 columns</p>\n",
              "</div>"
            ],
            "text/plain": [
              "   Unnamed: 0  RIDAGEYR  BMXHT  RIDRETH1  SMQ680  CDQ001  CDQ010  HSD010  \\\n",
              "0     41475.0      62.0  154.7       5.0     2.0     1.0     1.0     3.0   \n",
              "1     41476.0       6.0  120.4       5.0     NaN     NaN     NaN     NaN   \n",
              "2     41479.0      52.0  154.4       1.0     2.0     2.0     2.0     4.0   \n",
              "3     41481.0      21.0  182.7       4.0     2.0     NaN     NaN     1.0   \n",
              "4     41482.0      64.0  173.8       1.0     2.0     2.0     1.0     4.0   \n",
              "\n",
              "   HSQ500  HSQ520  ...  SMD410  WHD020  BMXWT  MCQ300B  MCQ010  \\\n",
              "0     2.0     2.0  ...     2.0   308.0  138.9      2.0     1.0   \n",
              "1     2.0     2.0  ...     2.0     NaN   22.0      2.0     2.0   \n",
              "2     2.0     2.0  ...     2.0   142.0   65.7      2.0     2.0   \n",
              "3     2.0     2.0  ...     2.0   175.0   77.9      2.0     2.0   \n",
              "4     2.0     2.0  ...     2.0   228.0  101.6      2.0     2.0   \n",
              "\n",
              "                                              spxraw  spxpts      Label  \\\n",
              "0  [0, 0, 0, 0, 0, 0, 0, 0, 1, 1, 1, 1, 2, 2, 1, ...   966.0  83.799289   \n",
              "1  [0, 0, 0, 0, 0, 0, 0, 0, 0, 0, 0, 0, 0, 0, 0, ...   601.0  72.424378   \n",
              "2  [0, 0, 0, 0, 0, 0, 0, 0, 0, 0, 0, 0, 0, 0, 0, ...  1201.0  93.820990   \n",
              "3  [0, 0, 0, 0, 0, 0, 0, 0, -1, -1, -1, -1, -1, -...   987.0  87.805837   \n",
              "4  [0, 0, 0, 0, 0, 0, 0, 0, 0, 0, 0, 0, 0, 0, 0, ...  1175.0  81.057748   \n",
              "\n",
              "   True_FEV1   NL_FEV1  \n",
              "0      1.528  1.823405  \n",
              "1      1.351  1.865394  \n",
              "2      2.478  2.641200  \n",
              "3      3.634  4.138677  \n",
              "4      2.535  3.127400  \n",
              "\n",
              "[5 rows x 38 columns]"
            ]
          },
          "execution_count": 128,
          "metadata": {},
          "output_type": "execute_result"
        }
      ],
      "source": [
        "df.head()"
      ]
    },
    {
      "cell_type": "code",
      "execution_count": null,
      "metadata": {
        "id": "86X3Ben5rzyf",
        "outputId": "b65ca353-a63d-4877-dcbf-0d8a88ececbb"
      },
      "outputs": [
        {
          "data": {
            "text/html": [
              "<div>\n",
              "<style scoped>\n",
              "    .dataframe tbody tr th:only-of-type {\n",
              "        vertical-align: middle;\n",
              "    }\n",
              "\n",
              "    .dataframe tbody tr th {\n",
              "        vertical-align: top;\n",
              "    }\n",
              "\n",
              "    .dataframe thead th {\n",
              "        text-align: right;\n",
              "    }\n",
              "</style>\n",
              "<table border=\"1\" class=\"dataframe\">\n",
              "  <thead>\n",
              "    <tr style=\"text-align: right;\">\n",
              "      <th></th>\n",
              "      <th>Unnamed: 0</th>\n",
              "      <th>RIDAGEYR</th>\n",
              "      <th>SMQ680</th>\n",
              "      <th>CDQ001</th>\n",
              "      <th>CDQ010</th>\n",
              "      <th>HSD010</th>\n",
              "      <th>HSQ500</th>\n",
              "      <th>HSQ520</th>\n",
              "      <th>RIAGENDR</th>\n",
              "      <th>RIDAGEEX</th>\n",
              "      <th>...</th>\n",
              "      <th>SMD410</th>\n",
              "      <th>WHD020</th>\n",
              "      <th>BMXWT</th>\n",
              "      <th>BMXHT</th>\n",
              "      <th>RIDRETH1</th>\n",
              "      <th>RIAGENDR.1</th>\n",
              "      <th>spxpts</th>\n",
              "      <th>Label</th>\n",
              "      <th>True_FEV1</th>\n",
              "      <th>NL_FEV1</th>\n",
              "    </tr>\n",
              "  </thead>\n",
              "  <tbody>\n",
              "    <tr>\n",
              "      <th>count</th>\n",
              "      <td>18646.000000</td>\n",
              "      <td>18646.000000</td>\n",
              "      <td>14721.000000</td>\n",
              "      <td>7810.000000</td>\n",
              "      <td>7810.000000</td>\n",
              "      <td>14749.000000</td>\n",
              "      <td>17415.000000</td>\n",
              "      <td>17415.000000</td>\n",
              "      <td>18646.000000</td>\n",
              "      <td>12445.000000</td>\n",
              "      <td>...</td>\n",
              "      <td>18572.000000</td>\n",
              "      <td>14104.000000</td>\n",
              "      <td>18560.000000</td>\n",
              "      <td>18568.000000</td>\n",
              "      <td>18646.000000</td>\n",
              "      <td>18646.000000</td>\n",
              "      <td>18646.000000</td>\n",
              "      <td>18568.000000</td>\n",
              "      <td>18646.000000</td>\n",
              "      <td>18568.000000</td>\n",
              "    </tr>\n",
              "    <tr>\n",
              "      <th>mean</th>\n",
              "      <td>57045.539848</td>\n",
              "      <td>35.408399</td>\n",
              "      <td>1.766388</td>\n",
              "      <td>1.759027</td>\n",
              "      <td>1.701024</td>\n",
              "      <td>2.689606</td>\n",
              "      <td>1.845995</td>\n",
              "      <td>1.974677</td>\n",
              "      <td>1.495602</td>\n",
              "      <td>437.023945</td>\n",
              "      <td>...</td>\n",
              "      <td>1.843797</td>\n",
              "      <td>265.561756</td>\n",
              "      <td>72.645183</td>\n",
              "      <td>162.737145</td>\n",
              "      <td>2.936823</td>\n",
              "      <td>1.495602</td>\n",
              "      <td>1076.947281</td>\n",
              "      <td>80.478680</td>\n",
              "      <td>2.497644</td>\n",
              "      <td>3.106175</td>\n",
              "    </tr>\n",
              "    <tr>\n",
              "      <th>std</th>\n",
              "      <td>8729.217888</td>\n",
              "      <td>20.887982</td>\n",
              "      <td>0.438749</td>\n",
              "      <td>0.444152</td>\n",
              "      <td>0.480760</td>\n",
              "      <td>0.957428</td>\n",
              "      <td>0.491513</td>\n",
              "      <td>0.332725</td>\n",
              "      <td>0.499994</td>\n",
              "      <td>251.864490</td>\n",
              "      <td>...</td>\n",
              "      <td>0.375596</td>\n",
              "      <td>922.977066</td>\n",
              "      <td>25.876694</td>\n",
              "      <td>15.268541</td>\n",
              "      <td>1.196571</td>\n",
              "      <td>0.499994</td>\n",
              "      <td>316.821698</td>\n",
              "      <td>18.370930</td>\n",
              "      <td>0.837657</td>\n",
              "      <td>0.778526</td>\n",
              "    </tr>\n",
              "    <tr>\n",
              "      <th>min</th>\n",
              "      <td>41475.000000</td>\n",
              "      <td>6.000000</td>\n",
              "      <td>1.000000</td>\n",
              "      <td>1.000000</td>\n",
              "      <td>1.000000</td>\n",
              "      <td>1.000000</td>\n",
              "      <td>1.000000</td>\n",
              "      <td>1.000000</td>\n",
              "      <td>1.000000</td>\n",
              "      <td>73.000000</td>\n",
              "      <td>...</td>\n",
              "      <td>1.000000</td>\n",
              "      <td>76.000000</td>\n",
              "      <td>16.100000</td>\n",
              "      <td>104.600000</td>\n",
              "      <td>1.000000</td>\n",
              "      <td>1.000000</td>\n",
              "      <td>403.000000</td>\n",
              "      <td>5.552082</td>\n",
              "      <td>0.111000</td>\n",
              "      <td>0.827414</td>\n",
              "    </tr>\n",
              "    <tr>\n",
              "      <th>25%</th>\n",
              "      <td>49640.250000</td>\n",
              "      <td>16.000000</td>\n",
              "      <td>2.000000</td>\n",
              "      <td>2.000000</td>\n",
              "      <td>1.000000</td>\n",
              "      <td>2.000000</td>\n",
              "      <td>2.000000</td>\n",
              "      <td>2.000000</td>\n",
              "      <td>1.000000</td>\n",
              "      <td>202.000000</td>\n",
              "      <td>...</td>\n",
              "      <td>2.000000</td>\n",
              "      <td>145.000000</td>\n",
              "      <td>56.700000</td>\n",
              "      <td>155.700000</td>\n",
              "      <td>2.000000</td>\n",
              "      <td>1.000000</td>\n",
              "      <td>847.000000</td>\n",
              "      <td>67.903474</td>\n",
              "      <td>1.871000</td>\n",
              "      <td>2.549223</td>\n",
              "    </tr>\n",
              "    <tr>\n",
              "      <th>50%</th>\n",
              "      <td>57189.500000</td>\n",
              "      <td>33.000000</td>\n",
              "      <td>2.000000</td>\n",
              "      <td>2.000000</td>\n",
              "      <td>2.000000</td>\n",
              "      <td>3.000000</td>\n",
              "      <td>2.000000</td>\n",
              "      <td>2.000000</td>\n",
              "      <td>1.000000</td>\n",
              "      <td>416.000000</td>\n",
              "      <td>...</td>\n",
              "      <td>2.000000</td>\n",
              "      <td>170.000000</td>\n",
              "      <td>72.000000</td>\n",
              "      <td>164.800000</td>\n",
              "      <td>3.000000</td>\n",
              "      <td>1.000000</td>\n",
              "      <td>1005.000000</td>\n",
              "      <td>81.980003</td>\n",
              "      <td>2.458000</td>\n",
              "      <td>3.059907</td>\n",
              "    </tr>\n",
              "    <tr>\n",
              "      <th>75%</th>\n",
              "      <td>64593.750000</td>\n",
              "      <td>53.000000</td>\n",
              "      <td>2.000000</td>\n",
              "      <td>2.000000</td>\n",
              "      <td>2.000000</td>\n",
              "      <td>3.000000</td>\n",
              "      <td>2.000000</td>\n",
              "      <td>2.000000</td>\n",
              "      <td>2.000000</td>\n",
              "      <td>642.000000</td>\n",
              "      <td>...</td>\n",
              "      <td>2.000000</td>\n",
              "      <td>200.000000</td>\n",
              "      <td>88.000000</td>\n",
              "      <td>173.200000</td>\n",
              "      <td>4.000000</td>\n",
              "      <td>2.000000</td>\n",
              "      <td>1258.000000</td>\n",
              "      <td>93.360224</td>\n",
              "      <td>3.060000</td>\n",
              "      <td>3.649156</td>\n",
              "    </tr>\n",
              "    <tr>\n",
              "      <th>max</th>\n",
              "      <td>71916.000000</td>\n",
              "      <td>79.000000</td>\n",
              "      <td>9.000000</td>\n",
              "      <td>9.000000</td>\n",
              "      <td>9.000000</td>\n",
              "      <td>5.000000</td>\n",
              "      <td>9.000000</td>\n",
              "      <td>9.000000</td>\n",
              "      <td>2.000000</td>\n",
              "      <td>959.000000</td>\n",
              "      <td>...</td>\n",
              "      <td>9.000000</td>\n",
              "      <td>9999.000000</td>\n",
              "      <td>239.400000</td>\n",
              "      <td>204.500000</td>\n",
              "      <td>5.000000</td>\n",
              "      <td>2.000000</td>\n",
              "      <td>2044.000000</td>\n",
              "      <td>160.927649</td>\n",
              "      <td>6.207000</td>\n",
              "      <td>5.572900</td>\n",
              "    </tr>\n",
              "  </tbody>\n",
              "</table>\n",
              "<p>8 rows × 34 columns</p>\n",
              "</div>"
            ],
            "text/plain": [
              "         Unnamed: 0      RIDAGEYR        SMQ680       CDQ001       CDQ010  \\\n",
              "count  18646.000000  18646.000000  14721.000000  7810.000000  7810.000000   \n",
              "mean   57045.539848     35.408399      1.766388     1.759027     1.701024   \n",
              "std     8729.217888     20.887982      0.438749     0.444152     0.480760   \n",
              "min    41475.000000      6.000000      1.000000     1.000000     1.000000   \n",
              "25%    49640.250000     16.000000      2.000000     2.000000     1.000000   \n",
              "50%    57189.500000     33.000000      2.000000     2.000000     2.000000   \n",
              "75%    64593.750000     53.000000      2.000000     2.000000     2.000000   \n",
              "max    71916.000000     79.000000      9.000000     9.000000     9.000000   \n",
              "\n",
              "             HSD010        HSQ500        HSQ520      RIAGENDR      RIDAGEEX  \\\n",
              "count  14749.000000  17415.000000  17415.000000  18646.000000  12445.000000   \n",
              "mean       2.689606      1.845995      1.974677      1.495602    437.023945   \n",
              "std        0.957428      0.491513      0.332725      0.499994    251.864490   \n",
              "min        1.000000      1.000000      1.000000      1.000000     73.000000   \n",
              "25%        2.000000      2.000000      2.000000      1.000000    202.000000   \n",
              "50%        3.000000      2.000000      2.000000      1.000000    416.000000   \n",
              "75%        3.000000      2.000000      2.000000      2.000000    642.000000   \n",
              "max        5.000000      9.000000      9.000000      2.000000    959.000000   \n",
              "\n",
              "       ...        SMD410        WHD020         BMXWT         BMXHT  \\\n",
              "count  ...  18572.000000  14104.000000  18560.000000  18568.000000   \n",
              "mean   ...      1.843797    265.561756     72.645183    162.737145   \n",
              "std    ...      0.375596    922.977066     25.876694     15.268541   \n",
              "min    ...      1.000000     76.000000     16.100000    104.600000   \n",
              "25%    ...      2.000000    145.000000     56.700000    155.700000   \n",
              "50%    ...      2.000000    170.000000     72.000000    164.800000   \n",
              "75%    ...      2.000000    200.000000     88.000000    173.200000   \n",
              "max    ...      9.000000   9999.000000    239.400000    204.500000   \n",
              "\n",
              "           RIDRETH1    RIAGENDR.1        spxpts         Label     True_FEV1  \\\n",
              "count  18646.000000  18646.000000  18646.000000  18568.000000  18646.000000   \n",
              "mean       2.936823      1.495602   1076.947281     80.478680      2.497644   \n",
              "std        1.196571      0.499994    316.821698     18.370930      0.837657   \n",
              "min        1.000000      1.000000    403.000000      5.552082      0.111000   \n",
              "25%        2.000000      1.000000    847.000000     67.903474      1.871000   \n",
              "50%        3.000000      1.000000   1005.000000     81.980003      2.458000   \n",
              "75%        4.000000      2.000000   1258.000000     93.360224      3.060000   \n",
              "max        5.000000      2.000000   2044.000000    160.927649      6.207000   \n",
              "\n",
              "            NL_FEV1  \n",
              "count  18568.000000  \n",
              "mean       3.106175  \n",
              "std        0.778526  \n",
              "min        0.827414  \n",
              "25%        2.549223  \n",
              "50%        3.059907  \n",
              "75%        3.649156  \n",
              "max        5.572900  \n",
              "\n",
              "[8 rows x 34 columns]"
            ]
          },
          "execution_count": 5,
          "metadata": {},
          "output_type": "execute_result"
        }
      ],
      "source": [
        "df.describe()"
      ]
    },
    {
      "cell_type": "code",
      "execution_count": null,
      "metadata": {
        "id": "PMNesCgZrzyf"
      },
      "outputs": [],
      "source": [
        "df_edited = df.drop(['Unnamed: 0', 'NL_FEV1' , 'spxpts' , 'spxraw'] , axis = 1)"
      ]
    },
    {
      "cell_type": "code",
      "execution_count": null,
      "metadata": {
        "id": "aSBwGeTkrzyf",
        "outputId": "fd6915d7-1013-467e-9aa4-5f5cbd441d6a"
      },
      "outputs": [
        {
          "data": {
            "text/html": [
              "<div>\n",
              "<style scoped>\n",
              "    .dataframe tbody tr th:only-of-type {\n",
              "        vertical-align: middle;\n",
              "    }\n",
              "\n",
              "    .dataframe tbody tr th {\n",
              "        vertical-align: top;\n",
              "    }\n",
              "\n",
              "    .dataframe thead th {\n",
              "        text-align: right;\n",
              "    }\n",
              "</style>\n",
              "<table border=\"1\" class=\"dataframe\">\n",
              "  <thead>\n",
              "    <tr style=\"text-align: right;\">\n",
              "      <th></th>\n",
              "      <th>RIDAGEYR</th>\n",
              "      <th>SMQ680</th>\n",
              "      <th>CDQ001</th>\n",
              "      <th>CDQ010</th>\n",
              "      <th>HSD010</th>\n",
              "      <th>HSQ500</th>\n",
              "      <th>HSQ520</th>\n",
              "      <th>RIAGENDR</th>\n",
              "      <th>RIDAGEEX</th>\n",
              "      <th>DIQ010</th>\n",
              "      <th>...</th>\n",
              "      <th>SLQ120</th>\n",
              "      <th>SMQ020</th>\n",
              "      <th>SMD410</th>\n",
              "      <th>WHD020</th>\n",
              "      <th>BMXWT</th>\n",
              "      <th>BMXHT</th>\n",
              "      <th>RIDRETH1</th>\n",
              "      <th>RIAGENDR.1</th>\n",
              "      <th>Label</th>\n",
              "      <th>True_FEV1</th>\n",
              "    </tr>\n",
              "  </thead>\n",
              "  <tbody>\n",
              "    <tr>\n",
              "      <th>0</th>\n",
              "      <td>78</td>\n",
              "      <td>2.0</td>\n",
              "      <td>1.0</td>\n",
              "      <td>1.0</td>\n",
              "      <td>2.0</td>\n",
              "      <td>2.0</td>\n",
              "      <td>2.0</td>\n",
              "      <td>2</td>\n",
              "      <td>938.0</td>\n",
              "      <td>2</td>\n",
              "      <td>...</td>\n",
              "      <td>NaN</td>\n",
              "      <td>2.0</td>\n",
              "      <td>2.0</td>\n",
              "      <td>116.0</td>\n",
              "      <td>53.0</td>\n",
              "      <td>143.9</td>\n",
              "      <td>3</td>\n",
              "      <td>2</td>\n",
              "      <td>160.927649</td>\n",
              "      <td>1.825</td>\n",
              "    </tr>\n",
              "    <tr>\n",
              "      <th>1</th>\n",
              "      <td>72</td>\n",
              "      <td>NaN</td>\n",
              "      <td>2.0</td>\n",
              "      <td>2.0</td>\n",
              "      <td>NaN</td>\n",
              "      <td>NaN</td>\n",
              "      <td>NaN</td>\n",
              "      <td>2</td>\n",
              "      <td>865.0</td>\n",
              "      <td>2</td>\n",
              "      <td>...</td>\n",
              "      <td>NaN</td>\n",
              "      <td>2.0</td>\n",
              "      <td>2.0</td>\n",
              "      <td>140.0</td>\n",
              "      <td>63.4</td>\n",
              "      <td>150.2</td>\n",
              "      <td>5</td>\n",
              "      <td>2</td>\n",
              "      <td>155.373503</td>\n",
              "      <td>2.215</td>\n",
              "    </tr>\n",
              "    <tr>\n",
              "      <th>2</th>\n",
              "      <td>60</td>\n",
              "      <td>2.0</td>\n",
              "      <td>1.0</td>\n",
              "      <td>2.0</td>\n",
              "      <td>4.0</td>\n",
              "      <td>2.0</td>\n",
              "      <td>2.0</td>\n",
              "      <td>2</td>\n",
              "      <td>720.0</td>\n",
              "      <td>2</td>\n",
              "      <td>...</td>\n",
              "      <td>NaN</td>\n",
              "      <td>2.0</td>\n",
              "      <td>2.0</td>\n",
              "      <td>128.0</td>\n",
              "      <td>55.8</td>\n",
              "      <td>144.7</td>\n",
              "      <td>1</td>\n",
              "      <td>2</td>\n",
              "      <td>153.436697</td>\n",
              "      <td>2.479</td>\n",
              "    </tr>\n",
              "    <tr>\n",
              "      <th>3</th>\n",
              "      <td>75</td>\n",
              "      <td>2.0</td>\n",
              "      <td>1.0</td>\n",
              "      <td>1.0</td>\n",
              "      <td>4.0</td>\n",
              "      <td>2.0</td>\n",
              "      <td>2.0</td>\n",
              "      <td>2</td>\n",
              "      <td>910.0</td>\n",
              "      <td>2</td>\n",
              "      <td>...</td>\n",
              "      <td>1.0</td>\n",
              "      <td>1.0</td>\n",
              "      <td>2.0</td>\n",
              "      <td>192.0</td>\n",
              "      <td>83.7</td>\n",
              "      <td>144.7</td>\n",
              "      <td>1</td>\n",
              "      <td>2</td>\n",
              "      <td>147.180913</td>\n",
              "      <td>1.826</td>\n",
              "    </tr>\n",
              "    <tr>\n",
              "      <th>4</th>\n",
              "      <td>60</td>\n",
              "      <td>2.0</td>\n",
              "      <td>2.0</td>\n",
              "      <td>2.0</td>\n",
              "      <td>4.0</td>\n",
              "      <td>2.0</td>\n",
              "      <td>2.0</td>\n",
              "      <td>2</td>\n",
              "      <td>NaN</td>\n",
              "      <td>3</td>\n",
              "      <td>...</td>\n",
              "      <td>NaN</td>\n",
              "      <td>2.0</td>\n",
              "      <td>2.0</td>\n",
              "      <td>105.0</td>\n",
              "      <td>43.7</td>\n",
              "      <td>146.8</td>\n",
              "      <td>5</td>\n",
              "      <td>2</td>\n",
              "      <td>145.027720</td>\n",
              "      <td>2.291</td>\n",
              "    </tr>\n",
              "    <tr>\n",
              "      <th>...</th>\n",
              "      <td>...</td>\n",
              "      <td>...</td>\n",
              "      <td>...</td>\n",
              "      <td>...</td>\n",
              "      <td>...</td>\n",
              "      <td>...</td>\n",
              "      <td>...</td>\n",
              "      <td>...</td>\n",
              "      <td>...</td>\n",
              "      <td>...</td>\n",
              "      <td>...</td>\n",
              "      <td>...</td>\n",
              "      <td>...</td>\n",
              "      <td>...</td>\n",
              "      <td>...</td>\n",
              "      <td>...</td>\n",
              "      <td>...</td>\n",
              "      <td>...</td>\n",
              "      <td>...</td>\n",
              "      <td>...</td>\n",
              "      <td>...</td>\n",
              "    </tr>\n",
              "    <tr>\n",
              "      <th>18631</th>\n",
              "      <td>18</td>\n",
              "      <td>2.0</td>\n",
              "      <td>NaN</td>\n",
              "      <td>NaN</td>\n",
              "      <td>1.0</td>\n",
              "      <td>2.0</td>\n",
              "      <td>2.0</td>\n",
              "      <td>2</td>\n",
              "      <td>NaN</td>\n",
              "      <td>2</td>\n",
              "      <td>...</td>\n",
              "      <td>NaN</td>\n",
              "      <td>NaN</td>\n",
              "      <td>2.0</td>\n",
              "      <td>202.0</td>\n",
              "      <td>NaN</td>\n",
              "      <td>NaN</td>\n",
              "      <td>1</td>\n",
              "      <td>2</td>\n",
              "      <td>NaN</td>\n",
              "      <td>2.977</td>\n",
              "    </tr>\n",
              "    <tr>\n",
              "      <th>18632</th>\n",
              "      <td>33</td>\n",
              "      <td>NaN</td>\n",
              "      <td>NaN</td>\n",
              "      <td>NaN</td>\n",
              "      <td>NaN</td>\n",
              "      <td>NaN</td>\n",
              "      <td>NaN</td>\n",
              "      <td>2</td>\n",
              "      <td>NaN</td>\n",
              "      <td>2</td>\n",
              "      <td>...</td>\n",
              "      <td>NaN</td>\n",
              "      <td>1.0</td>\n",
              "      <td>2.0</td>\n",
              "      <td>300.0</td>\n",
              "      <td>NaN</td>\n",
              "      <td>NaN</td>\n",
              "      <td>3</td>\n",
              "      <td>2</td>\n",
              "      <td>NaN</td>\n",
              "      <td>1.710</td>\n",
              "    </tr>\n",
              "    <tr>\n",
              "      <th>18633</th>\n",
              "      <td>54</td>\n",
              "      <td>1.0</td>\n",
              "      <td>1.0</td>\n",
              "      <td>2.0</td>\n",
              "      <td>4.0</td>\n",
              "      <td>2.0</td>\n",
              "      <td>2.0</td>\n",
              "      <td>2</td>\n",
              "      <td>NaN</td>\n",
              "      <td>2</td>\n",
              "      <td>...</td>\n",
              "      <td>NaN</td>\n",
              "      <td>1.0</td>\n",
              "      <td>2.0</td>\n",
              "      <td>123.0</td>\n",
              "      <td>NaN</td>\n",
              "      <td>NaN</td>\n",
              "      <td>1</td>\n",
              "      <td>2</td>\n",
              "      <td>NaN</td>\n",
              "      <td>2.440</td>\n",
              "    </tr>\n",
              "    <tr>\n",
              "      <th>18634</th>\n",
              "      <td>61</td>\n",
              "      <td>NaN</td>\n",
              "      <td>2.0</td>\n",
              "      <td>2.0</td>\n",
              "      <td>NaN</td>\n",
              "      <td>NaN</td>\n",
              "      <td>NaN</td>\n",
              "      <td>1</td>\n",
              "      <td>NaN</td>\n",
              "      <td>2</td>\n",
              "      <td>...</td>\n",
              "      <td>NaN</td>\n",
              "      <td>1.0</td>\n",
              "      <td>2.0</td>\n",
              "      <td>148.0</td>\n",
              "      <td>NaN</td>\n",
              "      <td>NaN</td>\n",
              "      <td>5</td>\n",
              "      <td>1</td>\n",
              "      <td>NaN</td>\n",
              "      <td>2.482</td>\n",
              "    </tr>\n",
              "    <tr>\n",
              "      <th>18635</th>\n",
              "      <td>74</td>\n",
              "      <td>2.0</td>\n",
              "      <td>1.0</td>\n",
              "      <td>1.0</td>\n",
              "      <td>1.0</td>\n",
              "      <td>2.0</td>\n",
              "      <td>2.0</td>\n",
              "      <td>1</td>\n",
              "      <td>NaN</td>\n",
              "      <td>2</td>\n",
              "      <td>...</td>\n",
              "      <td>NaN</td>\n",
              "      <td>2.0</td>\n",
              "      <td>2.0</td>\n",
              "      <td>243.0</td>\n",
              "      <td>103.6</td>\n",
              "      <td>NaN</td>\n",
              "      <td>3</td>\n",
              "      <td>1</td>\n",
              "      <td>NaN</td>\n",
              "      <td>2.752</td>\n",
              "    </tr>\n",
              "  </tbody>\n",
              "</table>\n",
              "<p>18636 rows × 31 columns</p>\n",
              "</div>"
            ],
            "text/plain": [
              "       RIDAGEYR  SMQ680  CDQ001  CDQ010  HSD010  HSQ500  HSQ520  RIAGENDR  \\\n",
              "0            78     2.0     1.0     1.0     2.0     2.0     2.0         2   \n",
              "1            72     NaN     2.0     2.0     NaN     NaN     NaN         2   \n",
              "2            60     2.0     1.0     2.0     4.0     2.0     2.0         2   \n",
              "3            75     2.0     1.0     1.0     4.0     2.0     2.0         2   \n",
              "4            60     2.0     2.0     2.0     4.0     2.0     2.0         2   \n",
              "...         ...     ...     ...     ...     ...     ...     ...       ...   \n",
              "18631        18     2.0     NaN     NaN     1.0     2.0     2.0         2   \n",
              "18632        33     NaN     NaN     NaN     NaN     NaN     NaN         2   \n",
              "18633        54     1.0     1.0     2.0     4.0     2.0     2.0         2   \n",
              "18634        61     NaN     2.0     2.0     NaN     NaN     NaN         1   \n",
              "18635        74     2.0     1.0     1.0     1.0     2.0     2.0         1   \n",
              "\n",
              "       RIDAGEEX  DIQ010  ...  SLQ120  SMQ020  SMD410  WHD020  BMXWT  BMXHT  \\\n",
              "0         938.0       2  ...     NaN     2.0     2.0   116.0   53.0  143.9   \n",
              "1         865.0       2  ...     NaN     2.0     2.0   140.0   63.4  150.2   \n",
              "2         720.0       2  ...     NaN     2.0     2.0   128.0   55.8  144.7   \n",
              "3         910.0       2  ...     1.0     1.0     2.0   192.0   83.7  144.7   \n",
              "4           NaN       3  ...     NaN     2.0     2.0   105.0   43.7  146.8   \n",
              "...         ...     ...  ...     ...     ...     ...     ...    ...    ...   \n",
              "18631       NaN       2  ...     NaN     NaN     2.0   202.0    NaN    NaN   \n",
              "18632       NaN       2  ...     NaN     1.0     2.0   300.0    NaN    NaN   \n",
              "18633       NaN       2  ...     NaN     1.0     2.0   123.0    NaN    NaN   \n",
              "18634       NaN       2  ...     NaN     1.0     2.0   148.0    NaN    NaN   \n",
              "18635       NaN       2  ...     NaN     2.0     2.0   243.0  103.6    NaN   \n",
              "\n",
              "       RIDRETH1  RIAGENDR.1       Label  True_FEV1  \n",
              "0             3           2  160.927649      1.825  \n",
              "1             5           2  155.373503      2.215  \n",
              "2             1           2  153.436697      2.479  \n",
              "3             1           2  147.180913      1.826  \n",
              "4             5           2  145.027720      2.291  \n",
              "...         ...         ...         ...        ...  \n",
              "18631         1           2         NaN      2.977  \n",
              "18632         3           2         NaN      1.710  \n",
              "18633         1           2         NaN      2.440  \n",
              "18634         5           1         NaN      2.482  \n",
              "18635         3           1         NaN      2.752  \n",
              "\n",
              "[18636 rows x 31 columns]"
            ]
          },
          "execution_count": 7,
          "metadata": {},
          "output_type": "execute_result"
        }
      ],
      "source": [
        "df_edited.head(-10)"
      ]
    },
    {
      "cell_type": "code",
      "execution_count": null,
      "metadata": {
        "id": "9l66V4SZrzyg",
        "outputId": "79e9cb8a-61ee-4cae-a2f9-6ff31b328591"
      },
      "outputs": [
        {
          "data": {
            "text/plain": [
              "RIDAGEYR          0\n",
              "SMQ680         3925\n",
              "CDQ001        10836\n",
              "CDQ010        10836\n",
              "HSD010         3897\n",
              "HSQ500         1231\n",
              "HSQ520         1231\n",
              "RIAGENDR          0\n",
              "RIDAGEEX       6201\n",
              "DIQ010            0\n",
              "OCD390G        4422\n",
              "OCQ510         5465\n",
              "OCQ530         5465\n",
              "OCQ550         5465\n",
              "OCQ570         5465\n",
              "RDQ070            0\n",
              "RDQ140            0\n",
              "SLD010H        4433\n",
              "SLQ050         4422\n",
              "SLQ090        14208\n",
              "SLQ100        14208\n",
              "SLQ120        14208\n",
              "SMQ020         6005\n",
              "SMD410           74\n",
              "WHD020         4542\n",
              "BMXWT            86\n",
              "BMXHT            78\n",
              "RIDRETH1          0\n",
              "RIAGENDR.1        0\n",
              "Label            78\n",
              "True_FEV1         0\n",
              "dtype: int64"
            ]
          },
          "execution_count": 8,
          "metadata": {},
          "output_type": "execute_result"
        }
      ],
      "source": [
        "df_edited.isna().sum()"
      ]
    },
    {
      "cell_type": "markdown",
      "metadata": {
        "id": "edzzTnj1rzyg"
      },
      "source": [
        "### XGBOOST"
      ]
    },
    {
      "cell_type": "code",
      "execution_count": null,
      "metadata": {
        "id": "hEEcYxJsrzyg",
        "outputId": "1d2ec882-344c-46d7-9673-4a196d49e63e"
      },
      "outputs": [
        {
          "name": "stdout",
          "output_type": "stream",
          "text": [
            "1.6.2\n"
          ]
        }
      ],
      "source": [
        "import xgboost as xgb\n",
        "print(xgboost.__version__)"
      ]
    },
    {
      "cell_type": "code",
      "execution_count": null,
      "metadata": {
        "id": "iJ_a_PM9rzyg",
        "outputId": "bfb0764c-5a6c-4e07-fdb1-b21b68f38afa"
      },
      "outputs": [
        {
          "data": {
            "text/plain": [
              "Index(['RIDAGEYR', 'SMQ680', 'CDQ001', 'CDQ010', 'HSD010', 'HSQ500', 'HSQ520',\n",
              "       'RIAGENDR', 'RIDAGEEX', 'DIQ010', 'OCD390G', 'OCQ510', 'OCQ530',\n",
              "       'OCQ550', 'OCQ570', 'RDQ070', 'RDQ140', 'SLD010H', 'SLQ050', 'SLQ090',\n",
              "       'SLQ100', 'SLQ120', 'SMQ020', 'SMD410', 'WHD020', 'BMXWT', 'BMXHT',\n",
              "       'RIDRETH1', 'RIAGENDR.1', 'Label', 'True_FEV1'],\n",
              "      dtype='object')"
            ]
          },
          "execution_count": 13,
          "metadata": {},
          "output_type": "execute_result"
        }
      ],
      "source": [
        "df_edited.columns"
      ]
    },
    {
      "cell_type": "code",
      "execution_count": null,
      "metadata": {
        "id": "oIjMCmy3rzyg"
      },
      "outputs": [],
      "source": [
        "cols = ['RIDAGEYR', 'SMQ680', 'CDQ001', 'CDQ010', 'HSD010', 'HSQ500', 'HSQ520',\n",
        "       'RIAGENDR', 'RIDAGEEX', 'DIQ010', 'OCD390G', 'OCQ510', 'OCQ530',\n",
        "       'OCQ550', 'OCQ570', 'RDQ070', 'RDQ140', 'SLD010H', 'SLQ050', 'SLQ090',\n",
        "       'SLQ100', 'SLQ120', 'SMQ020', 'SMD410', 'WHD020', 'BMXWT', 'BMXHT',\n",
        "       'RIDRETH1', 'RIAGENDR.1']\n",
        "X = df_edited[cols]\n",
        "Y = df_edited['True_FEV1']"
      ]
    },
    {
      "cell_type": "code",
      "execution_count": null,
      "metadata": {
        "id": "4ZxzQto9rzyg",
        "outputId": "9436c5d6-38d9-46da-af66-82c77beeee19"
      },
      "outputs": [
        {
          "name": "stderr",
          "output_type": "stream",
          "text": [
            "/home/nsad/anaconda3/lib/python3.7/site-packages/xgboost/sklearn.py:797: UserWarning: `early_stopping_rounds` in `fit` method is deprecated for better compatibility with scikit-learn, use `early_stopping_rounds` in constructor or`set_params` instead.\n",
            "  UserWarning,\n"
          ]
        }
      ],
      "source": [
        "from sklearn.model_selection import train_test_split\n",
        "\n",
        "X_train,X_test,y_train,y_test = train_test_split(X,Y, test_size = 0.2)\n",
        "model.fit(X_train, y_train, early_stopping_rounds=6, eval_set=[(X_test, y_test)], verbose=False)\n",
        "predictions = model.predict(X_test)"
      ]
    },
    {
      "cell_type": "markdown",
      "metadata": {
        "id": "9EvLdIPbrzyh"
      },
      "source": [
        "#### Matrices \n",
        "\n",
        "here are three error metrics that are commonly used for evaluating and reporting the performance of a regression model; they are:\n",
        "\n",
        "Mean Squared Error (MSE).\n",
        "Root Mean Squared Error (RMSE).\n",
        "Mean Absolute Error (MAE)"
      ]
    },
    {
      "cell_type": "markdown",
      "metadata": {
        "id": "wfvCS9zIrzyh"
      },
      "source": [
        "##### Mean Absolute Error (MAE)"
      ]
    },
    {
      "cell_type": "code",
      "execution_count": null,
      "metadata": {
        "id": "lxyy4oZerzyh",
        "outputId": "ce7dbab7-7c08-475d-ff72-d9ef09f3da6f"
      },
      "outputs": [
        {
          "name": "stdout",
          "output_type": "stream",
          "text": [
            "Mean MAE: 0.334 (0.006)\n"
          ]
        }
      ],
      "source": [
        "from sklearn.model_selection import RepeatedKFold\n",
        "from sklearn.model_selection import cross_val_score\n",
        "from numpy import absolute\n",
        "\n",
        "# create an xgboost regression model\n",
        "model = xgb.XGBRegressor()\n",
        "# define model evaluation method\n",
        "cv = RepeatedKFold(n_splits=10, n_repeats=3, random_state=1)\n",
        "# evaluate model\n",
        "scores = cross_val_score(model, X, Y, scoring='neg_mean_absolute_error', cv=cv, n_jobs=-1)\n",
        "# force scores to be positive\n",
        "scores = absolute(scores)\n",
        "print('Mean MAE: %.3f (%.3f)' % (scores.mean(), scores.std()) )"
      ]
    },
    {
      "cell_type": "markdown",
      "metadata": {
        "id": "bIrkRUxyrzyh"
      },
      "source": [
        "#### Mean Squared Error (MSE)"
      ]
    },
    {
      "cell_type": "code",
      "execution_count": null,
      "metadata": {
        "id": "je6sXJr1rzyh",
        "outputId": "bdbd22d5-d625-43e8-bf2e-2a8e3c37fa0e"
      },
      "outputs": [
        {
          "name": "stdout",
          "output_type": "stream",
          "text": [
            "The MSE: 0.178 \n"
          ]
        }
      ],
      "source": [
        "from sklearn.metrics import mean_squared_error\n",
        "\n",
        "MSE = mean_squared_error(y_test, predictions)\n",
        "print('The MSE: %.3f ' % (MSE) )"
      ]
    },
    {
      "cell_type": "code",
      "execution_count": null,
      "metadata": {
        "id": "fZI33bQZrzyh",
        "outputId": "6badcd45-3149-4b6b-fe08-05ab36d743fd"
      },
      "outputs": [
        {
          "name": "stdout",
          "output_type": "stream",
          "text": [
            "The MSE: 0.422 \n"
          ]
        }
      ],
      "source": [
        "from sklearn.metrics import mean_squared_error\n",
        "\n",
        "RMSE = mean_squared_error(y_test, predictions, squared=False)\n",
        "print('The MSE: %.3f ' % (RMSE) )"
      ]
    },
    {
      "cell_type": "code",
      "execution_count": null,
      "metadata": {
        "id": "KQtcpJBvrzyi",
        "outputId": "35340d6e-b356-47de-e4d0-d5d28c05c2c9"
      },
      "outputs": [
        {
          "data": {
            "text/plain": [
              "137.551419"
            ]
          },
          "execution_count": 16,
          "metadata": {},
          "output_type": "execute_result"
        }
      ],
      "source": [
        "df_edited['Label'][9]"
      ]
    },
    {
      "cell_type": "code",
      "execution_count": null,
      "metadata": {
        "id": "xyfic1G_rzyi",
        "outputId": "a4fe711d-d952-463d-d6eb-2df843ee2ef1"
      },
      "outputs": [
        {
          "data": {
            "text/plain": [
              "RangeIndex(start=0, stop=18646, step=1)"
            ]
          },
          "execution_count": 17,
          "metadata": {},
          "output_type": "execute_result"
        }
      ],
      "source": [
        "df_edited.index"
      ]
    },
    {
      "cell_type": "code",
      "execution_count": null,
      "metadata": {
        "id": "slfqQWFPrzyi",
        "outputId": "ba51b62b-46cc-400f-870b-2bd442a2f944"
      },
      "outputs": [
        {
          "data": {
            "image/png": "[encoded data removed]",
            "text/plain": [
              "<Figure size 1008x720 with 1 Axes>"
            ]
          },
          "metadata": {},
          "output_type": "display_data"
        }
      ],
      "source": [
        "from xgboost import plot_importance\n",
        "import matplotlib.pyplot as plt\n",
        "\n",
        "plt.style.use('fivethirtyeight')\n",
        "plt.rcParams.update({'font.size': 16})\n",
        "\n",
        "fig, ax = plt.subplots(figsize=(14,10))\n",
        "plot_importance(model, max_num_features=29, ax=ax)\n",
        "plt.show();"
      ]
    }
  ],
  "metadata": {
    "kernelspec": {
      "display_name": "Python 3",
      "language": "python",
      "name": "python3"
    },
    "language_info": {
      "codemirror_mode": {
        "name": "ipython",
        "version": 3
      },
      "file_extension": ".py",
      "mimetype": "text/x-python",
      "name": "python",
      "nbconvert_exporter": "python",
      "pygments_lexer": "ipython3",
      "version": "3.7.6"
    },
    "colab": {
      "provenance": [],
      "include_colab_link": true
    }
  },
  "nbformat": 4,
  "nbformat_minor": 0
}