{
  "cells": [
    {
      "cell_type": "markdown",
      "metadata": {
        "id": "view-in-github",
        "colab_type": "text"
      },
      "source": [
        "<a href=\"https://colab.research.google.com/github/Nsad9579/Clinical-Projects/blob/main/PySpiro_ML.ipynb\" target=\"_parent\"><img src=\"https://colab.research.google.com/assets/colab-badge.svg\" alt=\"Open In Colab\"/></a>"
      ]
    },
    {
      "cell_type": "markdown",
      "metadata": {
        "id": "UNRtFfV44WLB"
      },
      "source": [
        "# Small Air Way Disease Risk Prediction Using Machine Learning"
      ]
    },
    {
      "cell_type": "markdown",
      "metadata": {
        "id": "nU21sAfN4WLJ"
      },
      "source": [
        "## Import Packages"
      ]
    },
    {
      "cell_type": "code",
      "execution_count": 2,
      "metadata": {
        "id": "dz6kC-kA4WLK"
      },
      "outputs": [],
      "source": [
        "import numpy as np \n",
        "import pandas as pd \n",
        "import matplotlib.pyplot as plt\n",
        "from sklearn.preprocessing import OneHotEncoder\n",
        "from sklearn.impute import SimpleImputer\n",
        "from sklearn.impute import KNNImputer\n",
        "from sklearn.preprocessing import MinMaxScaler\n",
        "import seaborn as sns\n",
        "import matplotlib.style as style\n",
        "style.use('fivethirtyeight')"
      ]
    },
    {
      "cell_type": "code",
      "execution_count": 7,
      "metadata": {
        "colab": {
          "base_uri": "https://localhost:8080/",
          "height": 236
        },
        "id": "3N5w3F-_4WLN",
        "outputId": "85544bb5-0627-4b8e-9e11-46b74cb99629"
      },
      "outputs": [
        {
          "output_type": "execute_result",
          "data": {
            "text/plain": [
              "   Unnamed: 0  RIDAGEYR  BMXHT  RIDRETH1  SMQ680  CDQ001  CDQ010  HSD010  \\\n",
              "0     41475.0      62.0  154.7       5.0     2.0     1.0     1.0     3.0   \n",
              "1     41476.0       6.0  120.4       5.0     NaN     NaN     NaN     NaN   \n",
              "2     41479.0      52.0  154.4       1.0     2.0     2.0     2.0     4.0   \n",
              "3     41481.0      21.0  182.7       4.0     2.0     NaN     NaN     1.0   \n",
              "4     41482.0      64.0  173.8       1.0     2.0     2.0     1.0     4.0   \n",
              "\n",
              "   HSQ500  HSQ520  ...  WHD020  BMXWT  MCQ300B  MCQ010  \\\n",
              "0     2.0     2.0  ...   308.0  138.9      2.0     1.0   \n",
              "1     2.0     2.0  ...     NaN   22.0      2.0     2.0   \n",
              "2     2.0     2.0  ...   142.0   65.7      2.0     2.0   \n",
              "3     2.0     2.0  ...   175.0   77.9      2.0     2.0   \n",
              "4     2.0     2.0  ...   228.0  101.6      2.0     2.0   \n",
              "\n",
              "                                              spxraw  spxpts      Label  \\\n",
              "0  [0, 0, 0, 0, 0, 0, 0, 0, 1, 1, 1, 1, 2, 2, 1, ...   966.0  83.799289   \n",
              "1  [0, 0, 0, 0, 0, 0, 0, 0, 0, 0, 0, 0, 0, 0, 0, ...   601.0  72.424378   \n",
              "2  [0, 0, 0, 0, 0, 0, 0, 0, 0, 0, 0, 0, 0, 0, 0, ...  1201.0  93.820990   \n",
              "3  [0, 0, 0, 0, 0, 0, 0, 0, -1, -1, -1, -1, -1, -...   987.0  87.805837   \n",
              "4  [0, 0, 0, 0, 0, 0, 0, 0, 0, 0, 0, 0, 0, 0, 0, ...  1175.0  81.057748   \n",
              "\n",
              "   True_FEV1   NL_FEV1  RiskClass  \n",
              "0      1.528  1.823405          5  \n",
              "1      1.351  1.865394          4  \n",
              "2      2.478  2.641200          5  \n",
              "3      3.634  4.138677          5  \n",
              "4      2.535  3.127400          5  \n",
              "\n",
              "[5 rows x 39 columns]"
            ],
            "text/html": [
              "\n",
              "  <div id=\"df-9ac6c2c5-9850-4406-88ba-477612672675\">\n",
              "    <div class=\"colab-df-container\">\n",
              "      <div>\n",
              "<style scoped>\n",
              "    .dataframe tbody tr th:only-of-type {\n",
              "        vertical-align: middle;\n",
              "    }\n",
              "\n",
              "    .dataframe tbody tr th {\n",
              "        vertical-align: top;\n",
              "    }\n",
              "\n",
              "    .dataframe thead th {\n",
              "        text-align: right;\n",
              "    }\n",
              "</style>\n",
              "<table border=\"1\" class=\"dataframe\">\n",
              "  <thead>\n",
              "    <tr style=\"text-align: right;\">\n",
              "      <th></th>\n",
              "      <th>Unnamed: 0</th>\n",
              "      <th>RIDAGEYR</th>\n",
              "      <th>BMXHT</th>\n",
              "      <th>RIDRETH1</th>\n",
              "      <th>SMQ680</th>\n",
              "      <th>CDQ001</th>\n",
              "      <th>CDQ010</th>\n",
              "      <th>HSD010</th>\n",
              "      <th>HSQ500</th>\n",
              "      <th>HSQ520</th>\n",
              "      <th>...</th>\n",
              "      <th>WHD020</th>\n",
              "      <th>BMXWT</th>\n",
              "      <th>MCQ300B</th>\n",
              "      <th>MCQ010</th>\n",
              "      <th>spxraw</th>\n",
              "      <th>spxpts</th>\n",
              "      <th>Label</th>\n",
              "      <th>True_FEV1</th>\n",
              "      <th>NL_FEV1</th>\n",
              "      <th>RiskClass</th>\n",
              "    </tr>\n",
              "  </thead>\n",
              "  <tbody>\n",
              "    <tr>\n",
              "      <th>0</th>\n",
              "      <td>41475.0</td>\n",
              "      <td>62.0</td>\n",
              "      <td>154.7</td>\n",
              "      <td>5.0</td>\n",
              "      <td>2.0</td>\n",
              "      <td>1.0</td>\n",
              "      <td>1.0</td>\n",
              "      <td>3.0</td>\n",
              "      <td>2.0</td>\n",
              "      <td>2.0</td>\n",
              "      <td>...</td>\n",
              "      <td>308.0</td>\n",
              "      <td>138.9</td>\n",
              "      <td>2.0</td>\n",
              "      <td>1.0</td>\n",
              "      <td>[0, 0, 0, 0, 0, 0, 0, 0, 1, 1, 1, 1, 2, 2, 1, ...</td>\n",
              "      <td>966.0</td>\n",
              "      <td>83.799289</td>\n",
              "      <td>1.528</td>\n",
              "      <td>1.823405</td>\n",
              "      <td>5</td>\n",
              "    </tr>\n",
              "    <tr>\n",
              "      <th>1</th>\n",
              "      <td>41476.0</td>\n",
              "      <td>6.0</td>\n",
              "      <td>120.4</td>\n",
              "      <td>5.0</td>\n",
              "      <td>NaN</td>\n",
              "      <td>NaN</td>\n",
              "      <td>NaN</td>\n",
              "      <td>NaN</td>\n",
              "      <td>2.0</td>\n",
              "      <td>2.0</td>\n",
              "      <td>...</td>\n",
              "      <td>NaN</td>\n",
              "      <td>22.0</td>\n",
              "      <td>2.0</td>\n",
              "      <td>2.0</td>\n",
              "      <td>[0, 0, 0, 0, 0, 0, 0, 0, 0, 0, 0, 0, 0, 0, 0, ...</td>\n",
              "      <td>601.0</td>\n",
              "      <td>72.424378</td>\n",
              "      <td>1.351</td>\n",
              "      <td>1.865394</td>\n",
              "      <td>4</td>\n",
              "    </tr>\n",
              "    <tr>\n",
              "      <th>2</th>\n",
              "      <td>41479.0</td>\n",
              "      <td>52.0</td>\n",
              "      <td>154.4</td>\n",
              "      <td>1.0</td>\n",
              "      <td>2.0</td>\n",
              "      <td>2.0</td>\n",
              "      <td>2.0</td>\n",
              "      <td>4.0</td>\n",
              "      <td>2.0</td>\n",
              "      <td>2.0</td>\n",
              "      <td>...</td>\n",
              "      <td>142.0</td>\n",
              "      <td>65.7</td>\n",
              "      <td>2.0</td>\n",
              "      <td>2.0</td>\n",
              "      <td>[0, 0, 0, 0, 0, 0, 0, 0, 0, 0, 0, 0, 0, 0, 0, ...</td>\n",
              "      <td>1201.0</td>\n",
              "      <td>93.820990</td>\n",
              "      <td>2.478</td>\n",
              "      <td>2.641200</td>\n",
              "      <td>5</td>\n",
              "    </tr>\n",
              "    <tr>\n",
              "      <th>3</th>\n",
              "      <td>41481.0</td>\n",
              "      <td>21.0</td>\n",
              "      <td>182.7</td>\n",
              "      <td>4.0</td>\n",
              "      <td>2.0</td>\n",
              "      <td>NaN</td>\n",
              "      <td>NaN</td>\n",
              "      <td>1.0</td>\n",
              "      <td>2.0</td>\n",
              "      <td>2.0</td>\n",
              "      <td>...</td>\n",
              "      <td>175.0</td>\n",
              "      <td>77.9</td>\n",
              "      <td>2.0</td>\n",
              "      <td>2.0</td>\n",
              "      <td>[0, 0, 0, 0, 0, 0, 0, 0, -1, -1, -1, -1, -1, -...</td>\n",
              "      <td>987.0</td>\n",
              "      <td>87.805837</td>\n",
              "      <td>3.634</td>\n",
              "      <td>4.138677</td>\n",
              "      <td>5</td>\n",
              "    </tr>\n",
              "    <tr>\n",
              "      <th>4</th>\n",
              "      <td>41482.0</td>\n",
              "      <td>64.0</td>\n",
              "      <td>173.8</td>\n",
              "      <td>1.0</td>\n",
              "      <td>2.0</td>\n",
              "      <td>2.0</td>\n",
              "      <td>1.0</td>\n",
              "      <td>4.0</td>\n",
              "      <td>2.0</td>\n",
              "      <td>2.0</td>\n",
              "      <td>...</td>\n",
              "      <td>228.0</td>\n",
              "      <td>101.6</td>\n",
              "      <td>2.0</td>\n",
              "      <td>2.0</td>\n",
              "      <td>[0, 0, 0, 0, 0, 0, 0, 0, 0, 0, 0, 0, 0, 0, 0, ...</td>\n",
              "      <td>1175.0</td>\n",
              "      <td>81.057748</td>\n",
              "      <td>2.535</td>\n",
              "      <td>3.127400</td>\n",
              "      <td>5</td>\n",
              "    </tr>\n",
              "  </tbody>\n",
              "</table>\n",
              "<p>5 rows × 39 columns</p>\n",
              "</div>\n",
              "      <button class=\"colab-df-convert\" onclick=\"convertToInteractive('df-9ac6c2c5-9850-4406-88ba-477612672675')\"\n",
              "              title=\"Convert this dataframe to an interactive table.\"\n",
              "              style=\"display:none;\">\n",
              "        \n",
              "  <svg xmlns=\"http://www.w3.org/2000/svg\" height=\"24px\"viewBox=\"0 0 24 24\"\n",
              "       width=\"24px\">\n",
              "    <path d=\"M0 0h24v24H0V0z\" fill=\"none\"/>\n",
              "    <path d=\"M18.56 5.44l.94 2.06.94-2.06 2.06-.94-2.06-.94-.94-2.06-.94 2.06-2.06.94zm-11 1L8.5 8.5l.94-2.06 2.06-.94-2.06-.94L8.5 2.5l-.94 2.06-2.06.94zm10 10l.94 2.06.94-2.06 2.06-.94-2.06-.94-.94-2.06-.94 2.06-2.06.94z\"/><path d=\"M17.41 7.96l-1.37-1.37c-.4-.4-.92-.59-1.43-.59-.52 0-1.04.2-1.43.59L10.3 9.45l-7.72 7.72c-.78.78-.78 2.05 0 2.83L4 21.41c.39.39.9.59 1.41.59.51 0 1.02-.2 1.41-.59l7.78-7.78 2.81-2.81c.8-.78.8-2.07 0-2.86zM5.41 20L4 18.59l7.72-7.72 1.47 1.35L5.41 20z\"/>\n",
              "  </svg>\n",
              "      </button>\n",
              "      \n",
              "  <style>\n",
              "    .colab-df-container {\n",
              "      display:flex;\n",
              "      flex-wrap:wrap;\n",
              "      gap: 12px;\n",
              "    }\n",
              "\n",
              "    .colab-df-convert {\n",
              "      background-color: #E8F0FE;\n",
              "      border: none;\n",
              "      border-radius: 50%;\n",
              "      cursor: pointer;\n",
              "      display: none;\n",
              "      fill: #1967D2;\n",
              "      height: 32px;\n",
              "      padding: 0 0 0 0;\n",
              "      width: 32px;\n",
              "    }\n",
              "\n",
              "    .colab-df-convert:hover {\n",
              "      background-color: #E2EBFA;\n",
              "      box-shadow: 0px 1px 2px rgba(60, 64, 67, 0.3), 0px 1px 3px 1px rgba(60, 64, 67, 0.15);\n",
              "      fill: #174EA6;\n",
              "    }\n",
              "\n",
              "    [theme=dark] .colab-df-convert {\n",
              "      background-color: #3B4455;\n",
              "      fill: #D2E3FC;\n",
              "    }\n",
              "\n",
              "    [theme=dark] .colab-df-convert:hover {\n",
              "      background-color: #434B5C;\n",
              "      box-shadow: 0px 1px 3px 1px rgba(0, 0, 0, 0.15);\n",
              "      filter: drop-shadow(0px 1px 2px rgba(0, 0, 0, 0.3));\n",
              "      fill: #FFFFFF;\n",
              "    }\n",
              "  </style>\n",
              "\n",
              "      <script>\n",
              "        const buttonEl =\n",
              "          document.querySelector('#df-9ac6c2c5-9850-4406-88ba-477612672675 button.colab-df-convert');\n",
              "        buttonEl.style.display =\n",
              "          google.colab.kernel.accessAllowed ? 'block' : 'none';\n",
              "\n",
              "        async function convertToInteractive(key) {\n",
              "          const element = document.querySelector('#df-9ac6c2c5-9850-4406-88ba-477612672675');\n",
              "          const dataTable =\n",
              "            await google.colab.kernel.invokeFunction('convertToInteractive',\n",
              "                                                     [key], {});\n",
              "          if (!dataTable) return;\n",
              "\n",
              "          const docLinkHtml = 'Like what you see? Visit the ' +\n",
              "            '<a target=\"_blank\" href=https://colab.research.google.com/notebooks/data_table.ipynb>data table notebook</a>'\n",
              "            + ' to learn more about interactive tables.';\n",
              "          element.innerHTML = '';\n",
              "          dataTable['output_type'] = 'display_data';\n",
              "          await google.colab.output.renderOutput(dataTable, element);\n",
              "          const docLink = document.createElement('div');\n",
              "          docLink.innerHTML = docLinkHtml;\n",
              "          element.appendChild(docLink);\n",
              "        }\n",
              "      </script>\n",
              "    </div>\n",
              "  </div>\n",
              "  "
            ]
          },
          "metadata": {},
          "execution_count": 7
        }
      ],
      "source": [
        "df = pd.read_csv('/content/DatasetClass.csv')\n",
        "df.head()"
      ]
    },
    {
      "cell_type": "code",
      "execution_count": 8,
      "metadata": {
        "id": "EZX3Q6PC4WLP"
      },
      "outputs": [],
      "source": [
        "features = [ 'SMQ680', 'CDQ001' , 'CDQ010' , 'HSD010' , 'HSQ500' , \n",
        "               'HSQ520' , 'RIAGENDR' , 'RIDAGEEX' , 'DIQ010' , 'OCD390G' , 'OCQ510' , 'OCQ530' , \n",
        "               'OCQ550' , 'OCQ570' , 'RDQ070' , 'RDQ031' , 'RDQ140' , 'RDQ050' , 'SLD010H' , 'SLQ050' , 'SLQ090' , 'SLQ100' , 'SLQ120' , \n",
        "               'SMQ020' , 'SMD410' , 'BMXWT'  , 'MCQ300B' , 'MCQ010' ]\n",
        "X = df[features]\n",
        "Y = df['RiskClass']"
      ]
    },
    {
      "cell_type": "code",
      "execution_count": null,
      "metadata": {
        "id": "5id2EIOF4WLP"
      },
      "outputs": [],
      "source": [
        "X = X.astype('category')\n",
        "X[['BMXWT' , 'RIDAGEEX' , 'SLD010H'  ]] = X[['BMXWT' , 'RIDAGEEX' , 'SLD010H'  ]].astype('float64')"
      ]
    },
    {
      "cell_type": "code",
      "execution_count": null,
      "metadata": {
        "id": "DOwAw-d_4WLQ",
        "outputId": "b9a256c6-0c41-45a9-ca15-d3493875799c"
      },
      "outputs": [
        {
          "data": {
            "text/plain": [
              "SMQ680      category\n",
              "CDQ001      category\n",
              "CDQ010      category\n",
              "HSD010      category\n",
              "HSQ500      category\n",
              "HSQ520      category\n",
              "RIAGENDR    category\n",
              "RIDAGEEX     float64\n",
              "DIQ010      category\n",
              "OCD390G     category\n",
              "OCQ510      category\n",
              "OCQ530      category\n",
              "OCQ550      category\n",
              "OCQ570      category\n",
              "RDQ070      category\n",
              "RDQ031      category\n",
              "RDQ140      category\n",
              "RDQ050      category\n",
              "SLD010H      float64\n",
              "SLQ050      category\n",
              "SLQ090      category\n",
              "SLQ100      category\n",
              "SLQ120      category\n",
              "SMQ020      category\n",
              "SMD410      category\n",
              "BMXWT        float64\n",
              "MCQ300B     category\n",
              "MCQ010      category\n",
              "dtype: object"
            ]
          },
          "execution_count": 25,
          "metadata": {},
          "output_type": "execute_result"
        }
      ],
      "source": [
        "X.dtypes"
      ]
    },
    {
      "cell_type": "markdown",
      "metadata": {
        "id": "_qHiT9fd4WLR"
      },
      "source": [
        "## EDA"
      ]
    },
    {
      "cell_type": "code",
      "execution_count": null,
      "metadata": {
        "id": "RfGfJRpV4WLS",
        "outputId": "304adfa5-768f-4821-c8f2-352b5612c304"
      },
      "outputs": [
        {
          "name": "stdout",
          "output_type": "stream",
          "text": [
            "<class 'pandas.core.frame.DataFrame'>\n",
            "RangeIndex: 18658 entries, 0 to 18657\n",
            "Data columns (total 28 columns):\n",
            " #   Column    Non-Null Count  Dtype   \n",
            "---  ------    --------------  -----   \n",
            " 0   SMQ680    18658 non-null  category\n",
            " 1   CDQ001    18658 non-null  category\n",
            " 2   CDQ010    18658 non-null  category\n",
            " 3   HSD010    18658 non-null  category\n",
            " 4   HSQ500    18658 non-null  category\n",
            " 5   HSQ520    18658 non-null  category\n",
            " 6   RIAGENDR  18658 non-null  category\n",
            " 7   RIDAGEEX  18658 non-null  float64 \n",
            " 8   DIQ010    18658 non-null  category\n",
            " 9   OCD390G   18658 non-null  category\n",
            " 10  OCQ510    18658 non-null  category\n",
            " 11  OCQ530    18658 non-null  category\n",
            " 12  OCQ550    18658 non-null  category\n",
            " 13  OCQ570    18658 non-null  category\n",
            " 14  RDQ070    18658 non-null  category\n",
            " 15  RDQ031    18658 non-null  category\n",
            " 16  RDQ140    18658 non-null  category\n",
            " 17  RDQ050    18658 non-null  category\n",
            " 18  SLD010H   18658 non-null  float64 \n",
            " 19  SLQ050    18658 non-null  category\n",
            " 20  SLQ090    18658 non-null  category\n",
            " 21  SLQ100    18658 non-null  category\n",
            " 22  SLQ120    18658 non-null  category\n",
            " 23  SMQ020    18658 non-null  category\n",
            " 24  SMD410    18658 non-null  category\n",
            " 25  BMXWT     18658 non-null  float64 \n",
            " 26  MCQ300B   18658 non-null  category\n",
            " 27  MCQ010    18658 non-null  category\n",
            "dtypes: category(25), float64(3)\n",
            "memory usage: 896.4 KB\n"
          ]
        }
      ],
      "source": [
        "X.info()\n",
        "# but it's not that easy because in NHANES some of the null values are coded numerically"
      ]
    },
    {
      "cell_type": "code",
      "execution_count": null,
      "metadata": {
        "id": "FUhs5Ag_4WLT",
        "outputId": "32628707-bc8a-4090-fa64-777f9a85865b"
      },
      "outputs": [
        {
          "data": {
            "text/html": [
              "<div>\n",
              "<style scoped>\n",
              "    .dataframe tbody tr th:only-of-type {\n",
              "        vertical-align: middle;\n",
              "    }\n",
              "\n",
              "    .dataframe tbody tr th {\n",
              "        vertical-align: top;\n",
              "    }\n",
              "\n",
              "    .dataframe thead th {\n",
              "        text-align: right;\n",
              "    }\n",
              "</style>\n",
              "<table border=\"1\" class=\"dataframe\">\n",
              "  <thead>\n",
              "    <tr style=\"text-align: right;\">\n",
              "      <th></th>\n",
              "      <th>RIDAGEEX</th>\n",
              "      <th>SLD010H</th>\n",
              "      <th>BMXWT</th>\n",
              "    </tr>\n",
              "  </thead>\n",
              "  <tbody>\n",
              "    <tr>\n",
              "      <th>count</th>\n",
              "      <td>12453.000000</td>\n",
              "      <td>14216.000000</td>\n",
              "      <td>18572.000000</td>\n",
              "    </tr>\n",
              "    <tr>\n",
              "      <th>mean</th>\n",
              "      <td>436.821328</td>\n",
              "      <td>6.930782</td>\n",
              "      <td>72.619126</td>\n",
              "    </tr>\n",
              "    <tr>\n",
              "      <th>std</th>\n",
              "      <td>251.913443</td>\n",
              "      <td>3.110916</td>\n",
              "      <td>25.891256</td>\n",
              "    </tr>\n",
              "    <tr>\n",
              "      <th>min</th>\n",
              "      <td>73.000000</td>\n",
              "      <td>1.000000</td>\n",
              "      <td>16.100000</td>\n",
              "    </tr>\n",
              "    <tr>\n",
              "      <th>25%</th>\n",
              "      <td>202.000000</td>\n",
              "      <td>6.000000</td>\n",
              "      <td>56.700000</td>\n",
              "    </tr>\n",
              "    <tr>\n",
              "      <th>50%</th>\n",
              "      <td>416.000000</td>\n",
              "      <td>7.000000</td>\n",
              "      <td>71.900000</td>\n",
              "    </tr>\n",
              "    <tr>\n",
              "      <th>75%</th>\n",
              "      <td>642.000000</td>\n",
              "      <td>8.000000</td>\n",
              "      <td>88.000000</td>\n",
              "    </tr>\n",
              "    <tr>\n",
              "      <th>max</th>\n",
              "      <td>959.000000</td>\n",
              "      <td>99.000000</td>\n",
              "      <td>239.400000</td>\n",
              "    </tr>\n",
              "  </tbody>\n",
              "</table>\n",
              "</div>"
            ],
            "text/plain": [
              "           RIDAGEEX       SLD010H         BMXWT\n",
              "count  12453.000000  14216.000000  18572.000000\n",
              "mean     436.821328      6.930782     72.619126\n",
              "std      251.913443      3.110916     25.891256\n",
              "min       73.000000      1.000000     16.100000\n",
              "25%      202.000000      6.000000     56.700000\n",
              "50%      416.000000      7.000000     71.900000\n",
              "75%      642.000000      8.000000     88.000000\n",
              "max      959.000000     99.000000    239.400000"
            ]
          },
          "execution_count": 13,
          "metadata": {},
          "output_type": "execute_result"
        }
      ],
      "source": [
        "X.describe()"
      ]
    },
    {
      "cell_type": "code",
      "execution_count": 28,
      "metadata": {
        "colab": {
          "base_uri": "https://localhost:8080/",
          "height": 697
        },
        "id": "2rW-_Id34WLU",
        "outputId": "6aac9aee-e040-415e-88ea-e9aa4037a1f7"
      },
      "outputs": [
        {
          "output_type": "stream",
          "name": "stderr",
          "text": [
            "/usr/local/lib/python3.7/dist-packages/seaborn/distributions.py:2619: FutureWarning: `distplot` is a deprecated function and will be removed in a future version. Please adapt your code to use either `displot` (a figure-level function with similar flexibility) or `histplot` (an axes-level function for histograms).\n",
            "  warnings.warn(msg, FutureWarning)\n",
            "/usr/local/lib/python3.7/dist-packages/seaborn/distributions.py:2619: FutureWarning: `distplot` is a deprecated function and will be removed in a future version. Please adapt your code to use either `displot` (a figure-level function with similar flexibility) or `histplot` (an axes-level function for histograms).\n",
            "  warnings.warn(msg, FutureWarning)\n",
            "/usr/local/lib/python3.7/dist-packages/seaborn/distributions.py:2619: FutureWarning: `distplot` is a deprecated function and will be removed in a future version. Please adapt your code to use either `displot` (a figure-level function with similar flexibility) or `histplot` (an axes-level function for histograms).\n",
            "  warnings.warn(msg, FutureWarning)\n"
          ]
        },
        {
          "output_type": "display_data",
          "data": {
            "text/plain": [
              "<Figure size 432x576 with 3 Axes>"
            ],
            "image/png": "[encoded data removed]"
          },
          "metadata": {}
        }
      ],
      "source": [
        "n_rows, n_cols = (3,1)\n",
        "\n",
        "figure, axes = plt.subplots(nrows=n_rows, ncols=n_cols,figsize=(6, 8))\n",
        "figure.suptitle('\\n\\nDistributions of Numerical Features', fontsize=10)\n",
        "\n",
        "for x in range (0,3):\n",
        "\n",
        "    miss_perc=\"%.2f\"%(100*(1-(X[num_cols[x]].dropna().shape[0])/X.shape[0]))\n",
        "    column = num_cols[x]\n",
        "    collabel=column+\"\\n({}% is missing)\".format(miss_perc)\n",
        "    fig=sns.distplot(X[column], color=\"g\", label=collabel, norm_hist=True, ax=axes[x], kde_kws={\"lw\":4})\n",
        "    fig=fig.legend(loc='best', fontsize=8)\n",
        "    axes[x].set_ylabel(\"Probability Density\",fontsize='small')\n",
        "    axes[x].set_xlabel(None)\n",
        "\n",
        "plt.show()"
      ]
    },
    {
      "cell_type": "code",
      "execution_count": 30,
      "metadata": {
        "colab": {
          "base_uri": "https://localhost:8080/",
          "height": 1171
        },
        "id": "mG7XKuQ84WLV",
        "outputId": "a4dd65b5-1f48-4dee-a871-c617ff4afc8e"
      },
      "outputs": [
        {
          "output_type": "display_data",
          "data": {
            "text/plain": [
              "<Figure size 720x1440 with 26 Axes>"
            ],
            "image/png": "[encoded data removed]"
          },
          "metadata": {}
        }
      ],
      "source": [
        "n_rows, n_cols = (13,2)\n",
        "\n",
        "figure, axes = plt.subplots(nrows=n_rows, ncols=n_cols,figsize=(10, 20))\n",
        "figure.suptitle('\\n\\nCountplots of Categorical Features', fontsize=8)\n",
        "\n",
        "for index, column in enumerate(categorical_cols):\n",
        "    \n",
        "    i,j = index // n_cols, index % n_cols\n",
        "    \n",
        "    miss_perc=\"%.2f\"%(100*(1-(X[column].dropna().shape[0])/X.shape[0]))\n",
        "    \n",
        "    collabel=column+\"\\n({}% is missing)\".format(miss_perc)\n",
        "    \n",
        "    fig = sns.countplot(x=column, data=X ,label=collabel, palette=sns.cubehelix_palette(rot=-.35,light=0.85,hue=1),\n",
        "    \n",
        "    ax=axes[i,j])\n",
        "    \n",
        "    axes[i,j].set_title(collabel,fontsize=6)\n",
        "    \n",
        "    axes[i,j].set_xlabel(None)\n",
        "    \n",
        "    axes[i,j].set_ylabel(\"Count\",fontsize=4)\n",
        "    \n",
        "    axes[i,j].set_xticklabels(axes[i,j].get_xticklabels(), Fontsize=6)\n",
        "\n",
        "plt.show()"
      ]
    },
    {
      "cell_type": "code",
      "execution_count": null,
      "metadata": {
        "id": "NhIUzcoW4WLW",
        "outputId": "957263c1-3f6a-4cb5-ebc6-414ce2a90fe6"
      },
      "outputs": [
        {
          "data": {
            "image/png": "[encoded data removed]",
            "text/plain": [
              "<Figure size 432x288 with 1 Axes>"
            ]
          },
          "metadata": {},
          "output_type": "display_data"
        }
      ],
      "source": [
        "miss_perc=\"%.2f\"%(100*(1-(Y.dropna().shape[0])/Y.shape[0]))\n",
        "    \n",
        "label=\"class \\n(missing:\\n{}%)\".format(miss_perc)\n",
        "fig=sns.countplot(x=Y,label=label, palette=sns.cubehelix_palette(rot=-.35,light=0.85,hue=1))\n",
        "plt.title(\"Class \\n({}% is missing)\".format(miss_perc))\n",
        "plt.show()"
      ]
    },
    {
      "cell_type": "code",
      "execution_count": null,
      "metadata": {
        "id": "3kLsTiG24WLX"
      },
      "outputs": [],
      "source": [
        "style.use('seaborn-darkgrid')"
      ]
    },
    {
      "cell_type": "code",
      "execution_count": null,
      "metadata": {
        "id": "LXZ65YZU4WLX",
        "outputId": "d77345f0-c78a-45ec-a502-4f944d7fdf5a"
      },
      "outputs": [
        {
          "data": {
            "image/png": "[encoded data removed]",
            "text/plain": [
              "<Figure size 1440x720 with 1 Axes>"
            ]
          },
          "metadata": {},
          "output_type": "display_data"
        }
      ],
      "source": [
        "d=((df.isnull().sum()/df.shape[0])).sort_values(ascending=False)\n",
        "d.plot(kind='bar',\n",
        "       color=sns.cubehelix_palette(start=2,\n",
        "                                    rot=0.15,\n",
        "                                    dark=0.15,\n",
        "                                    light=0.95,\n",
        "                                    reverse=True,\n",
        "                                    n_colors=24),\n",
        "        figsize=(20,10))\n",
        "plt.title(\"\\nProportions of Missing Values:\\n\",fontsize=40)\n",
        "plt.show()"
      ]
    },
    {
      "cell_type": "markdown",
      "metadata": {
        "id": "jO1sI2r94WLY"
      },
      "source": [
        "## PreProcessing"
      ]
    },
    {
      "cell_type": "markdown",
      "metadata": {
        "id": "SV5vOX4_4WLY"
      },
      "source": [
        " *first of all let's see what is our features ?* <br>\n",
        " \n",
        " | veriable | definition | missing values| type | expl |\n",
        " | --- | --- | --- | --- | --- |\n",
        " | 'SMQ680' | Used tobacco/nicotine last 5 days? |   7 , 9 , .  | categorical | 1 = Y , 2 = N |\n",
        " | 'CDQ001' | SP ever had pain or discomfort in chest |   7 , 9 , .  | categorical | 1 = Y , 2 = N |\n",
        " | 'CDQ010' | Shortness of breath on stairs/inclines |   7 , 9 , .   | categorical | 1 = Y , 2 = N |\n",
        " | 'HSD010' | I have some general questions about {your/SP's} health. Would you say {your/SP's} health in general is . . . |  7 , 9 , .   | categorical | 1 = Exc , 2 = very good , 3= good , 4 = fair , 5 = poor |\n",
        " | 'HSQ500' | SP have head cold or chest cold |   7 , 9 , .   | categorical | 1 = Y , 2 = N |\n",
        " | 'HSQ520' | SP have flu, pneumonia, ear infection?  | 7 , 9 , .   | categorical | 1 = Y , 2 = N |\n",
        " | 'RIAGENDR' | Gender | .   | categorical | 1 = M , 2 = F |\n",
        " | 'RIDAGEEX' | Age in Months at Exam |  .   | numeric | 0 - 959 |\n",
        " | 'DIQ010'   | Doctor told you have diabetes | 7 , 9 , .   | categorical | 1 = Y , 2 = N , 3= borderline |\n",
        " | 'OCD390G'  | Kind of work you have done the longest |  7 , 9 , .   | categorical | 1 = Enter occupation , 2 = Same as current occupation  , 3= Armed forces , 4 = Never worked |\n",
        " | 'OCQ510' | Ever had work exposure to mineral dusts? | 7 , 9 , .   | categorical | 1 = Y , 2 = N |\n",
        " | 'OCQ530' | Ever had work exposure to organic dusts? | 7 , 9 , .   | categorical | 1 = Y , 2 = N |\n",
        " | 'OCQ550' | Ever exposed to exhaust fumes at work? |  7 , 9 , .   | categorical | 1 = Y , 2 = N |\n",
        " | 'OCQ570' | Ever had work exposure to other fumes? | 7 , 9 , .   | categorical | 1 = Y , 2 = N |\n",
        " | 'RDQ070' | Wheezing or whistling in chest - past yr | 7 , 9 , .   | categorical | 1 = Y , 2 = N |\n",
        " | 'RDQ031' | Coughing most days - over 3 mo period |  7 , 9 , .   | categorical | 1 = Y , 2 = N |\n",
        " | 'RDQ140' | Had dry cough at night in past year |  7 , 9 , .   | categorical | 1 = Y , 2 = N |\n",
        " | 'RDQ050' | Bring up phlegm most days - 3 mo period |  7 , 9 , .   | categorical | 1 = Y , 2 = N |\n",
        " | 'SLD010H' | How much sleep do you get (hours)? | 77 , 99 , .   | numeric | 1-11 , 12(for more than 12 hours) |\n",
        " | 'SLQ050' | Ever told doctor had trouble sleeping |  7 , 9 , .   | categorical | 1 = Y , 2 = N |\n",
        " | 'SLQ090' | How often wake up during night? |  7 , 9 , .   | categorical | 0= Never , 1 = Rarely , 2 = Sometimes , 3= Often , 4 = Almost always |\n",
        " | 'SLQ100' | How often wake up too early in morning? | 7 , 9 , .   | categorical | 0= Never , 1 = Rarely , 2 = Sometimes , 3= Often , 4 = Almost always |\n",
        " | 'SLQ120' | How often feel overly sleepy during day? | 7 , 9 , .   | categorical | 0= Never , 1 = Rarely , 2 = Sometimes , 3= Often , 4 = Almost always | \n",
        " | 'SMQ020' | Smoked at least 100 cigarettes in life |   7 , 9 , .   | categorical | 1 = Y , 2 = N |\n",
        " | 'SMD410' | Does anyone smoke inside home? | 7 , 9 , .   | categorical | 1 = Y , 2 = N |\n",
        " | 'BMXWT'  | Weight (kg) | . | numeric | 3.1 to 218.2  |\n",
        " | 'MCQ300B' | Close relative had asthma? |  7 , 9 , .   | categorical | 1 = Y , 2 = N |\n",
        " | 'MCQ010'  | Ever been told you have asthma | 7 , 9 , .   | categorical | 1 = Y , 2 = N |"
      ]
    },
    {
      "cell_type": "markdown",
      "metadata": {
        "id": "pODPIKVb4WLZ"
      },
      "source": [
        "### Aproach to Missing Values"
      ]
    },
    {
      "cell_type": "code",
      "execution_count": 22,
      "metadata": {
        "id": "9XjzQp8G4WLZ"
      },
      "outputs": [],
      "source": [
        "categorical_cols = ['SMQ680', 'CDQ001' , 'CDQ010' , 'HSD010' , 'HSQ500' , 'HSQ520' , 'RIAGENDR' , 'DIQ010' , 'OCD390G' ,\n",
        "                    'OCQ510' , 'OCQ530' ,'OCQ550' , 'OCQ570' , 'RDQ070' , 'RDQ031' , 'RDQ140' , 'RDQ050' , 'SLQ050' ,\n",
        "                    'SLQ090' , 'SLQ100' , 'SLQ120' , 'SMQ020' , 'SMD410' , 'MCQ300B' , 'MCQ010' ]\n",
        "num_cols = ['BMXWT' , 'RIDAGEEX' , 'SLD010H'  ]"
      ]
    },
    {
      "cell_type": "code",
      "execution_count": null,
      "metadata": {
        "id": "0SXgWCeo4WLa"
      },
      "outputs": [],
      "source": [
        "X[categorical_cols] = X[categorical_cols].replace([7,9], np.NaN)\n",
        "X['SLD010H'] = X['SLD010H'].replace([77,99], np.NaN)"
      ]
    },
    {
      "cell_type": "markdown",
      "metadata": {
        "id": "_kEIxgUL4WLa"
      },
      "source": [
        "#### for numeric features "
      ]
    },
    {
      "cell_type": "code",
      "execution_count": null,
      "metadata": {
        "id": "k03U8J_L4WLb"
      },
      "outputs": [],
      "source": [
        "knn_imputer = KNNImputer(n_neighbors=5)\n",
        "X[num_cols] = knn_imputer.fit_transform(X[num_cols])"
      ]
    },
    {
      "cell_type": "code",
      "execution_count": null,
      "metadata": {
        "id": "45jsEl7k4WLb",
        "outputId": "3a37b7b0-14f8-49a3-89bc-523117052226"
      },
      "outputs": [
        {
          "name": "stdout",
          "output_type": "stream",
          "text": [
            "BMXWT       0.0\n",
            "RIDAGEEX    0.0\n",
            "SLD010H     0.0\n",
            "dtype: float64\n"
          ]
        }
      ],
      "source": [
        "percent_missing = round(X[num_cols].isnull().sum()/len(X[num_cols])*100,2)\n",
        "print(percent_missing)"
      ]
    },
    {
      "cell_type": "markdown",
      "metadata": {
        "id": "NPFmuoQJ4WLc"
      },
      "source": [
        "#### for categorical features "
      ]
    },
    {
      "cell_type": "code",
      "execution_count": null,
      "metadata": {
        "id": "8XJX_eN74WLc"
      },
      "outputs": [],
      "source": [
        "simple_imputer_cat = SimpleImputer(missing_values=np.nan, strategy='most_frequent')\n",
        "simple_imputer_cat.fit(X[categorical_cols])\n",
        "X[categorical_cols] = simple_imputer_cat.transform(X[categorical_cols])"
      ]
    },
    {
      "cell_type": "code",
      "execution_count": null,
      "metadata": {
        "id": "c3dH1Hci4WLc",
        "outputId": "f680da87-8868-474c-b51e-3ea422754537"
      },
      "outputs": [
        {
          "name": "stdout",
          "output_type": "stream",
          "text": [
            "SMQ680      0.0\n",
            "CDQ001      0.0\n",
            "CDQ010      0.0\n",
            "HSD010      0.0\n",
            "HSQ500      0.0\n",
            "HSQ520      0.0\n",
            "RIAGENDR    0.0\n",
            "DIQ010      0.0\n",
            "OCD390G     0.0\n",
            "OCQ510      0.0\n",
            "OCQ530      0.0\n",
            "OCQ550      0.0\n",
            "OCQ570      0.0\n",
            "RDQ070      0.0\n",
            "RDQ031      0.0\n",
            "RDQ140      0.0\n",
            "RDQ050      0.0\n",
            "SLQ050      0.0\n",
            "SLQ090      0.0\n",
            "SLQ100      0.0\n",
            "SLQ120      0.0\n",
            "SMQ020      0.0\n",
            "SMD410      0.0\n",
            "MCQ300B     0.0\n",
            "MCQ010      0.0\n",
            "dtype: float64\n"
          ]
        }
      ],
      "source": [
        "percent_missing = round(X[categorical_cols].isnull().sum()/len(X[categorical_cols])*100,2)\n",
        "print(percent_missing)"
      ]
    },
    {
      "cell_type": "markdown",
      "metadata": {
        "id": "Knkf6Eh94WLd"
      },
      "source": [
        "### Encoding categorical features"
      ]
    },
    {
      "cell_type": "code",
      "execution_count": null,
      "metadata": {
        "id": "FVBPw3nn4WLd"
      },
      "outputs": [],
      "source": [
        "# all feature except 3 of them \n",
        "categorical_cols  = [ 'SMQ680', 'CDQ001' , 'CDQ010' , 'HSD010' , 'HSQ500' , \n",
        "               'HSQ520' , 'RIAGENDR' , 'DIQ010' , 'OCD390G' , 'OCQ510' , 'OCQ530' , \n",
        "               'OCQ550' , 'OCQ570' , 'RDQ070' , 'RDQ031' , 'RDQ140' , 'RDQ050' , 'SLQ050' , 'SLQ090' , 'SLQ100' , 'SLQ120' , \n",
        "               'SMQ020' , 'SMD410' , 'MCQ300B' , 'MCQ010' ]\n",
        "X_cat = X[categorical_cols]"
      ]
    },
    {
      "cell_type": "code",
      "execution_count": null,
      "metadata": {
        "id": "E0EjBUpQ4WLd",
        "outputId": "a6c7698a-2479-4fa3-e65e-f1594a9ecaf4"
      },
      "outputs": [
        {
          "data": {
            "text/plain": [
              "SMQ680    category\n",
              "CDQ001    category\n",
              "CDQ010    category\n",
              "HSD010    category\n",
              "HSQ500    category\n",
              "dtype: object"
            ]
          },
          "execution_count": 92,
          "metadata": {},
          "output_type": "execute_result"
        }
      ],
      "source": []
    },
    {
      "cell_type": "code",
      "execution_count": null,
      "metadata": {
        "id": "q-c7ZQoY4WLe",
        "outputId": "d63baa0b-e26f-4fc6-d10b-b3ad48938833"
      },
      "outputs": [
        {
          "data": {
            "text/plain": [
              "SMQ680      2\n",
              "CDQ001      2\n",
              "CDQ010      2\n",
              "HSD010      5\n",
              "HSQ500      2\n",
              "HSQ520      2\n",
              "RIAGENDR    2\n",
              "DIQ010      3\n",
              "OCD390G     4\n",
              "OCQ510      2\n",
              "OCQ530      2\n",
              "OCQ550      2\n",
              "OCQ570      2\n",
              "RDQ070      2\n",
              "RDQ031      2\n",
              "RDQ140      2\n",
              "RDQ050      2\n",
              "SLQ050      2\n",
              "SLQ090      5\n",
              "SLQ100      5\n",
              "SLQ120      5\n",
              "SMQ020      2\n",
              "SMD410      2\n",
              "MCQ300B     2\n",
              "MCQ010      2\n",
              "dtype: int64"
            ]
          },
          "execution_count": 71,
          "metadata": {},
          "output_type": "execute_result"
        }
      ],
      "source": [
        "X[categorical_cols].nunique()"
      ]
    },
    {
      "cell_type": "code",
      "execution_count": null,
      "metadata": {
        "id": "eR_aFUeS4WLe"
      },
      "outputs": [],
      "source": [
        "one_hot_encoded_data = pd.get_dummies(X, columns = categorical_cols)"
      ]
    },
    {
      "cell_type": "code",
      "execution_count": null,
      "metadata": {
        "id": "Wd5mEHHQ4WLe",
        "outputId": "b6c2ed39-b717-4d70-ae02-44e64fcbe811"
      },
      "outputs": [
        {
          "data": {
            "text/plain": [
              "Index(['RIDAGEEX', 'SLD010H', 'BMXWT', 'SMQ680_1.0', 'SMQ680_2.0',\n",
              "       'CDQ001_1.0', 'CDQ001_2.0', 'CDQ010_1.0', 'CDQ010_2.0', 'HSD010_1.0',\n",
              "       'HSD010_2.0', 'HSD010_3.0', 'HSD010_4.0', 'HSD010_5.0', 'HSQ500_1.0',\n",
              "       'HSQ500_2.0', 'HSQ520_1.0', 'HSQ520_2.0', 'RIAGENDR_1.0',\n",
              "       'RIAGENDR_2.0', 'DIQ010_1.0', 'DIQ010_2.0', 'DIQ010_3.0', 'OCD390G_1.0',\n",
              "       'OCD390G_2.0', 'OCD390G_3.0', 'OCD390G_4.0', 'OCQ510_1.0', 'OCQ510_2.0',\n",
              "       'OCQ530_1.0', 'OCQ530_2.0', 'OCQ550_1.0', 'OCQ550_2.0', 'OCQ570_1.0',\n",
              "       'OCQ570_2.0', 'RDQ070_1.0', 'RDQ070_2.0', 'RDQ031_1.0', 'RDQ031_2.0',\n",
              "       'RDQ140_1.0', 'RDQ140_2.0', 'RDQ050_1.0', 'RDQ050_2.0', 'SLQ050_1.0',\n",
              "       'SLQ050_2.0', 'SLQ090_5.397605346934028e-79', 'SLQ090_1.0',\n",
              "       'SLQ090_2.0', 'SLQ090_3.0', 'SLQ090_4.0',\n",
              "       'SLQ100_5.397605346934028e-79', 'SLQ100_1.0', 'SLQ100_2.0',\n",
              "       'SLQ100_3.0', 'SLQ100_4.0', 'SLQ120_5.397605346934028e-79',\n",
              "       'SLQ120_1.0', 'SLQ120_2.0', 'SLQ120_3.0', 'SLQ120_4.0', 'SMQ020_1.0',\n",
              "       'SMQ020_2.0', 'SMD410_1.0', 'SMD410_2.0', 'MCQ300B_1.0', 'MCQ300B_2.0',\n",
              "       'MCQ010_1.0', 'MCQ010_2.0'],\n",
              "      dtype='object')"
            ]
          },
          "execution_count": 32,
          "metadata": {},
          "output_type": "execute_result"
        }
      ],
      "source": [
        "one_hot_encoded_data.columns"
      ]
    },
    {
      "cell_type": "code",
      "execution_count": null,
      "metadata": {
        "id": "9VXwAG2c4WLe"
      },
      "outputs": [],
      "source": [
        "dropped_cols = ['SMQ680_2.0' , 'CDQ001_2.0' , 'CDQ010_2.0' , 'HSQ500_2.0' , 'HSQ520_2.0' , 'OCQ510_2.0' , 'OCQ550_2.0' ,\n",
        "                'OCQ570_2.0' , 'RDQ070_2.0' , 'RDQ031_2.0' , 'RDQ140_2.0' , 'RDQ050_2.0' , 'SLQ050_2.0' , 'SMQ020_2.0' , \n",
        "                'SMD410_2.0' , 'MCQ300B_2.0' , 'MCQ010_2.0' ]"
      ]
    },
    {
      "cell_type": "code",
      "execution_count": null,
      "metadata": {
        "id": "iKSNixug4WLf"
      },
      "outputs": [],
      "source": [
        "one_hot_encoded_data = one_hot_encoded_data.drop(dropped_cols , axis=1)"
      ]
    },
    {
      "cell_type": "code",
      "execution_count": null,
      "metadata": {
        "id": "TuwwKl5z4WLf",
        "outputId": "525a9034-1314-4fc2-8d86-066f1ebbb77f"
      },
      "outputs": [
        {
          "data": {
            "text/html": [
              "<div>\n",
              "<style scoped>\n",
              "    .dataframe tbody tr th:only-of-type {\n",
              "        vertical-align: middle;\n",
              "    }\n",
              "\n",
              "    .dataframe tbody tr th {\n",
              "        vertical-align: top;\n",
              "    }\n",
              "\n",
              "    .dataframe thead th {\n",
              "        text-align: right;\n",
              "    }\n",
              "</style>\n",
              "<table border=\"1\" class=\"dataframe\">\n",
              "  <thead>\n",
              "    <tr style=\"text-align: right;\">\n",
              "      <th></th>\n",
              "      <th>RIDAGEEX</th>\n",
              "      <th>SLD010H</th>\n",
              "      <th>BMXWT</th>\n",
              "      <th>SMQ680_1.0</th>\n",
              "      <th>CDQ001_1.0</th>\n",
              "      <th>CDQ010_1.0</th>\n",
              "      <th>HSD010_1.0</th>\n",
              "      <th>HSD010_2.0</th>\n",
              "      <th>HSD010_3.0</th>\n",
              "      <th>HSD010_4.0</th>\n",
              "      <th>...</th>\n",
              "      <th>SLQ100_4.0</th>\n",
              "      <th>SLQ120_5.397605346934028e-79</th>\n",
              "      <th>SLQ120_1.0</th>\n",
              "      <th>SLQ120_2.0</th>\n",
              "      <th>SLQ120_3.0</th>\n",
              "      <th>SLQ120_4.0</th>\n",
              "      <th>SMQ020_1.0</th>\n",
              "      <th>SMD410_1.0</th>\n",
              "      <th>MCQ300B_1.0</th>\n",
              "      <th>MCQ010_1.0</th>\n",
              "    </tr>\n",
              "  </thead>\n",
              "  <tbody>\n",
              "    <tr>\n",
              "      <th>0</th>\n",
              "      <td>752.0</td>\n",
              "      <td>6.0</td>\n",
              "      <td>138.9</td>\n",
              "      <td>0</td>\n",
              "      <td>1</td>\n",
              "      <td>1</td>\n",
              "      <td>0</td>\n",
              "      <td>0</td>\n",
              "      <td>1</td>\n",
              "      <td>0</td>\n",
              "      <td>...</td>\n",
              "      <td>1</td>\n",
              "      <td>0</td>\n",
              "      <td>0</td>\n",
              "      <td>0</td>\n",
              "      <td>1</td>\n",
              "      <td>0</td>\n",
              "      <td>0</td>\n",
              "      <td>0</td>\n",
              "      <td>0</td>\n",
              "      <td>1</td>\n",
              "    </tr>\n",
              "    <tr>\n",
              "      <th>1</th>\n",
              "      <td>82.0</td>\n",
              "      <td>7.6</td>\n",
              "      <td>22.0</td>\n",
              "      <td>0</td>\n",
              "      <td>0</td>\n",
              "      <td>0</td>\n",
              "      <td>0</td>\n",
              "      <td>0</td>\n",
              "      <td>1</td>\n",
              "      <td>0</td>\n",
              "      <td>...</td>\n",
              "      <td>0</td>\n",
              "      <td>1</td>\n",
              "      <td>0</td>\n",
              "      <td>0</td>\n",
              "      <td>0</td>\n",
              "      <td>0</td>\n",
              "      <td>0</td>\n",
              "      <td>0</td>\n",
              "      <td>0</td>\n",
              "      <td>0</td>\n",
              "    </tr>\n",
              "    <tr>\n",
              "      <th>2</th>\n",
              "      <td>630.0</td>\n",
              "      <td>6.0</td>\n",
              "      <td>65.7</td>\n",
              "      <td>0</td>\n",
              "      <td>0</td>\n",
              "      <td>0</td>\n",
              "      <td>0</td>\n",
              "      <td>0</td>\n",
              "      <td>0</td>\n",
              "      <td>1</td>\n",
              "      <td>...</td>\n",
              "      <td>0</td>\n",
              "      <td>1</td>\n",
              "      <td>0</td>\n",
              "      <td>0</td>\n",
              "      <td>0</td>\n",
              "      <td>0</td>\n",
              "      <td>0</td>\n",
              "      <td>0</td>\n",
              "      <td>0</td>\n",
              "      <td>0</td>\n",
              "    </tr>\n",
              "    <tr>\n",
              "      <th>3</th>\n",
              "      <td>254.0</td>\n",
              "      <td>6.0</td>\n",
              "      <td>77.9</td>\n",
              "      <td>0</td>\n",
              "      <td>0</td>\n",
              "      <td>0</td>\n",
              "      <td>1</td>\n",
              "      <td>0</td>\n",
              "      <td>0</td>\n",
              "      <td>0</td>\n",
              "      <td>...</td>\n",
              "      <td>0</td>\n",
              "      <td>1</td>\n",
              "      <td>0</td>\n",
              "      <td>0</td>\n",
              "      <td>0</td>\n",
              "      <td>0</td>\n",
              "      <td>0</td>\n",
              "      <td>0</td>\n",
              "      <td>0</td>\n",
              "      <td>0</td>\n",
              "    </tr>\n",
              "    <tr>\n",
              "      <th>4</th>\n",
              "      <td>779.0</td>\n",
              "      <td>8.0</td>\n",
              "      <td>101.6</td>\n",
              "      <td>0</td>\n",
              "      <td>0</td>\n",
              "      <td>1</td>\n",
              "      <td>0</td>\n",
              "      <td>0</td>\n",
              "      <td>0</td>\n",
              "      <td>1</td>\n",
              "      <td>...</td>\n",
              "      <td>0</td>\n",
              "      <td>1</td>\n",
              "      <td>0</td>\n",
              "      <td>0</td>\n",
              "      <td>0</td>\n",
              "      <td>0</td>\n",
              "      <td>1</td>\n",
              "      <td>0</td>\n",
              "      <td>0</td>\n",
              "      <td>0</td>\n",
              "    </tr>\n",
              "  </tbody>\n",
              "</table>\n",
              "<p>5 rows × 51 columns</p>\n",
              "</div>"
            ],
            "text/plain": [
              "   RIDAGEEX  SLD010H  BMXWT  SMQ680_1.0  CDQ001_1.0  CDQ010_1.0  HSD010_1.0  \\\n",
              "0     752.0      6.0  138.9           0           1           1           0   \n",
              "1      82.0      7.6   22.0           0           0           0           0   \n",
              "2     630.0      6.0   65.7           0           0           0           0   \n",
              "3     254.0      6.0   77.9           0           0           0           1   \n",
              "4     779.0      8.0  101.6           0           0           1           0   \n",
              "\n",
              "   HSD010_2.0  HSD010_3.0  HSD010_4.0  ...  SLQ100_4.0  \\\n",
              "0           0           1           0  ...           1   \n",
              "1           0           1           0  ...           0   \n",
              "2           0           0           1  ...           0   \n",
              "3           0           0           0  ...           0   \n",
              "4           0           0           1  ...           0   \n",
              "\n",
              "   SLQ120_5.397605346934028e-79  SLQ120_1.0  SLQ120_2.0  SLQ120_3.0  \\\n",
              "0                             0           0           0           1   \n",
              "1                             1           0           0           0   \n",
              "2                             1           0           0           0   \n",
              "3                             1           0           0           0   \n",
              "4                             1           0           0           0   \n",
              "\n",
              "   SLQ120_4.0  SMQ020_1.0  SMD410_1.0  MCQ300B_1.0  MCQ010_1.0  \n",
              "0           0           0           0            0           1  \n",
              "1           0           0           0            0           0  \n",
              "2           0           0           0            0           0  \n",
              "3           0           0           0            0           0  \n",
              "4           0           1           0            0           0  \n",
              "\n",
              "[5 rows x 51 columns]"
            ]
          },
          "execution_count": 39,
          "metadata": {},
          "output_type": "execute_result"
        }
      ],
      "source": [
        "one_hot_encoded_data.head()"
      ]
    },
    {
      "cell_type": "markdown",
      "metadata": {
        "id": "TIKnUQk_4WLf"
      },
      "source": [
        "### Scaling "
      ]
    },
    {
      "cell_type": "code",
      "execution_count": null,
      "metadata": {
        "id": "eWPLAVPP4WLg"
      },
      "outputs": [],
      "source": [
        "X_num = one_hot_encoded_data[num_cols]\n",
        "scaler = MinMaxScaler()\n",
        "scaler.fit(X_num)\n",
        "X_num_scaled = scaler.transform(X_num)"
      ]
    },
    {
      "cell_type": "code",
      "execution_count": null,
      "metadata": {
        "id": "hFb51Qws4WLg"
      },
      "outputs": [],
      "source": [
        "one_hot_encoded_data[num_cols] = pd.DataFrame(X_num_scaled, columns = num_cols)"
      ]
    },
    {
      "cell_type": "code",
      "execution_count": null,
      "metadata": {
        "id": "jDICfE_r4WLg",
        "outputId": "7008051c-ed4c-431d-d37d-cd9ce5a6c3c7"
      },
      "outputs": [
        {
          "data": {
            "text/html": [
              "<div>\n",
              "<style scoped>\n",
              "    .dataframe tbody tr th:only-of-type {\n",
              "        vertical-align: middle;\n",
              "    }\n",
              "\n",
              "    .dataframe tbody tr th {\n",
              "        vertical-align: top;\n",
              "    }\n",
              "\n",
              "    .dataframe thead th {\n",
              "        text-align: right;\n",
              "    }\n",
              "</style>\n",
              "<table border=\"1\" class=\"dataframe\">\n",
              "  <thead>\n",
              "    <tr style=\"text-align: right;\">\n",
              "      <th></th>\n",
              "      <th>RIDAGEEX</th>\n",
              "      <th>SLD010H</th>\n",
              "      <th>BMXWT</th>\n",
              "      <th>SMQ680_1.0</th>\n",
              "      <th>CDQ001_1.0</th>\n",
              "      <th>CDQ010_1.0</th>\n",
              "      <th>HSD010_1.0</th>\n",
              "      <th>HSD010_2.0</th>\n",
              "      <th>HSD010_3.0</th>\n",
              "      <th>HSD010_4.0</th>\n",
              "      <th>...</th>\n",
              "      <th>SLQ100_4.0</th>\n",
              "      <th>SLQ120_5.397605346934028e-79</th>\n",
              "      <th>SLQ120_1.0</th>\n",
              "      <th>SLQ120_2.0</th>\n",
              "      <th>SLQ120_3.0</th>\n",
              "      <th>SLQ120_4.0</th>\n",
              "      <th>SMQ020_1.0</th>\n",
              "      <th>SMD410_1.0</th>\n",
              "      <th>MCQ300B_1.0</th>\n",
              "      <th>MCQ010_1.0</th>\n",
              "    </tr>\n",
              "  </thead>\n",
              "  <tbody>\n",
              "    <tr>\n",
              "      <th>0</th>\n",
              "      <td>0.766366</td>\n",
              "      <td>0.454545</td>\n",
              "      <td>0.549933</td>\n",
              "      <td>0</td>\n",
              "      <td>1</td>\n",
              "      <td>1</td>\n",
              "      <td>0</td>\n",
              "      <td>0</td>\n",
              "      <td>1</td>\n",
              "      <td>0</td>\n",
              "      <td>...</td>\n",
              "      <td>1</td>\n",
              "      <td>0</td>\n",
              "      <td>0</td>\n",
              "      <td>0</td>\n",
              "      <td>1</td>\n",
              "      <td>0</td>\n",
              "      <td>0</td>\n",
              "      <td>0</td>\n",
              "      <td>0</td>\n",
              "      <td>1</td>\n",
              "    </tr>\n",
              "    <tr>\n",
              "      <th>1</th>\n",
              "      <td>0.010158</td>\n",
              "      <td>0.600000</td>\n",
              "      <td>0.026422</td>\n",
              "      <td>0</td>\n",
              "      <td>0</td>\n",
              "      <td>0</td>\n",
              "      <td>0</td>\n",
              "      <td>0</td>\n",
              "      <td>1</td>\n",
              "      <td>0</td>\n",
              "      <td>...</td>\n",
              "      <td>0</td>\n",
              "      <td>1</td>\n",
              "      <td>0</td>\n",
              "      <td>0</td>\n",
              "      <td>0</td>\n",
              "      <td>0</td>\n",
              "      <td>0</td>\n",
              "      <td>0</td>\n",
              "      <td>0</td>\n",
              "      <td>0</td>\n",
              "    </tr>\n",
              "    <tr>\n",
              "      <th>2</th>\n",
              "      <td>0.628668</td>\n",
              "      <td>0.454545</td>\n",
              "      <td>0.222123</td>\n",
              "      <td>0</td>\n",
              "      <td>0</td>\n",
              "      <td>0</td>\n",
              "      <td>0</td>\n",
              "      <td>0</td>\n",
              "      <td>0</td>\n",
              "      <td>1</td>\n",
              "      <td>...</td>\n",
              "      <td>0</td>\n",
              "      <td>1</td>\n",
              "      <td>0</td>\n",
              "      <td>0</td>\n",
              "      <td>0</td>\n",
              "      <td>0</td>\n",
              "      <td>0</td>\n",
              "      <td>0</td>\n",
              "      <td>0</td>\n",
              "      <td>0</td>\n",
              "    </tr>\n",
              "    <tr>\n",
              "      <th>3</th>\n",
              "      <td>0.204289</td>\n",
              "      <td>0.454545</td>\n",
              "      <td>0.276758</td>\n",
              "      <td>0</td>\n",
              "      <td>0</td>\n",
              "      <td>0</td>\n",
              "      <td>1</td>\n",
              "      <td>0</td>\n",
              "      <td>0</td>\n",
              "      <td>0</td>\n",
              "      <td>...</td>\n",
              "      <td>0</td>\n",
              "      <td>1</td>\n",
              "      <td>0</td>\n",
              "      <td>0</td>\n",
              "      <td>0</td>\n",
              "      <td>0</td>\n",
              "      <td>0</td>\n",
              "      <td>0</td>\n",
              "      <td>0</td>\n",
              "      <td>0</td>\n",
              "    </tr>\n",
              "    <tr>\n",
              "      <th>4</th>\n",
              "      <td>0.796840</td>\n",
              "      <td>0.636364</td>\n",
              "      <td>0.382893</td>\n",
              "      <td>0</td>\n",
              "      <td>0</td>\n",
              "      <td>1</td>\n",
              "      <td>0</td>\n",
              "      <td>0</td>\n",
              "      <td>0</td>\n",
              "      <td>1</td>\n",
              "      <td>...</td>\n",
              "      <td>0</td>\n",
              "      <td>1</td>\n",
              "      <td>0</td>\n",
              "      <td>0</td>\n",
              "      <td>0</td>\n",
              "      <td>0</td>\n",
              "      <td>1</td>\n",
              "      <td>0</td>\n",
              "      <td>0</td>\n",
              "      <td>0</td>\n",
              "    </tr>\n",
              "    <tr>\n",
              "      <th>...</th>\n",
              "      <td>...</td>\n",
              "      <td>...</td>\n",
              "      <td>...</td>\n",
              "      <td>...</td>\n",
              "      <td>...</td>\n",
              "      <td>...</td>\n",
              "      <td>...</td>\n",
              "      <td>...</td>\n",
              "      <td>...</td>\n",
              "      <td>...</td>\n",
              "      <td>...</td>\n",
              "      <td>...</td>\n",
              "      <td>...</td>\n",
              "      <td>...</td>\n",
              "      <td>...</td>\n",
              "      <td>...</td>\n",
              "      <td>...</td>\n",
              "      <td>...</td>\n",
              "      <td>...</td>\n",
              "      <td>...</td>\n",
              "      <td>...</td>\n",
              "    </tr>\n",
              "    <tr>\n",
              "      <th>18653</th>\n",
              "      <td>0.302483</td>\n",
              "      <td>0.636364</td>\n",
              "      <td>0.321093</td>\n",
              "      <td>1</td>\n",
              "      <td>0</td>\n",
              "      <td>0</td>\n",
              "      <td>0</td>\n",
              "      <td>1</td>\n",
              "      <td>0</td>\n",
              "      <td>0</td>\n",
              "      <td>...</td>\n",
              "      <td>0</td>\n",
              "      <td>1</td>\n",
              "      <td>0</td>\n",
              "      <td>0</td>\n",
              "      <td>0</td>\n",
              "      <td>0</td>\n",
              "      <td>1</td>\n",
              "      <td>1</td>\n",
              "      <td>0</td>\n",
              "      <td>0</td>\n",
              "    </tr>\n",
              "    <tr>\n",
              "      <th>18654</th>\n",
              "      <td>0.117381</td>\n",
              "      <td>0.727273</td>\n",
              "      <td>0.180923</td>\n",
              "      <td>0</td>\n",
              "      <td>0</td>\n",
              "      <td>0</td>\n",
              "      <td>0</td>\n",
              "      <td>1</td>\n",
              "      <td>0</td>\n",
              "      <td>0</td>\n",
              "      <td>...</td>\n",
              "      <td>0</td>\n",
              "      <td>1</td>\n",
              "      <td>0</td>\n",
              "      <td>0</td>\n",
              "      <td>0</td>\n",
              "      <td>0</td>\n",
              "      <td>0</td>\n",
              "      <td>0</td>\n",
              "      <td>0</td>\n",
              "      <td>0</td>\n",
              "    </tr>\n",
              "    <tr>\n",
              "      <th>18655</th>\n",
              "      <td>0.042438</td>\n",
              "      <td>0.581818</td>\n",
              "      <td>0.072548</td>\n",
              "      <td>0</td>\n",
              "      <td>0</td>\n",
              "      <td>0</td>\n",
              "      <td>0</td>\n",
              "      <td>0</td>\n",
              "      <td>1</td>\n",
              "      <td>0</td>\n",
              "      <td>...</td>\n",
              "      <td>0</td>\n",
              "      <td>1</td>\n",
              "      <td>0</td>\n",
              "      <td>0</td>\n",
              "      <td>0</td>\n",
              "      <td>0</td>\n",
              "      <td>0</td>\n",
              "      <td>0</td>\n",
              "      <td>0</td>\n",
              "      <td>1</td>\n",
              "    </tr>\n",
              "    <tr>\n",
              "      <th>18656</th>\n",
              "      <td>0.578555</td>\n",
              "      <td>0.454545</td>\n",
              "      <td>0.278997</td>\n",
              "      <td>0</td>\n",
              "      <td>0</td>\n",
              "      <td>0</td>\n",
              "      <td>0</td>\n",
              "      <td>0</td>\n",
              "      <td>1</td>\n",
              "      <td>0</td>\n",
              "      <td>...</td>\n",
              "      <td>0</td>\n",
              "      <td>1</td>\n",
              "      <td>0</td>\n",
              "      <td>0</td>\n",
              "      <td>0</td>\n",
              "      <td>0</td>\n",
              "      <td>0</td>\n",
              "      <td>0</td>\n",
              "      <td>0</td>\n",
              "      <td>0</td>\n",
              "    </tr>\n",
              "    <tr>\n",
              "      <th>18657</th>\n",
              "      <td>0.452596</td>\n",
              "      <td>0.636364</td>\n",
              "      <td>0.163457</td>\n",
              "      <td>0</td>\n",
              "      <td>0</td>\n",
              "      <td>0</td>\n",
              "      <td>0</td>\n",
              "      <td>1</td>\n",
              "      <td>0</td>\n",
              "      <td>0</td>\n",
              "      <td>...</td>\n",
              "      <td>0</td>\n",
              "      <td>1</td>\n",
              "      <td>0</td>\n",
              "      <td>0</td>\n",
              "      <td>0</td>\n",
              "      <td>0</td>\n",
              "      <td>0</td>\n",
              "      <td>1</td>\n",
              "      <td>0</td>\n",
              "      <td>0</td>\n",
              "    </tr>\n",
              "  </tbody>\n",
              "</table>\n",
              "<p>18658 rows × 51 columns</p>\n",
              "</div>"
            ],
            "text/plain": [
              "       RIDAGEEX   SLD010H     BMXWT  SMQ680_1.0  CDQ001_1.0  CDQ010_1.0  \\\n",
              "0      0.766366  0.454545  0.549933           0           1           1   \n",
              "1      0.010158  0.600000  0.026422           0           0           0   \n",
              "2      0.628668  0.454545  0.222123           0           0           0   \n",
              "3      0.204289  0.454545  0.276758           0           0           0   \n",
              "4      0.796840  0.636364  0.382893           0           0           1   \n",
              "...         ...       ...       ...         ...         ...         ...   \n",
              "18653  0.302483  0.636364  0.321093           1           0           0   \n",
              "18654  0.117381  0.727273  0.180923           0           0           0   \n",
              "18655  0.042438  0.581818  0.072548           0           0           0   \n",
              "18656  0.578555  0.454545  0.278997           0           0           0   \n",
              "18657  0.452596  0.636364  0.163457           0           0           0   \n",
              "\n",
              "       HSD010_1.0  HSD010_2.0  HSD010_3.0  HSD010_4.0  ...  SLQ100_4.0  \\\n",
              "0               0           0           1           0  ...           1   \n",
              "1               0           0           1           0  ...           0   \n",
              "2               0           0           0           1  ...           0   \n",
              "3               1           0           0           0  ...           0   \n",
              "4               0           0           0           1  ...           0   \n",
              "...           ...         ...         ...         ...  ...         ...   \n",
              "18653           0           1           0           0  ...           0   \n",
              "18654           0           1           0           0  ...           0   \n",
              "18655           0           0           1           0  ...           0   \n",
              "18656           0           0           1           0  ...           0   \n",
              "18657           0           1           0           0  ...           0   \n",
              "\n",
              "       SLQ120_5.397605346934028e-79  SLQ120_1.0  SLQ120_2.0  SLQ120_3.0  \\\n",
              "0                                 0           0           0           1   \n",
              "1                                 1           0           0           0   \n",
              "2                                 1           0           0           0   \n",
              "3                                 1           0           0           0   \n",
              "4                                 1           0           0           0   \n",
              "...                             ...         ...         ...         ...   \n",
              "18653                             1           0           0           0   \n",
              "18654                             1           0           0           0   \n",
              "18655                             1           0           0           0   \n",
              "18656                             1           0           0           0   \n",
              "18657                             1           0           0           0   \n",
              "\n",
              "       SLQ120_4.0  SMQ020_1.0  SMD410_1.0  MCQ300B_1.0  MCQ010_1.0  \n",
              "0               0           0           0            0           1  \n",
              "1               0           0           0            0           0  \n",
              "2               0           0           0            0           0  \n",
              "3               0           0           0            0           0  \n",
              "4               0           1           0            0           0  \n",
              "...           ...         ...         ...          ...         ...  \n",
              "18653           0           1           1            0           0  \n",
              "18654           0           0           0            0           0  \n",
              "18655           0           0           0            0           1  \n",
              "18656           0           0           0            0           0  \n",
              "18657           0           0           1            0           0  \n",
              "\n",
              "[18658 rows x 51 columns]"
            ]
          },
          "execution_count": 49,
          "metadata": {},
          "output_type": "execute_result"
        }
      ],
      "source": [
        "one_hot_encoded_data"
      ]
    },
    {
      "cell_type": "code",
      "execution_count": null,
      "metadata": {
        "id": "kWiUEcNq4WLh"
      },
      "outputs": [],
      "source": [
        "one_hot_encoded_data.to_csv('Raw Data/PreprocessedData.csv')"
      ]
    },
    {
      "cell_type": "markdown",
      "metadata": {
        "id": "fYJxLVxD4WLh"
      },
      "source": [
        "### Model Training"
      ]
    },
    {
      "cell_type": "code",
      "execution_count": 5,
      "metadata": {
        "id": "q9d-7bqn4WLh"
      },
      "outputs": [],
      "source": [
        "one_hot_encoded_data = pd.read_csv('/content/PreprocessedData.csv')"
      ]
    },
    {
      "cell_type": "code",
      "execution_count": 9,
      "metadata": {
        "id": "ruv5GV9Q4WLh"
      },
      "outputs": [],
      "source": [
        "from sklearn.model_selection import train_test_split\n",
        "\n",
        "X_train, X_test, Y_train, Y_test = train_test_split(one_hot_encoded_data, Y , test_size=0.33, random_state=42)"
      ]
    },
    {
      "cell_type": "code",
      "execution_count": 10,
      "metadata": {
        "id": "igImt8WL4WLh"
      },
      "outputs": [],
      "source": [
        "from sklearn.discriminant_analysis import LinearDiscriminantAnalysis\n",
        "from sklearn.svm import SVC\n",
        "from sklearn.metrics import accuracy_score\n",
        "from sklearn.neighbors import KNeighborsClassifier\n",
        "from sklearn.naive_bayes import GaussianNB\n",
        "from sklearn.linear_model import LogisticRegression\n",
        "from sklearn.tree import DecisionTreeClassifier\n",
        "from sklearn.ensemble import RandomForestClassifier\n",
        "from sklearn.decomposition import PCA\n",
        "from sklearn.pipeline import make_pipeline\n",
        "from sklearn.model_selection import cross_val_score,KFold\n",
        "lin_svc=SVC(kernel='linear')"
      ]
    },
    {
      "cell_type": "markdown",
      "metadata": {
        "id": "FU9oJK4w4WLi"
      },
      "source": [
        "### Without cross validation "
      ]
    },
    {
      "cell_type": "code",
      "source": [
        "SVM_RBF=SVC()\n",
        "    \n",
        "SVM_Poly2=SVC(kernel='poly',degree=2)\n",
        "    \n",
        "SVM_Poly3=SVC(kernel='poly',degree=3)\n",
        "\n",
        "KNN3=KNeighborsClassifier(n_neighbors=3,weights='distance')\n",
        "\n",
        "KNN8=KNeighborsClassifier(n_neighbors=8,weights='distance')\n",
        "\n",
        "KNN15=KNeighborsClassifier(n_neighbors=15,weights='distance')\n",
        "\n",
        "Naive_Bayes=GaussianNB()\n",
        "\n",
        "LogReg=LogisticRegression()\n",
        "\n",
        "Tree=DecisionTreeClassifier()\n",
        "\n",
        "Forest=RandomForestClassifier()\n",
        "\n",
        "models=[SVM_RBF,SVM_Poly2,SVM_Poly3,KNN3,KNN8,KNN15,Naive_Bayes,LogReg,Tree,Forest]\n",
        "\n",
        "names=[\"SVM_RBF\",\"SVM_Poly2\",\"SVM_Poly3\",\"Weighted 3NearestNeighbors\",\"Weighted 8NearestNeighbors\",\n",
        "       \"Weighted 15NearestNeighbors\",\"Naive Bayes\",\"Logistic Regression\",\"Decision Tree\",\"Random Forest\"]"
      ],
      "metadata": {
        "id": "0dqPaZvb78qZ"
      },
      "execution_count": 15,
      "outputs": []
    },
    {
      "cell_type": "code",
      "execution_count": null,
      "metadata": {
        "id": "rsrajIx_4WLi",
        "outputId": "435fe98c-2d06-4ad5-944d-a7dd6def66f0"
      },
      "outputs": [
        {
          "name": "stdout",
          "output_type": "stream",
          "text": [
            "the accuracy of SVM_RBF for train is :  0.54688 and for test 0.5388113023708997\n",
            "the accuracy of SVM_Poly2 for train is :  0.54688 and for test 0.5388113023708997\n",
            "the accuracy of SVM_Poly3 for train is :  0.54688 and for test 0.5388113023708997\n",
            "the accuracy of Weighted 3NearestNeighbors for train is :  1.0 and for test 0.42270217603117893\n",
            "the accuracy of Weighted 8NearestNeighbors for train is :  1.0 and for test 0.47190646313738227\n",
            "the accuracy of Weighted 15NearestNeighbors for train is :  1.0 and for test 0.5004871711594674\n",
            "the accuracy of Naive Bayes for train is :  0.60568 and for test 0.6109126339720689\n"
          ]
        },
        {
          "name": "stderr",
          "output_type": "stream",
          "text": [
            "/home/nsad/anaconda3/lib/python3.7/site-packages/sklearn/linear_model/_logistic.py:940: ConvergenceWarning: lbfgs failed to converge (status=1):\n",
            "STOP: TOTAL NO. of ITERATIONS REACHED LIMIT.\n",
            "\n",
            "Increase the number of iterations (max_iter) or scale the data as shown in:\n",
            "    https://scikit-learn.org/stable/modules/preprocessing.html\n",
            "Please also refer to the documentation for alternative solver options:\n",
            "    https://scikit-learn.org/stable/modules/linear_model.html#logistic-regression\n",
            "  extra_warning_msg=_LOGISTIC_SOLVER_CONVERGENCE_MSG)\n",
            "/home/nsad/anaconda3/lib/python3.7/site-packages/sklearn/linear_model/_logistic.py:940: ConvergenceWarning: lbfgs failed to converge (status=1):\n",
            "STOP: TOTAL NO. of ITERATIONS REACHED LIMIT.\n",
            "\n",
            "Increase the number of iterations (max_iter) or scale the data as shown in:\n",
            "    https://scikit-learn.org/stable/modules/preprocessing.html\n",
            "Please also refer to the documentation for alternative solver options:\n",
            "    https://scikit-learn.org/stable/modules/linear_model.html#logistic-regression\n",
            "  extra_warning_msg=_LOGISTIC_SOLVER_CONVERGENCE_MSG)\n",
            "/home/nsad/anaconda3/lib/python3.7/site-packages/sklearn/linear_model/_logistic.py:940: ConvergenceWarning: lbfgs failed to converge (status=1):\n",
            "STOP: TOTAL NO. of ITERATIONS REACHED LIMIT.\n",
            "\n",
            "Increase the number of iterations (max_iter) or scale the data as shown in:\n",
            "    https://scikit-learn.org/stable/modules/preprocessing.html\n",
            "Please also refer to the documentation for alternative solver options:\n",
            "    https://scikit-learn.org/stable/modules/linear_model.html#logistic-regression\n",
            "  extra_warning_msg=_LOGISTIC_SOLVER_CONVERGENCE_MSG)\n",
            "/home/nsad/anaconda3/lib/python3.7/site-packages/sklearn/linear_model/_logistic.py:940: ConvergenceWarning: lbfgs failed to converge (status=1):\n",
            "STOP: TOTAL NO. of ITERATIONS REACHED LIMIT.\n",
            "\n",
            "Increase the number of iterations (max_iter) or scale the data as shown in:\n",
            "    https://scikit-learn.org/stable/modules/preprocessing.html\n",
            "Please also refer to the documentation for alternative solver options:\n",
            "    https://scikit-learn.org/stable/modules/linear_model.html#logistic-regression\n",
            "  extra_warning_msg=_LOGISTIC_SOLVER_CONVERGENCE_MSG)\n",
            "/home/nsad/anaconda3/lib/python3.7/site-packages/sklearn/linear_model/_logistic.py:940: ConvergenceWarning: lbfgs failed to converge (status=1):\n",
            "STOP: TOTAL NO. of ITERATIONS REACHED LIMIT.\n",
            "\n",
            "Increase the number of iterations (max_iter) or scale the data as shown in:\n",
            "    https://scikit-learn.org/stable/modules/preprocessing.html\n",
            "Please also refer to the documentation for alternative solver options:\n",
            "    https://scikit-learn.org/stable/modules/linear_model.html#logistic-regression\n",
            "  extra_warning_msg=_LOGISTIC_SOLVER_CONVERGENCE_MSG)\n",
            "/home/nsad/anaconda3/lib/python3.7/site-packages/sklearn/linear_model/_logistic.py:940: ConvergenceWarning: lbfgs failed to converge (status=1):\n",
            "STOP: TOTAL NO. of ITERATIONS REACHED LIMIT.\n",
            "\n",
            "Increase the number of iterations (max_iter) or scale the data as shown in:\n",
            "    https://scikit-learn.org/stable/modules/preprocessing.html\n",
            "Please also refer to the documentation for alternative solver options:\n",
            "    https://scikit-learn.org/stable/modules/linear_model.html#logistic-regression\n",
            "  extra_warning_msg=_LOGISTIC_SOLVER_CONVERGENCE_MSG)\n",
            "/home/nsad/anaconda3/lib/python3.7/site-packages/sklearn/linear_model/_logistic.py:940: ConvergenceWarning: lbfgs failed to converge (status=1):\n",
            "STOP: TOTAL NO. of ITERATIONS REACHED LIMIT.\n",
            "\n",
            "Increase the number of iterations (max_iter) or scale the data as shown in:\n",
            "    https://scikit-learn.org/stable/modules/preprocessing.html\n",
            "Please also refer to the documentation for alternative solver options:\n",
            "    https://scikit-learn.org/stable/modules/linear_model.html#logistic-regression\n",
            "  extra_warning_msg=_LOGISTIC_SOLVER_CONVERGENCE_MSG)\n",
            "/home/nsad/anaconda3/lib/python3.7/site-packages/sklearn/linear_model/_logistic.py:940: ConvergenceWarning: lbfgs failed to converge (status=1):\n",
            "STOP: TOTAL NO. of ITERATIONS REACHED LIMIT.\n",
            "\n",
            "Increase the number of iterations (max_iter) or scale the data as shown in:\n",
            "    https://scikit-learn.org/stable/modules/preprocessing.html\n",
            "Please also refer to the documentation for alternative solver options:\n",
            "    https://scikit-learn.org/stable/modules/linear_model.html#logistic-regression\n",
            "  extra_warning_msg=_LOGISTIC_SOLVER_CONVERGENCE_MSG)\n",
            "/home/nsad/anaconda3/lib/python3.7/site-packages/sklearn/linear_model/_logistic.py:940: ConvergenceWarning: lbfgs failed to converge (status=1):\n",
            "STOP: TOTAL NO. of ITERATIONS REACHED LIMIT.\n",
            "\n",
            "Increase the number of iterations (max_iter) or scale the data as shown in:\n",
            "    https://scikit-learn.org/stable/modules/preprocessing.html\n",
            "Please also refer to the documentation for alternative solver options:\n",
            "    https://scikit-learn.org/stable/modules/linear_model.html#logistic-regression\n",
            "  extra_warning_msg=_LOGISTIC_SOLVER_CONVERGENCE_MSG)\n",
            "/home/nsad/anaconda3/lib/python3.7/site-packages/sklearn/linear_model/_logistic.py:940: ConvergenceWarning: lbfgs failed to converge (status=1):\n",
            "STOP: TOTAL NO. of ITERATIONS REACHED LIMIT.\n",
            "\n",
            "Increase the number of iterations (max_iter) or scale the data as shown in:\n",
            "    https://scikit-learn.org/stable/modules/preprocessing.html\n",
            "Please also refer to the documentation for alternative solver options:\n",
            "    https://scikit-learn.org/stable/modules/linear_model.html#logistic-regression\n",
            "  extra_warning_msg=_LOGISTIC_SOLVER_CONVERGENCE_MSG)\n",
            "/home/nsad/anaconda3/lib/python3.7/site-packages/sklearn/linear_model/_logistic.py:940: ConvergenceWarning: lbfgs failed to converge (status=1):\n",
            "STOP: TOTAL NO. of ITERATIONS REACHED LIMIT.\n",
            "\n",
            "Increase the number of iterations (max_iter) or scale the data as shown in:\n",
            "    https://scikit-learn.org/stable/modules/preprocessing.html\n",
            "Please also refer to the documentation for alternative solver options:\n",
            "    https://scikit-learn.org/stable/modules/linear_model.html#logistic-regression\n",
            "  extra_warning_msg=_LOGISTIC_SOLVER_CONVERGENCE_MSG)\n",
            "/home/nsad/anaconda3/lib/python3.7/site-packages/sklearn/linear_model/_logistic.py:940: ConvergenceWarning: lbfgs failed to converge (status=1):\n",
            "STOP: TOTAL NO. of ITERATIONS REACHED LIMIT.\n",
            "\n",
            "Increase the number of iterations (max_iter) or scale the data as shown in:\n",
            "    https://scikit-learn.org/stable/modules/preprocessing.html\n",
            "Please also refer to the documentation for alternative solver options:\n",
            "    https://scikit-learn.org/stable/modules/linear_model.html#logistic-regression\n",
            "  extra_warning_msg=_LOGISTIC_SOLVER_CONVERGENCE_MSG)\n",
            "/home/nsad/anaconda3/lib/python3.7/site-packages/sklearn/linear_model/_logistic.py:940: ConvergenceWarning: lbfgs failed to converge (status=1):\n",
            "STOP: TOTAL NO. of ITERATIONS REACHED LIMIT.\n",
            "\n",
            "Increase the number of iterations (max_iter) or scale the data as shown in:\n",
            "    https://scikit-learn.org/stable/modules/preprocessing.html\n",
            "Please also refer to the documentation for alternative solver options:\n",
            "    https://scikit-learn.org/stable/modules/linear_model.html#logistic-regression\n",
            "  extra_warning_msg=_LOGISTIC_SOLVER_CONVERGENCE_MSG)\n",
            "/home/nsad/anaconda3/lib/python3.7/site-packages/sklearn/linear_model/_logistic.py:940: ConvergenceWarning: lbfgs failed to converge (status=1):\n",
            "STOP: TOTAL NO. of ITERATIONS REACHED LIMIT.\n",
            "\n",
            "Increase the number of iterations (max_iter) or scale the data as shown in:\n",
            "    https://scikit-learn.org/stable/modules/preprocessing.html\n",
            "Please also refer to the documentation for alternative solver options:\n",
            "    https://scikit-learn.org/stable/modules/linear_model.html#logistic-regression\n",
            "  extra_warning_msg=_LOGISTIC_SOLVER_CONVERGENCE_MSG)\n",
            "/home/nsad/anaconda3/lib/python3.7/site-packages/sklearn/linear_model/_logistic.py:940: ConvergenceWarning: lbfgs failed to converge (status=1):\n",
            "STOP: TOTAL NO. of ITERATIONS REACHED LIMIT.\n",
            "\n",
            "Increase the number of iterations (max_iter) or scale the data as shown in:\n",
            "    https://scikit-learn.org/stable/modules/preprocessing.html\n",
            "Please also refer to the documentation for alternative solver options:\n",
            "    https://scikit-learn.org/stable/modules/linear_model.html#logistic-regression\n",
            "  extra_warning_msg=_LOGISTIC_SOLVER_CONVERGENCE_MSG)\n",
            "/home/nsad/anaconda3/lib/python3.7/site-packages/sklearn/linear_model/_logistic.py:940: ConvergenceWarning: lbfgs failed to converge (status=1):\n",
            "STOP: TOTAL NO. of ITERATIONS REACHED LIMIT.\n",
            "\n",
            "Increase the number of iterations (max_iter) or scale the data as shown in:\n",
            "    https://scikit-learn.org/stable/modules/preprocessing.html\n",
            "Please also refer to the documentation for alternative solver options:\n",
            "    https://scikit-learn.org/stable/modules/linear_model.html#logistic-regression\n",
            "  extra_warning_msg=_LOGISTIC_SOLVER_CONVERGENCE_MSG)\n"
          ]
        },
        {
          "name": "stderr",
          "output_type": "stream",
          "text": [
            "/home/nsad/anaconda3/lib/python3.7/site-packages/sklearn/linear_model/_logistic.py:940: ConvergenceWarning: lbfgs failed to converge (status=1):\n",
            "STOP: TOTAL NO. of ITERATIONS REACHED LIMIT.\n",
            "\n",
            "Increase the number of iterations (max_iter) or scale the data as shown in:\n",
            "    https://scikit-learn.org/stable/modules/preprocessing.html\n",
            "Please also refer to the documentation for alternative solver options:\n",
            "    https://scikit-learn.org/stable/modules/linear_model.html#logistic-regression\n",
            "  extra_warning_msg=_LOGISTIC_SOLVER_CONVERGENCE_MSG)\n"
          ]
        },
        {
          "name": "stdout",
          "output_type": "stream",
          "text": [
            "the accuracy of Logistic Regression for train is :  0.61144 and for test 0.6209808379343943\n",
            "the accuracy of Decision Tree for train is :  1.0 and for test 0.5001623903864891\n",
            "the accuracy of Random Forest for train is :  0.99992 and for test 0.6183825917505683\n"
          ]
        }
      ],
      "source": [
        "\n",
        "for index in range(10):\n",
        "    \n",
        "    pca_tr_acc=[]\n",
        "    \n",
        "    pca_ts_acc=[]\n",
        "    \n",
        "    for n_comps in range(1,25):\n",
        "\n",
        "            model=models[index]\n",
        "\n",
        "            pca=PCA(n_components=n_comps)\n",
        "\n",
        "            pca_model=make_pipeline(pca,model)\n",
        "\n",
        "            pca_model.fit(X_train,Y_train)\n",
        "\n",
        "            y_tr_pred= pca_model.predict(X_train)\n",
        "\n",
        "            pca_tr_acc.append(accuracy_score(y_tr_pred,Y_train))\n",
        "\n",
        "            y_ts_pred=pca_model.predict(X_test)\n",
        "\n",
        "            pca_ts_acc.append(accuracy_score(y_ts_pred,Y_test))\n",
        "\n",
        "    print(f'the accuracy of {names[index]} for train is : ' , max(pca_tr_acc) , 'and for test' , max(pca_ts_acc) )"
      ]
    },
    {
      "cell_type": "markdown",
      "metadata": {
        "id": "5FZITRtF4WLj"
      },
      "source": [
        "### with cross vald"
      ]
    },
    {
      "cell_type": "code",
      "execution_count": 20,
      "metadata": {
        "colab": {
          "base_uri": "https://localhost:8080/",
          "height": 0
        },
        "id": "4n4-xaaf4WLj",
        "outputId": "6ac65a29-7d04-4a9d-a857-3f8b02ca5bac"
      },
      "outputs": [
        {
          "output_type": "stream",
          "name": "stdout",
          "text": [
            "the accuracy of SVM_RBF  with CROSS VALIDATION is :  [array([0.538 , 0.5536, 0.5456, 0.5396, 0.5576]), array([0.538 , 0.5536, 0.5456, 0.5396, 0.5576]), array([0.538 , 0.5536, 0.5456, 0.5396, 0.5576]), array([0.538 , 0.5536, 0.5456, 0.5396, 0.5576])]\n",
            "[0.538  0.5536 0.5456 0.5396 0.5576]\n",
            "the accuracy of SVM_Poly2  with CROSS VALIDATION is :  [array([0.538 , 0.5536, 0.5456, 0.5396, 0.5576]), array([0.538 , 0.5536, 0.5456, 0.5396, 0.5576]), array([0.538 , 0.5536, 0.5456, 0.5396, 0.5576]), array([0.538 , 0.5536, 0.5456, 0.5396, 0.5576])]\n",
            "[0.538  0.5536 0.5456 0.5396 0.5576]\n",
            "the accuracy of SVM_Poly3  with CROSS VALIDATION is :  [array([0.538 , 0.5536, 0.5456, 0.5396, 0.5576]), array([0.538 , 0.5536, 0.5456, 0.5396, 0.5576]), array([0.538 , 0.5536, 0.5456, 0.5396, 0.5576]), array([0.538 , 0.5536, 0.5456, 0.5396, 0.5576])]\n",
            "[0.538  0.5536 0.5456 0.5396 0.5576]\n",
            "the accuracy of Weighted 3NearestNeighbors  with CROSS VALIDATION is :  [array([0.416 , 0.4384, 0.4308, 0.412 , 0.4272]), array([0.4092, 0.4364, 0.4256, 0.424 , 0.4272]), array([0.4064, 0.4336, 0.4252, 0.4264, 0.4292]), array([0.4072, 0.4308, 0.4292, 0.4256, 0.4288])]\n",
            "[0.4097 0.4348 0.4277 0.422  0.4281]\n",
            "the accuracy of Weighted 8NearestNeighbors  with CROSS VALIDATION is :  [array([0.4572, 0.4856, 0.4732, 0.4648, 0.4792]), array([0.4588, 0.494 , 0.4828, 0.4656, 0.48  ]), array([0.4644, 0.496 , 0.4848, 0.4704, 0.4828]), array([0.464 , 0.4944, 0.4852, 0.4716, 0.4844])]\n",
            "[0.4611 0.4925 0.4815 0.4681 0.4816]\n",
            "the accuracy of Weighted 15NearestNeighbors  with CROSS VALIDATION is :  [array([0.4804, 0.5136, 0.512 , 0.4876, 0.5   ]), array([0.488 , 0.5136, 0.516 , 0.4928, 0.5048]), array([0.4896, 0.5164, 0.5148, 0.4952, 0.5084]), array([0.4932, 0.5164, 0.5172, 0.4976, 0.5096])]\n",
            "[0.4878 0.515  0.515  0.4933 0.5057]\n",
            "the accuracy of Naive Bayes  with CROSS VALIDATION is :  [array([0.6016, 0.6112, 0.6004, 0.5916, 0.6128]), array([0.5696, 0.5872, 0.5868, 0.562 , 0.5952]), array([0.5616, 0.5792, 0.5852, 0.5612, 0.5924]), array([0.506 , 0.5004, 0.516 , 0.5152, 0.5232])]\n",
            "[0.5597 0.5695 0.5721 0.5575 0.5809]\n"
          ]
        },
        {
          "output_type": "stream",
          "name": "stderr",
          "text": [
            "/usr/local/lib/python3.7/dist-packages/sklearn/linear_model/_logistic.py:818: ConvergenceWarning: lbfgs failed to converge (status=1):\n",
            "STOP: TOTAL NO. of ITERATIONS REACHED LIMIT.\n",
            "\n",
            "Increase the number of iterations (max_iter) or scale the data as shown in:\n",
            "    https://scikit-learn.org/stable/modules/preprocessing.html\n",
            "Please also refer to the documentation for alternative solver options:\n",
            "    https://scikit-learn.org/stable/modules/linear_model.html#logistic-regression\n",
            "  extra_warning_msg=_LOGISTIC_SOLVER_CONVERGENCE_MSG,\n",
            "/usr/local/lib/python3.7/dist-packages/sklearn/linear_model/_logistic.py:818: ConvergenceWarning: lbfgs failed to converge (status=1):\n",
            "STOP: TOTAL NO. of ITERATIONS REACHED LIMIT.\n",
            "\n",
            "Increase the number of iterations (max_iter) or scale the data as shown in:\n",
            "    https://scikit-learn.org/stable/modules/preprocessing.html\n",
            "Please also refer to the documentation for alternative solver options:\n",
            "    https://scikit-learn.org/stable/modules/linear_model.html#logistic-regression\n",
            "  extra_warning_msg=_LOGISTIC_SOLVER_CONVERGENCE_MSG,\n",
            "/usr/local/lib/python3.7/dist-packages/sklearn/linear_model/_logistic.py:818: ConvergenceWarning: lbfgs failed to converge (status=1):\n",
            "STOP: TOTAL NO. of ITERATIONS REACHED LIMIT.\n",
            "\n",
            "Increase the number of iterations (max_iter) or scale the data as shown in:\n",
            "    https://scikit-learn.org/stable/modules/preprocessing.html\n",
            "Please also refer to the documentation for alternative solver options:\n",
            "    https://scikit-learn.org/stable/modules/linear_model.html#logistic-regression\n",
            "  extra_warning_msg=_LOGISTIC_SOLVER_CONVERGENCE_MSG,\n",
            "/usr/local/lib/python3.7/dist-packages/sklearn/linear_model/_logistic.py:818: ConvergenceWarning: lbfgs failed to converge (status=1):\n",
            "STOP: TOTAL NO. of ITERATIONS REACHED LIMIT.\n",
            "\n",
            "Increase the number of iterations (max_iter) or scale the data as shown in:\n",
            "    https://scikit-learn.org/stable/modules/preprocessing.html\n",
            "Please also refer to the documentation for alternative solver options:\n",
            "    https://scikit-learn.org/stable/modules/linear_model.html#logistic-regression\n",
            "  extra_warning_msg=_LOGISTIC_SOLVER_CONVERGENCE_MSG,\n",
            "/usr/local/lib/python3.7/dist-packages/sklearn/linear_model/_logistic.py:818: ConvergenceWarning: lbfgs failed to converge (status=1):\n",
            "STOP: TOTAL NO. of ITERATIONS REACHED LIMIT.\n",
            "\n",
            "Increase the number of iterations (max_iter) or scale the data as shown in:\n",
            "    https://scikit-learn.org/stable/modules/preprocessing.html\n",
            "Please also refer to the documentation for alternative solver options:\n",
            "    https://scikit-learn.org/stable/modules/linear_model.html#logistic-regression\n",
            "  extra_warning_msg=_LOGISTIC_SOLVER_CONVERGENCE_MSG,\n",
            "/usr/local/lib/python3.7/dist-packages/sklearn/linear_model/_logistic.py:818: ConvergenceWarning: lbfgs failed to converge (status=1):\n",
            "STOP: TOTAL NO. of ITERATIONS REACHED LIMIT.\n",
            "\n",
            "Increase the number of iterations (max_iter) or scale the data as shown in:\n",
            "    https://scikit-learn.org/stable/modules/preprocessing.html\n",
            "Please also refer to the documentation for alternative solver options:\n",
            "    https://scikit-learn.org/stable/modules/linear_model.html#logistic-regression\n",
            "  extra_warning_msg=_LOGISTIC_SOLVER_CONVERGENCE_MSG,\n",
            "/usr/local/lib/python3.7/dist-packages/sklearn/linear_model/_logistic.py:818: ConvergenceWarning: lbfgs failed to converge (status=1):\n",
            "STOP: TOTAL NO. of ITERATIONS REACHED LIMIT.\n",
            "\n",
            "Increase the number of iterations (max_iter) or scale the data as shown in:\n",
            "    https://scikit-learn.org/stable/modules/preprocessing.html\n",
            "Please also refer to the documentation for alternative solver options:\n",
            "    https://scikit-learn.org/stable/modules/linear_model.html#logistic-regression\n",
            "  extra_warning_msg=_LOGISTIC_SOLVER_CONVERGENCE_MSG,\n",
            "/usr/local/lib/python3.7/dist-packages/sklearn/linear_model/_logistic.py:818: ConvergenceWarning: lbfgs failed to converge (status=1):\n",
            "STOP: TOTAL NO. of ITERATIONS REACHED LIMIT.\n",
            "\n",
            "Increase the number of iterations (max_iter) or scale the data as shown in:\n",
            "    https://scikit-learn.org/stable/modules/preprocessing.html\n",
            "Please also refer to the documentation for alternative solver options:\n",
            "    https://scikit-learn.org/stable/modules/linear_model.html#logistic-regression\n",
            "  extra_warning_msg=_LOGISTIC_SOLVER_CONVERGENCE_MSG,\n",
            "/usr/local/lib/python3.7/dist-packages/sklearn/linear_model/_logistic.py:818: ConvergenceWarning: lbfgs failed to converge (status=1):\n",
            "STOP: TOTAL NO. of ITERATIONS REACHED LIMIT.\n",
            "\n",
            "Increase the number of iterations (max_iter) or scale the data as shown in:\n",
            "    https://scikit-learn.org/stable/modules/preprocessing.html\n",
            "Please also refer to the documentation for alternative solver options:\n",
            "    https://scikit-learn.org/stable/modules/linear_model.html#logistic-regression\n",
            "  extra_warning_msg=_LOGISTIC_SOLVER_CONVERGENCE_MSG,\n",
            "/usr/local/lib/python3.7/dist-packages/sklearn/linear_model/_logistic.py:818: ConvergenceWarning: lbfgs failed to converge (status=1):\n",
            "STOP: TOTAL NO. of ITERATIONS REACHED LIMIT.\n",
            "\n",
            "Increase the number of iterations (max_iter) or scale the data as shown in:\n",
            "    https://scikit-learn.org/stable/modules/preprocessing.html\n",
            "Please also refer to the documentation for alternative solver options:\n",
            "    https://scikit-learn.org/stable/modules/linear_model.html#logistic-regression\n",
            "  extra_warning_msg=_LOGISTIC_SOLVER_CONVERGENCE_MSG,\n",
            "/usr/local/lib/python3.7/dist-packages/sklearn/linear_model/_logistic.py:818: ConvergenceWarning: lbfgs failed to converge (status=1):\n",
            "STOP: TOTAL NO. of ITERATIONS REACHED LIMIT.\n",
            "\n",
            "Increase the number of iterations (max_iter) or scale the data as shown in:\n",
            "    https://scikit-learn.org/stable/modules/preprocessing.html\n",
            "Please also refer to the documentation for alternative solver options:\n",
            "    https://scikit-learn.org/stable/modules/linear_model.html#logistic-regression\n",
            "  extra_warning_msg=_LOGISTIC_SOLVER_CONVERGENCE_MSG,\n",
            "/usr/local/lib/python3.7/dist-packages/sklearn/linear_model/_logistic.py:818: ConvergenceWarning: lbfgs failed to converge (status=1):\n",
            "STOP: TOTAL NO. of ITERATIONS REACHED LIMIT.\n",
            "\n",
            "Increase the number of iterations (max_iter) or scale the data as shown in:\n",
            "    https://scikit-learn.org/stable/modules/preprocessing.html\n",
            "Please also refer to the documentation for alternative solver options:\n",
            "    https://scikit-learn.org/stable/modules/linear_model.html#logistic-regression\n",
            "  extra_warning_msg=_LOGISTIC_SOLVER_CONVERGENCE_MSG,\n",
            "/usr/local/lib/python3.7/dist-packages/sklearn/linear_model/_logistic.py:818: ConvergenceWarning: lbfgs failed to converge (status=1):\n",
            "STOP: TOTAL NO. of ITERATIONS REACHED LIMIT.\n",
            "\n",
            "Increase the number of iterations (max_iter) or scale the data as shown in:\n",
            "    https://scikit-learn.org/stable/modules/preprocessing.html\n",
            "Please also refer to the documentation for alternative solver options:\n",
            "    https://scikit-learn.org/stable/modules/linear_model.html#logistic-regression\n",
            "  extra_warning_msg=_LOGISTIC_SOLVER_CONVERGENCE_MSG,\n"
          ]
        },
        {
          "output_type": "stream",
          "name": "stdout",
          "text": [
            "the accuracy of Logistic Regression  with CROSS VALIDATION is :  [array([0.6048, 0.6128, 0.5968, 0.5948, 0.6076]), array([0.596 , 0.608 , 0.6032, 0.5876, 0.6028]), array([0.596 , 0.6068, 0.5984, 0.5976, 0.6072]), array([0.5976, 0.6188, 0.6   , 0.5976, 0.6084])]\n",
            "[0.5986 0.6116 0.5996 0.5944 0.6065]\n",
            "the accuracy of Decision Tree  with CROSS VALIDATION is :  [array([0.492 , 0.4852, 0.4768, 0.4824, 0.4948]), array([0.5104, 0.4852, 0.4788, 0.484 , 0.5064]), array([0.4808, 0.4828, 0.494 , 0.4844, 0.4996]), array([0.4972, 0.4904, 0.4856, 0.4808, 0.4932])]\n",
            "[0.4951 0.4859 0.4838 0.4829 0.4985]\n",
            "the accuracy of Random Forest  with CROSS VALIDATION is :  [array([0.596 , 0.594 , 0.6072, 0.592 , 0.6104]), array([0.6004, 0.6016, 0.608 , 0.602 , 0.6212]), array([0.6108, 0.6208, 0.6176, 0.5972, 0.6264]), array([0.6132, 0.616 , 0.6216, 0.6004, 0.6316])]\n",
            "[0.6051 0.6081 0.6136 0.5979 0.6224]\n"
          ]
        }
      ],
      "source": [
        "import statistics\n",
        "for index in range(10):\n",
        "  \n",
        "    score = []\n",
        "    \n",
        "    for n_comps in [5,10,15,25]:\n",
        "\n",
        "            model=models[index]\n",
        "\n",
        "            pca=PCA(n_components=n_comps)\n",
        "\n",
        "            pca_model=make_pipeline(pca,model)\n",
        "            \n",
        "            kf=KFold(n_splits=5)\n",
        "            \n",
        "            score.append(cross_val_score(pca_model, X_train, Y_train, cv=kf))\n",
        "            \n",
        "    print(f'the accuracy of {names[index]}  with CROSS VALIDATION is : ' , score  )\n",
        "    print(sum(score)/len(score))"
      ]
    },
    {
      "cell_type": "code",
      "execution_count": null,
      "metadata": {
        "id": "FRG5qBCn4WLk"
      },
      "outputs": [],
      "source": [
        "Y_train = Y_train -1\n",
        "Y_test = Y_test -1"
      ]
    },
    {
      "cell_type": "code",
      "execution_count": 12,
      "metadata": {
        "colab": {
          "base_uri": "https://localhost:8080/",
          "height": 0
        },
        "id": "41r1o7sd4WLk",
        "outputId": "51ab06f2-b397-46d7-f3fa-09c49bc196ad"
      },
      "outputs": [
        {
          "output_type": "execute_result",
          "data": {
            "text/plain": [
              "0.6581682364404027"
            ]
          },
          "metadata": {},
          "execution_count": 12
        }
      ],
      "source": [
        "import xgboost as xgb\n",
        "from sklearn.metrics import accuracy_score\n",
        "\n",
        "# Init classifier\n",
        "xgb_cl = xgb.XGBClassifier()\n",
        "\n",
        "# Fit\n",
        "xgb_cl.fit(X_train, Y_train)\n",
        "\n",
        "# Predict\n",
        "preds = xgb_cl.predict(X_test)\n",
        "\n",
        "# Score\n",
        "accuracy_score(Y_test, preds)"
      ]
    },
    {
      "cell_type": "code",
      "execution_count": 13,
      "metadata": {
        "colab": {
          "base_uri": "https://localhost:8080/",
          "height": 0
        },
        "id": "X54rLiKD4WLl",
        "outputId": "598d877a-cf79-4e8e-84a9-153deb2f6469"
      },
      "outputs": [
        {
          "output_type": "stream",
          "name": "stdout",
          "text": [
            "Cross Validation Scores are [0.67857143 0.65178571 0.6525974  0.64500406 0.6303818 ]\n",
            "Average Cross Validation score :0.6516680821209659\n"
          ]
        }
      ],
      "source": [
        "# Init classifier\n",
        "xgb_cl = xgb.XGBClassifier()\n",
        "kf=KFold(n_splits=5)\n",
        "score=cross_val_score(xgb_cl,X_test,Y_test,cv=kf)\n",
        "print(\"Cross Validation Scores are {}\".format(score))\n",
        "print(\"Average Cross Validation score :{}\".format(score.mean()))"
      ]
    },
    {
      "cell_type": "markdown",
      "metadata": {
        "id": "jvNd0S0C4WLl"
      },
      "source": []
    }
  ],
  "metadata": {
    "kernelspec": {
      "display_name": "Python 3",
      "language": "python",
      "name": "python3"
    },
    "language_info": {
      "codemirror_mode": {
        "name": "ipython",
        "version": 3
      },
      "file_extension": ".py",
      "mimetype": "text/x-python",
      "name": "python",
      "nbconvert_exporter": "python",
      "pygments_lexer": "ipython3",
      "version": "3.7.6"
    },
    "colab": {
      "provenance": [],
      "include_colab_link": true
    }
  },
  "nbformat": 4,
  "nbformat_minor": 0
}